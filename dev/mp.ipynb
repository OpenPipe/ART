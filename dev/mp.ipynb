{
 "cells": [
  {
   "cell_type": "code",
   "execution_count": 1,
   "metadata": {},
   "outputs": [
    {
     "name": "stderr",
     "output_type": "stream",
     "text": [
      "Process Process-1:\n",
      "Traceback (most recent call last):\n",
      "  File \"/Users/brad/.local/share/uv/python/cpython-3.12.6-macos-aarch64-none/lib/python3.12/multiprocessing/process.py\", line 314, in _bootstrap\n",
      "    self.run()\n",
      "  File \"/Users/brad/.local/share/uv/python/cpython-3.12.6-macos-aarch64-none/lib/python3.12/multiprocessing/process.py\", line 108, in run\n",
      "    self._target(*self._args, **self._kwargs)\n",
      "  File \"/Users/brad/github/OpenPipe/agent-reinforcement-training/src/mp_actors/move.py\", line 158, in _target\n",
      "    asyncio.run(_handle_requests(obj, requests, responses))\n",
      "  File \"/Users/brad/github/OpenPipe/agent-reinforcement-training/.venv/lib/python3.12/site-packages/nest_asyncio.py\", line 30, in run\n",
      "    return loop.run_until_complete(task)\n",
      "           ^^^^^^^^^^^^^^^^^^^^^^^^^^^^^\n",
      "  File \"/Users/brad/github/OpenPipe/agent-reinforcement-training/.venv/lib/python3.12/site-packages/nest_asyncio.py\", line 98, in run_until_complete\n",
      "    return f.result()\n",
      "           ^^^^^^^^^^\n",
      "  File \"/Users/brad/.local/share/uv/python/cpython-3.12.6-macos-aarch64-none/lib/python3.12/asyncio/futures.py\", line 203, in result\n",
      "    raise self._exception.with_traceback(self._exception_tb)\n",
      "  File \"/Users/brad/.local/share/uv/python/cpython-3.12.6-macos-aarch64-none/lib/python3.12/asyncio/tasks.py\", line 316, in __step_run_and_handle_result\n",
      "    result = coro.throw(exc)\n",
      "             ^^^^^^^^^^^^^^^\n",
      "  File \"/Users/brad/github/OpenPipe/agent-reinforcement-training/src/mp_actors/move.py\", line 165, in _handle_requests\n",
      "    request: Request = await asyncio.get_event_loop().run_in_executor(\n",
      "                       ^^^^^^^^^^^^^^^^^^^^^^^^^^^^^^^^^^^^^^^^^^^^^^^\n",
      "  File \"/Users/brad/.local/share/uv/python/cpython-3.12.6-macos-aarch64-none/lib/python3.12/asyncio/futures.py\", line 291, in __await__\n",
      "    yield self  # This tells Task to wait for completion.\n",
      "    ^^^^^^^^^^\n",
      "  File \"/Users/brad/.local/share/uv/python/cpython-3.12.6-macos-aarch64-none/lib/python3.12/asyncio/tasks.py\", line 385, in __wakeup\n",
      "    future.result()\n",
      "  File \"/Users/brad/.local/share/uv/python/cpython-3.12.6-macos-aarch64-none/lib/python3.12/asyncio/futures.py\", line 203, in result\n",
      "    raise self._exception.with_traceback(self._exception_tb)\n",
      "  File \"/Users/brad/.local/share/uv/python/cpython-3.12.6-macos-aarch64-none/lib/python3.12/concurrent/futures/thread.py\", line 58, in run\n",
      "    result = self.fn(*self.args, **self.kwargs)\n",
      "             ^^^^^^^^^^^^^^^^^^^^^^^^^^^^^^^^^^\n",
      "  File \"/Users/brad/.local/share/uv/python/cpython-3.12.6-macos-aarch64-none/lib/python3.12/multiprocessing/queues.py\", line 103, in get\n",
      "    res = self._recv_bytes()\n",
      "          ^^^^^^^^^^^^^^^^^^\n",
      "  File \"/Users/brad/.local/share/uv/python/cpython-3.12.6-macos-aarch64-none/lib/python3.12/multiprocessing/connection.py\", line 216, in recv_bytes\n",
      "    buf = self._recv_bytes(maxlength)\n",
      "          ^^^^^^^^^^^^^^^^^^^^^^^^^^^\n",
      "  File \"/Users/brad/.local/share/uv/python/cpython-3.12.6-macos-aarch64-none/lib/python3.12/multiprocessing/connection.py\", line 430, in _recv_bytes\n",
      "    buf = self._recv(4)\n",
      "          ^^^^^^^^^^^^^\n",
      "  File \"/Users/brad/.local/share/uv/python/cpython-3.12.6-macos-aarch64-none/lib/python3.12/multiprocessing/connection.py\", line 395, in _recv\n",
      "    chunk = read(handle, remaining)\n",
      "            ^^^^^^^^^^^^^^^^^^^^^^^\n",
      "OSError: [Errno 9] Bad file descriptor\n",
      "Exception ignored in: <function _ConnectionBase.__del__ at 0x102e1af20>\n",
      "Traceback (most recent call last):\n",
      "  File \"/Users/brad/.local/share/uv/python/cpython-3.12.6-macos-aarch64-none/lib/python3.12/multiprocessing/connection.py\", line 133, in __del__\n",
      "  File \"/Users/brad/.local/share/uv/python/cpython-3.12.6-macos-aarch64-none/lib/python3.12/multiprocessing/connection.py\", line 377, in _close\n",
      "OSError: [Errno 9] Bad file descriptor\n",
      "Exception ignored in: <function _ConnectionBase.__del__ at 0x102e1af20>\n",
      "Traceback (most recent call last):\n",
      "  File \"/Users/brad/.local/share/uv/python/cpython-3.12.6-macos-aarch64-none/lib/python3.12/multiprocessing/connection.py\", line 133, in __del__\n",
      "  File \"/Users/brad/.local/share/uv/python/cpython-3.12.6-macos-aarch64-none/lib/python3.12/multiprocessing/connection.py\", line 377, in _close\n",
      "OSError: [Errno 9] Bad file descriptor\n",
      "Exception ignored in: <function _ConnectionBase.__del__ at 0x102e1af20>\n",
      "Traceback (most recent call last):\n",
      "  File \"/Users/brad/.local/share/uv/python/cpython-3.12.6-macos-aarch64-none/lib/python3.12/multiprocessing/connection.py\", line 133, in __del__\n",
      "  File \"/Users/brad/.local/share/uv/python/cpython-3.12.6-macos-aarch64-none/lib/python3.12/multiprocessing/connection.py\", line 377, in _close\n",
      "OSError: [Errno 9] Bad file descriptor\n",
      "Exception ignored in: <function _ConnectionBase.__del__ at 0x102e1af20>\n",
      "Traceback (most recent call last):\n",
      "  File \"/Users/brad/.local/share/uv/python/cpython-3.12.6-macos-aarch64-none/lib/python3.12/multiprocessing/connection.py\", line 133, in __del__\n",
      "  File \"/Users/brad/.local/share/uv/python/cpython-3.12.6-macos-aarch64-none/lib/python3.12/multiprocessing/connection.py\", line 377, in _close\n",
      "OSError: [Errno 9] Bad file descriptor\n"
     ]
    }
   ],
   "source": [
    "import asyncio\n",
    "from mp_actors import move_to_child_process\n",
    "from typing import AsyncGenerator\n",
    "\n",
    "\n",
    "class Service:\n",
    "    async def load_unsloth(self) -> None:\n",
    "        import unsloth\n",
    "\n",
    "    async def greet(self, name: str, sleep: float) -> str:\n",
    "        await asyncio.sleep(sleep)\n",
    "        return f\"Hello, {name}!\"\n",
    "\n",
    "    def raise_error(self) -> None:\n",
    "        raise ValueError(\"This is a test error\")\n",
    "    \n",
    "    async def async_gen(self) -> AsyncGenerator[int, None]:\n",
    "        for i in range(10):\n",
    "            await asyncio.sleep(1)\n",
    "            yield i\n",
    "\n",
    "\n",
    "service = Service()\n",
    "service = move_to_child_process(service)"
   ]
  },
  {
   "cell_type": "code",
   "execution_count": null,
   "metadata": {},
   "outputs": [],
   "source": [
    "# await service.load_unsloth()\n",
    "await service.greet(\"World\", 1.0)"
   ]
  }
 ],
 "metadata": {
  "kernelspec": {
   "display_name": ".venv",
   "language": "python",
   "name": "python3"
  },
  "language_info": {
   "codemirror_mode": {
    "name": "ipython",
    "version": 3
   },
   "file_extension": ".py",
   "mimetype": "text/x-python",
   "name": "python",
   "nbconvert_exporter": "python",
   "pygments_lexer": "ipython3",
   "version": "3.12.6"
  }
 },
 "nbformat": 4,
 "nbformat_minor": 2
}
