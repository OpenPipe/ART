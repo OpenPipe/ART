{
 "cells": [
  {
   "cell_type": "code",
   "execution_count": 1,
   "metadata": {},
   "outputs": [
    {
     "name": "stderr",
     "output_type": "stream",
     "text": [
      "/home/ubuntu/sky_workdir/src/art/__init__.py:10: UserWarning: WARNING: Unsloth should be imported before transformers, peft to ensure all optimizations are applied. Your code may run slower or encounter memory issues without these optimizations.\n",
      "\n",
      "Please restructure your imports with 'import unsloth' at the top of your file.\n",
      "  import unsloth  # type: ignore\n"
     ]
    },
    {
     "name": "stdout",
     "output_type": "stream",
     "text": [
      "🦥 Unsloth: Will patch your computer to enable 2x faster free finetuning.\n",
      "Unsloth: Failed to patch Gemma3ForConditionalGeneration.\n",
      "🦥 Unsloth Zoo will now patch everything to make training faster!\n",
      "INFO 04-17 23:47:01 __init__.py:207] Automatically detected platform cuda.\n",
      "==((====))==  Unsloth 2025.3.19: Fast Qwen2 patching. Transformers: 4.51.1. vLLM: 0.7.3.\n",
      "   \\\\   /|    NVIDIA A10. Num GPUs = 1. Max memory: 22.069 GB. Platform: Linux.\n",
      "O^O/ \\_/ \\    Torch: 2.5.1+cu124. CUDA: 8.6. CUDA Toolkit: 12.4. Triton: 3.1.0\n",
      "\\        /    Bfloat16 = TRUE. FA [Xformers = 0.0.29.post1. FA2 = False]\n",
      " \"-____-\"     Free license: http://github.com/unslothai/unsloth\n",
      "Unsloth: Fast downloading is enabled - ignore downloading bars which are red colored!\n",
      "Unsloth: vLLM loading unsloth/qwen2.5-7b-instruct-unsloth-bnb-4bit with actual GPU utilization = 69.9%\n",
      "Unsloth: Your GPU has CUDA compute capability 8.6 with VRAM = 22.07 GB.\n",
      "Unsloth: Using conservativeness = 1.0. Chunked prefill tokens = 32768. Num Sequences = 224.\n",
      "Unsloth: vLLM's KV Cache can use up to 9.56 GB. Also swap space = 6 GB.\n",
      "INFO 04-17 23:47:09 config.py:549] This model supports multiple tasks: {'embed', 'classify', 'reward', 'generate', 'score'}. Defaulting to 'generate'.\n",
      "Unsloth: vLLM Bitsandbytes config using kwargs = {'load_in_8bit': False, 'load_in_4bit': True, 'bnb_4bit_compute_dtype': 'bfloat16', 'bnb_4bit_quant_storage': 'uint8', 'bnb_4bit_quant_type': 'nf4', 'bnb_4bit_use_double_quant': True, 'llm_int8_enable_fp32_cpu_offload': False, 'llm_int8_has_fp16_weight': False, 'llm_int8_skip_modules': ['lm_head', 'multi_modal_projector', 'merger', 'modality_projection', 'model.layers.0.self_attn', 'model.layers.1.self_attn', 'model.layers.2.mlp', 'model.layers.3.mlp', 'model.layers.4.mlp', 'model.layers.25.mlp', 'model.layers.26.mlp'], 'llm_int8_threshold': 6.0}\n",
      "INFO 04-17 23:47:09 llm_engine.py:234] Initializing a V0 LLM engine (v0.7.3) with config: model='unsloth/qwen2.5-7b-instruct-unsloth-bnb-4bit', speculative_config=None, tokenizer='unsloth/qwen2.5-7b-instruct-unsloth-bnb-4bit', skip_tokenizer_init=False, tokenizer_mode=auto, revision=None, override_neuron_config=None, tokenizer_revision=None, trust_remote_code=False, dtype=torch.bfloat16, max_seq_len=32768, download_dir=None, load_format=bitsandbytes, tensor_parallel_size=1, pipeline_parallel_size=1, disable_custom_all_reduce=False, quantization=bitsandbytes, enforce_eager=False, kv_cache_dtype=auto,  device_config=cuda:0, decoding_config=DecodingConfig(guided_decoding_backend='xgrammar'), observability_config=ObservabilityConfig(otlp_traces_endpoint=None, collect_model_forward_time=False, collect_model_execute_time=False), seed=0, served_model_name=unsloth/qwen2.5-7b-instruct-unsloth-bnb-4bit, num_scheduler_steps=16, multi_step_stream_outputs=True, enable_prefix_caching=True, chunked_prefill_enabled=False, use_async_output_proc=True, disable_mm_preprocessor_cache=False, mm_processor_kwargs=None, pooler_config=None, compilation_config={\"level\":0,\"splitting_ops\":[],\"compile_sizes\":[],\"cudagraph_capture_sizes\":[224,216,208,200,192,184,176,168,160,152,144,136,128,120,112,104,96,88,80,72,64,56,48,40,32,24,16,8,4,2,1],\"max_capture_size\":224}, use_cached_outputs=False, \n",
      "INFO 04-17 23:47:09 cuda.py:229] Using Flash Attention backend.\n",
      "WARNING 04-17 23:47:09 registry.py:335] `mm_limits` has already been set for model=unsloth/qwen2.5-7b-instruct-unsloth-bnb-4bit, and will be overwritten by the new values.\n",
      "INFO 04-17 23:47:10 model_runner.py:1110] Starting to load model unsloth/qwen2.5-7b-instruct-unsloth-bnb-4bit...\n",
      "INFO 04-17 23:47:10 loader.py:1089] Loading weights with BitsAndBytes quantization.  May take a while ...\n",
      "INFO 04-17 23:47:10 weight_utils.py:254] Using model weights format ['*.safetensors']\n"
     ]
    },
    {
     "name": "stderr",
     "output_type": "stream",
     "text": [
      "Loading safetensors checkpoint shards:   0% Completed | 0/2 [00:00<?, ?it/s]\n",
      "Loading safetensors checkpoint shards:  50% Completed | 1/2 [00:00<00:00,  1.25it/s]\n",
      "Loading safetensors checkpoint shards: 100% Completed | 2/2 [00:01<00:00,  1.93it/s]\n",
      "Loading safetensors checkpoint shards: 100% Completed | 2/2 [00:01<00:00,  1.78it/s]\n",
      "\n",
      "Loading safetensors checkpoint shards:   0% Completed | 0/2 [00:00<?, ?it/s]\n",
      "Loading safetensors checkpoint shards:  50% Completed | 1/2 [00:00<00:00,  1.17it/s]\n",
      "Loading safetensors checkpoint shards: 100% Completed | 2/2 [00:01<00:00,  1.82it/s]\n",
      "Loading safetensors checkpoint shards: 100% Completed | 2/2 [00:01<00:00,  1.68it/s]\n",
      "\n"
     ]
    },
    {
     "name": "stdout",
     "output_type": "stream",
     "text": [
      "INFO 04-17 23:47:12 model_runner.py:1115] Loading model weights took 6.6961 GB\n",
      "INFO 04-17 23:47:12 punica_selector.py:18] Using PunicaWrapperGPU.\n",
      "INFO 04-17 23:47:21 worker.py:267] Memory profiling takes 8.82 seconds\n",
      "INFO 04-17 23:47:21 worker.py:267] the current vLLM instance can use total_gpu_memory (22.07GiB) x gpu_memory_utilization (0.70) = 15.43GiB\n",
      "INFO 04-17 23:47:21 worker.py:267] model weights take 6.70GiB; non_torch_memory takes 0.05GiB; PyTorch activation peak memory takes 4.70GiB; the rest of the memory reserved for KV Cache is 3.98GiB.\n",
      "INFO 04-17 23:47:22 executor_base.py:111] # cuda blocks: 4657, # CPU blocks: 7021\n",
      "INFO 04-17 23:47:22 executor_base.py:116] Maximum concurrency for 32768 tokens per request: 2.27x\n",
      "INFO 04-17 23:47:24 model_runner.py:1434] Capturing cudagraphs for decoding. This may lead to unexpected consequences if the model is not static. To run the model in eager mode, set 'enforce_eager=True' or use '--enforce-eager' in the CLI. If out-of-memory error occurs during cudagraph capture, consider decreasing `gpu_memory_utilization` or switching to eager mode. You can also reduce the `max_num_seqs` as needed to decrease memory usage.\n"
     ]
    },
    {
     "name": "stderr",
     "output_type": "stream",
     "text": [
      "Capturing CUDA graph shapes: 100%|██████████| 31/31 [00:21<00:00,  1.43it/s]\n"
     ]
    },
    {
     "name": "stdout",
     "output_type": "stream",
     "text": [
      "INFO 04-17 23:47:46 model_runner.py:1562] Graph capturing finished in 22 secs, took 0.95 GiB\n",
      "INFO 04-17 23:47:46 llm_engine.py:436] init engine (profile, create kv cache, warmup model) took 33.48 seconds\n"
     ]
    },
    {
     "name": "stderr",
     "output_type": "stream",
     "text": [
      "Unsloth 2025.3.19 patched 28 layers with 28 QKV layers, 28 O layers and 28 MLP layers.\n",
      "Unsloth: Already have LoRA adapters! We shall skip this step.\n"
     ]
    },
    {
     "name": "stdout",
     "output_type": "stream",
     "text": [
      "token_id:151657token_id:198token_id:4913token_id:606token_id:788token_id:330token_id:3047token_id:497token_id:330token_id:16370token_id:788token_id:5212token_id:1994token_id:788token_id:330token_id:9707token_id:11token_id:330token_id:11248token_id:151658token_id:198token_id:9707token_id:11token_id:715token_id:151657token_id:198token_id:4913token_id:606token_id:788token_id:330token_id:3047token_id:497token_id:330token_id:16370token_id:788token_id:5212token_id:1994token_id:788token_id:330token_id:14615token_id:95642token_id:151658token_id:151645\n"
     ]
    }
   ],
   "source": [
    "import art\n",
    "from openai import AsyncOpenAI\n",
    "\n",
    "model = art.TrainableModel(\n",
    "    name=\"001\",\n",
    "    project=\"test\",\n",
    "    base_model=\"Qwen/Qwen2.5-7B-Instruct\",\n",
    ")\n",
    "await model.register(art.LocalAPI())\n",
    "client = model.openai_client()\n",
    "\n",
    "# client = AsyncOpenAI(api_key=\"default\", base_url=\"http://0.0.0.0:8000/v1\")\n",
    "chat_completion = await client.chat.completions.create(\n",
    "    model=\"Qwen/Qwen2.5-7B-Instruct\",\n",
    "    messages=[{\"role\": \"user\", \"content\": \"Say hello, then echo 'world'.\"}],\n",
    "    tools=[\n",
    "        {\n",
    "            \"type\": \"function\",\n",
    "            \"function\": {\n",
    "                \"name\": \"echo\",\n",
    "                \"description\": \"Echo a message\",\n",
    "                \"parameters\": {\n",
    "                    \"message\": {\"type\": \"string\", \"description\": \"The message to echo\"}\n",
    "                },\n",
    "            },\n",
    "        }\n",
    "    ],\n",
    "    logprobs=True,\n",
    ")\n",
    "print(\n",
    "    b\"\".join(\n",
    "        bytes(token_logprob.bytes)\n",
    "        for token_logprob in chat_completion.choices[0].logprobs.content\n",
    "    ).decode()\n",
    ")"
   ]
  },
  {
   "cell_type": "code",
   "execution_count": 29,
   "metadata": {},
   "outputs": [
    {
     "name": "stdout",
     "output_type": "stream",
     "text": [
      "Hello, world.\n"
     ]
    }
   ],
   "source": [
    "chat_completion = await client.chat.completions.create(\n",
    "    model=\"Qwen/Qwen2.5-7B-Instruct\",\n",
    "    messages=[{\"role\": \"user\", \"content\": \"Say hello, then echo 'world'.\"}],\n",
    "    # tools=[\n",
    "    #     {\n",
    "    #         \"type\": \"function\",\n",
    "    #         \"function\": {\n",
    "    #             \"name\": \"echo\",\n",
    "    #             \"description\": \"Echo a message\",\n",
    "    #             \"parameters\": {\n",
    "    #                 \"message\": {\"type\": \"string\", \"description\": \"The message to echo\"}\n",
    "    #             },\n",
    "    #         },\n",
    "    #     }\n",
    "    # ],\n",
    "    logprobs=True,\n",
    ")\n",
    "print(\n",
    "    b\"\".join(\n",
    "        bytes(token_logprob.bytes)\n",
    "        for token_logprob in chat_completion.choices[0].logprobs.content\n",
    "    ).decode()\n",
    ")"
   ]
  },
  {
   "cell_type": "code",
   "execution_count": 22,
   "metadata": {},
   "outputs": [
    {
     "data": {
      "text/plain": [
       "[ChatCompletionMessageToolCall(id='chatcmpl-tool-743a673bb9a943ff849033983dfcec1b', function=Function(arguments='{\"message\": \"Hello, \"}', name='echo'), type='function'),\n",
       " ChatCompletionMessageToolCall(id='chatcmpl-tool-4a1bec3b0c0447159e8bade71d25e41a', function=Function(arguments='{\"message\": \"world\"}', name='echo'), type='function')]"
      ]
     },
     "execution_count": 22,
     "metadata": {},
     "output_type": "execute_result"
    }
   ],
   "source": [
    "chat_completion.choices[0].message.tool_calls"
   ]
  },
  {
   "cell_type": "code",
   "execution_count": null,
   "metadata": {},
   "outputs": [],
   "source": [
    "async for chunk in await AsyncOpenAI(\n",
    "    api_key=\"default\", base_url=\"http://0.0.0.0:8000/v1\"\n",
    ").chat.completions.create(\n",
    "    model=\"Qwen/Qwen2.5-7B-Instruct\",\n",
    "    messages=[{\"role\": \"user\", \"content\": \"Say hello, world!, twice\"}],\n",
    "    tools=[\n",
    "        {\n",
    "            \"type\": \"function\",\n",
    "            \"function\": {\n",
    "                \"name\": \"echo\",\n",
    "                \"description\": \"Echo a message\",\n",
    "                \"parameters\": {\n",
    "                    \"message\": {\"type\": \"string\", \"description\": \"The message to echo\"}\n",
    "                },\n",
    "            },\n",
    "        }\n",
    "    ],\n",
    "    logprobs=True,\n",
    "    stream=True,\n",
    "    # stream_options={\"include_usage\": True},\n",
    "):\n",
    "    if chunk.choices and chunk.choices[0].logprobs is not None:\n",
    "        print(\n",
    "            b\"\".join(\n",
    "                bytes(token_logprob.bytes)\n",
    "                for token_logprob in chunk.choices[0].logprobs.content\n",
    "            ).decode(),\n",
    "            sep=\"\",\n",
    "            end=\"\",\n",
    "        )\n",
    "    else:\n",
    "        print(\"x\", sep=\"\", end=\"\")"
   ]
  }
 ],
 "metadata": {
  "language_info": {
   "name": "python"
  }
 },
 "nbformat": 4,
 "nbformat_minor": 2
}
