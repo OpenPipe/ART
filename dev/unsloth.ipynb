{
 "cells": [
  {
   "cell_type": "code",
   "execution_count": 1,
   "metadata": {},
   "outputs": [],
   "source": [
    "%load_ext autoreload\n",
    "%autoreload 2"
   ]
  },
  {
   "cell_type": "code",
   "execution_count": 2,
   "metadata": {},
   "outputs": [
    {
     "name": "stderr",
     "output_type": "stream",
     "text": [
      "/tmp/ipykernel_9575/147170867.py:2: UserWarning: WARNING: Unsloth should be imported before transformers, peft to ensure all optimizations are applied. Your code may run slower or encounter memory issues without these optimizations.\n",
      "\n",
      "Please restructure your imports with 'import unsloth' at the top of your file.\n",
      "  import unsloth # type: ignore\n"
     ]
    },
    {
     "name": "stdout",
     "output_type": "stream",
     "text": [
      "🦥 Unsloth: Will patch your computer to enable 2x faster free finetuning.\n",
      "🦥 Unsloth Zoo will now patch everything to make training faster!\n",
      "INFO 04-05 03:01:43 __init__.py:207] Automatically detected platform cuda.\n",
      "==((====))==  Unsloth 2025.3.19: Fast Qwen2 patching. Transformers: 4.49.0. vLLM: 0.7.3.\n",
      "   \\\\   /|    NVIDIA H100 80GB HBM3. Num GPUs = 1. Max memory: 79.109 GB. Platform: Linux.\n",
      "O^O/ \\_/ \\    Torch: 2.5.1+cu124. CUDA: 9.0. CUDA Toolkit: 12.4. Triton: 3.1.0\n",
      "\\        /    Bfloat16 = TRUE. FA [Xformers = 0.0.29.post1. FA2 = False]\n",
      " \"-____-\"     Free license: http://github.com/unslothai/unsloth\n",
      "Unsloth: Fast downloading is enabled - ignore downloading bars which are red colored!\n",
      "Unsloth: vLLM loading unsloth/qwen2.5-14b-instruct-unsloth-bnb-4bit with actual GPU utilization = 79.39%\n",
      "Unsloth: Your GPU has CUDA compute capability 9.0 with VRAM = 79.11 GB.\n",
      "Unsloth: Using conservativeness = 1.0. Chunked prefill tokens = 32768. Num Sequences = 368.\n",
      "Unsloth: vLLM's KV Cache can use up to 52.15 GB. Also swap space = 6 GB.\n",
      "INFO 04-05 03:01:53 config.py:549] This model supports multiple tasks: {'embed', 'generate', 'score', 'classify', 'reward'}. Defaulting to 'generate'.\n",
      "Unsloth: vLLM Bitsandbytes config using kwargs = {'load_in_8bit': False, 'load_in_4bit': True, 'bnb_4bit_compute_dtype': 'bfloat16', 'bnb_4bit_quant_storage': 'uint8', 'bnb_4bit_quant_type': 'nf4', 'bnb_4bit_use_double_quant': True, 'llm_int8_enable_fp32_cpu_offload': False, 'llm_int8_has_fp16_weight': False, 'llm_int8_skip_modules': ['lm_head', 'multi_modal_projector', 'merger', 'modality_projection', 'model.layers.5.mlp', 'model.layers.24.mlp', 'model.layers.44.mlp', 'model.layers.46.mlp', 'model.layers.23.self_attn'], 'llm_int8_threshold': 6.0}\n",
      "INFO 04-05 03:01:53 llm_engine.py:234] Initializing a V0 LLM engine (v0.7.3) with config: model='unsloth/qwen2.5-14b-instruct-unsloth-bnb-4bit', speculative_config=None, tokenizer='unsloth/qwen2.5-14b-instruct-unsloth-bnb-4bit', skip_tokenizer_init=False, tokenizer_mode=auto, revision=None, override_neuron_config=None, tokenizer_revision=None, trust_remote_code=False, dtype=torch.bfloat16, max_seq_len=32768, download_dir=None, load_format=LoadFormat.BITSANDBYTES, tensor_parallel_size=1, pipeline_parallel_size=1, disable_custom_all_reduce=False, quantization=bitsandbytes, enforce_eager=False, kv_cache_dtype=auto,  device_config=cuda:0, decoding_config=DecodingConfig(guided_decoding_backend='xgrammar'), observability_config=ObservabilityConfig(otlp_traces_endpoint=None, collect_model_forward_time=False, collect_model_execute_time=False), seed=0, served_model_name=unsloth/qwen2.5-14b-instruct-unsloth-bnb-4bit, num_scheduler_steps=16, multi_step_stream_outputs=True, enable_prefix_caching=True, chunked_prefill_enabled=False, use_async_output_proc=True, disable_mm_preprocessor_cache=False, mm_processor_kwargs=None, pooler_config=None, compilation_config={\"level\":0,\"splitting_ops\":[],\"compile_sizes\":[],\"cudagraph_capture_sizes\":[368,360,352,344,336,328,320,312,304,296,288,280,272,264,256,248,240,232,224,216,208,200,192,184,176,168,160,152,144,136,128,120,112,104,96,88,80,72,64,56,48,40,32,24,16,8,4,2,1],\"max_capture_size\":368}, use_cached_outputs=False, \n",
      "INFO 04-05 03:01:54 cuda.py:229] Using Flash Attention backend.\n",
      "WARNING 04-05 03:01:54 registry.py:335] `mm_limits` has already been set for model=unsloth/qwen2.5-14b-instruct-unsloth-bnb-4bit, and will be overwritten by the new values.\n",
      "INFO 04-05 03:01:54 model_runner.py:1110] Starting to load model unsloth/qwen2.5-14b-instruct-unsloth-bnb-4bit...\n",
      "INFO 04-05 03:01:55 loader.py:1089] Loading weights with BitsAndBytes quantization.  May take a while ...\n",
      "INFO 04-05 03:01:55 weight_utils.py:254] Using model weights format ['*.safetensors']\n"
     ]
    },
    {
     "data": {
      "application/vnd.jupyter.widget-view+json": {
       "model_id": "73972f087e9e414b813c968af5ba3e3c",
       "version_major": 2,
       "version_minor": 0
      },
      "text/plain": [
       "Loading safetensors checkpoint shards:   0% Completed | 0/3 [00:00<?, ?it/s]\n"
      ]
     },
     "metadata": {},
     "output_type": "display_data"
    },
    {
     "data": {
      "application/vnd.jupyter.widget-view+json": {
       "model_id": "b0fb6ae3c79940d6b2b99bb966c7c012",
       "version_major": 2,
       "version_minor": 0
      },
      "text/plain": [
       "Loading safetensors checkpoint shards:   0% Completed | 0/3 [00:00<?, ?it/s]\n"
      ]
     },
     "metadata": {},
     "output_type": "display_data"
    },
    {
     "name": "stdout",
     "output_type": "stream",
     "text": [
      "INFO 04-05 03:02:00 model_runner.py:1115] Loading model weights took 10.6011 GB\n",
      "INFO 04-05 03:02:00 punica_selector.py:18] Using PunicaWrapperGPU.\n",
      "INFO 04-05 03:02:03 worker.py:267] Memory profiling takes 3.20 seconds\n",
      "INFO 04-05 03:02:03 worker.py:267] the current vLLM instance can use total_gpu_memory (79.11GiB) x gpu_memory_utilization (0.79) = 62.81GiB\n",
      "INFO 04-05 03:02:03 worker.py:267] model weights take 10.60GiB; non_torch_memory takes 0.15GiB; PyTorch activation peak memory takes 4.26GiB; the rest of the memory reserved for KV Cache is 47.80GiB.\n",
      "INFO 04-05 03:02:03 executor_base.py:111] # cuda blocks: 16314, # CPU blocks: 2048\n",
      "INFO 04-05 03:02:03 executor_base.py:116] Maximum concurrency for 32768 tokens per request: 7.97x\n",
      "INFO 04-05 03:02:06 model_runner.py:1434] Capturing cudagraphs for decoding. This may lead to unexpected consequences if the model is not static. To run the model in eager mode, set 'enforce_eager=True' or use '--enforce-eager' in the CLI. If out-of-memory error occurs during cudagraph capture, consider decreasing `gpu_memory_utilization` or switching to eager mode. You can also reduce the `max_num_seqs` as needed to decrease memory usage.\n"
     ]
    },
    {
     "name": "stderr",
     "output_type": "stream",
     "text": [
      "Capturing CUDA graph shapes: 100%|██████████| 49/49 [00:38<00:00,  1.26it/s]"
     ]
    },
    {
     "name": "stdout",
     "output_type": "stream",
     "text": [
      "INFO 04-05 03:02:44 model_runner.py:1562] Graph capturing finished in 39 secs, took 9.48 GiB\n",
      "INFO 04-05 03:02:44 llm_engine.py:436] init engine (profile, create kv cache, warmup model) took 44.68 seconds\n"
     ]
    },
    {
     "name": "stderr",
     "output_type": "stream",
     "text": [
      "\n",
      "Unsloth 2025.3.19 patched 48 layers with 48 QKV layers, 48 O layers and 48 MLP layers.\n"
     ]
    }
   ],
   "source": [
    "import peft # type: ignore\n",
    "import unsloth # type: ignore\n",
    "from art.config.model import get_model_config\n",
    "from art.unsloth.state import ModelState\n",
    "\n",
    "config = get_model_config(\n",
    "    \"Qwen/Qwen2.5-14B-Instruct\",\n",
    "    output_dir=\"./.art/models/test\",\n",
    "    config={\n",
    "        \"init_args\": {\n",
    "            \"enable_sleep_mode\": True,\n",
    "        }\n",
    "    },\n",
    ")\n",
    "state = ModelState(config)"
   ]
  },
  {
   "cell_type": "code",
   "execution_count": 3,
   "metadata": {},
   "outputs": [],
   "source": [
    "import asyncio\n",
    "from art.unsloth.vllm import set_vllm_log_file\n",
    "import random\n",
    "import torch\n",
    "import vllm\n",
    "\n",
    "\n",
    "set_vllm_log_file(\"./vllm.log\")\n",
    "\n",
    "num_tokens = 1024\n",
    "\n",
    "\n",
    "async def warmup(request_id: str) -> None:\n",
    "    max_tokens = random.randint(0, num_tokens * 2)\n",
    "    async for _ in state.vllm.async_engine.generate(\n",
    "        prompt={\n",
    "            \"prompt_token_ids\": torch.randint(\n",
    "                0,\n",
    "                int(state.tokenizer.vocab_size),  # type: ignore\n",
    "                (\n",
    "                    max(\n",
    "                        (\n",
    "                            (\n",
    "                                state.vllm.async_engine.engine.cache_config.num_gpu_blocks  # type: ignore\n",
    "                                * state.vllm.async_engine.engine.cache_config.block_size\n",
    "                            )\n",
    "                            // state.vllm.async_engine.engine.scheduler_config.max_num_seqs\n",
    "                        )\n",
    "                        - 16\n",
    "                        - max_tokens,\n",
    "                        1,\n",
    "                    ),\n",
    "                ),\n",
    "            ).tolist(),\n",
    "        },\n",
    "        sampling_params=vllm.SamplingParams(max_tokens=max_tokens),\n",
    "        request_id=request_id,\n",
    "    ):\n",
    "        pass\n",
    "\n",
    "\n",
    "warmup_future = asyncio.gather(\n",
    "    *(\n",
    "        warmup(f\"{i}\")\n",
    "        for i in range(state.vllm.async_engine.engine.scheduler_config.max_num_seqs)\n",
    "    )\n",
    ")"
   ]
  },
  {
   "cell_type": "code",
   "execution_count": 4,
   "metadata": {},
   "outputs": [],
   "source": [
    "warmup_future.cancel()\n",
    "await asyncio.sleep(0.01)\n",
    "try:\n",
    "    warmup_future.result()\n",
    "except asyncio.CancelledError:\n",
    "    pass"
   ]
  },
  {
   "cell_type": "code",
   "execution_count": 5,
   "metadata": {},
   "outputs": [
    {
     "name": "stderr",
     "output_type": "stream",
     "text": [
      "==((====))==  Unsloth - 2x faster free finetuning | Num GPUs used = 1\n",
      "   \\\\   /|    Num examples = 100,000 | Num Epochs = 3 | Total steps = 300,000\n",
      "O^O/ \\_/ \\    Batch size per device = 2 | Gradient accumulation steps = 1\n",
      "\\        /    Data Parallel GPUs = 1 | Total batch size (2 x 1 x 1) = 2\n",
      " \"-____-\"     Trainable parameters = 34,406,400/14,000,000,000 (0.25% trained)\n"
     ]
    }
   ],
   "source": [
    "import asyncio\n",
    "from art.unsloth.train import train\n",
    "\n",
    "results_queue = asyncio.Queue()\n",
    "train_task = asyncio.create_task(train(state.trainer, config, results_queue))"
   ]
  },
  {
   "cell_type": "code",
   "execution_count": null,
   "metadata": {},
   "outputs": [
    {
     "data": {
      "text/plain": [
       "{'init_args': {'model_name': 'Qwen/Qwen2.5-14B-Instruct',\n",
       "  'max_seq_length': 32768,\n",
       "  'load_in_4bit': True,\n",
       "  'fast_inference': True,\n",
       "  'disable_log_requests': True,\n",
       "  'disable_log_stats': False,\n",
       "  'enable_prefix_caching': True,\n",
       "  'gpu_memory_utilization': 0.8,\n",
       "  'max_lora_rank': 8,\n",
       "  'num_scheduler_steps': 16,\n",
       "  'use_async': True,\n",
       "  'enable_sleep_mode': True},\n",
       " 'peft_args': {'r': 8,\n",
       "  'target_modules': ['q_proj',\n",
       "   'k_proj',\n",
       "   'v_proj',\n",
       "   'o_proj',\n",
       "   'gate_proj',\n",
       "   'up_proj',\n",
       "   'down_proj'],\n",
       "  'lora_alpha': 16,\n",
       "  'use_gradient_checkpointing': 'unsloth',\n",
       "  'random_state': 3407},\n",
       " 'train_args': {'learning_rate': 5e-06,\n",
       "  'adam_beta1': 0.9,\n",
       "  'adam_beta2': 0.99,\n",
       "  'weight_decay': 0.1,\n",
       "  'lr_scheduler_type': 'constant',\n",
       "  'optim': 'paged_adamw_8bit',\n",
       "  'logging_steps': 1,\n",
       "  'per_device_train_batch_size': 2,\n",
       "  'gradient_accumulation_steps': 1,\n",
       "  'num_generations': 2,\n",
       "  'save_strategy': 'no',\n",
       "  'output_dir': './.art/models/test',\n",
       "  'disable_tqdm': True,\n",
       "  'report_to': 'none'},\n",
       " 'seq_len_tune_args': {8192: {'batch_size': 4,\n",
       "   'logprob_calculation_chunk_size': 4096},\n",
       "  16384: {'batch_size': 2, 'logprob_calculation_chunk_size': 2048},\n",
       "  32768: {'batch_size': 1, 'logprob_calculation_chunk_size': 1024}}}"
      ]
     },
     "execution_count": 6,
     "metadata": {},
     "output_type": "execute_result"
    }
   ],
   "source": [
    "config"
   ]
  },
  {
   "cell_type": "code",
   "execution_count": 26,
   "metadata": {},
   "outputs": [
    {
     "data": {
      "text/plain": [
       "{'loss': 0.0, 'grad_norm': 0.0, 'lr': 1e-07, 'policy_loss': 0.0}"
      ]
     },
     "metadata": {},
     "output_type": "display_data"
    }
   ],
   "source": [
    "from art.types import TuneConfig\n",
    "from art.unsloth.service import TuneInputs\n",
    "import torch\n",
    "from typing import cast\n",
    "\n",
    "shape = (1, 8192)\n",
    "\n",
    "async with state.vllm.train_mode():\n",
    "    for _ in range(1):\n",
    "        state.inputs_queue.put_nowait(\n",
    "            TuneInputs(\n",
    "                tokens=torch.randint(0, cast(int, state.tokenizer.vocab_size), shape),\n",
    "                group_ids=torch.randint(0, 10, shape),\n",
    "                parent_ids=torch.randint(0, 10, shape),\n",
    "                input_pos=torch.tensor([list(range(shape[1]))]),\n",
    "                assistant_mask=torch.ones(shape, dtype=torch.bool),\n",
    "                logprobs=torch.zeros(shape),\n",
    "                advantages=torch.zeros(shape),\n",
    "                weights=torch.ones(shape),\n",
    "                config=TuneConfig(lr=1e-7, kl_coef=0.0),\n",
    "            )\n",
    "        )\n",
    "        display(await results_queue.get())"
   ]
  }
 ],
 "metadata": {
  "kernelspec": {
   "display_name": ".venv",
   "language": "python",
   "name": "python3"
  },
  "language_info": {
   "codemirror_mode": {
    "name": "ipython",
    "version": 3
   },
   "file_extension": ".py",
   "mimetype": "text/x-python",
   "name": "python",
   "nbconvert_exporter": "python",
   "pygments_lexer": "ipython3",
   "version": "3.12.9"
  }
 },
 "nbformat": 4,
 "nbformat_minor": 2
}
