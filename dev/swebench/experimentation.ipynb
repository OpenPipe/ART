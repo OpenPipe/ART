{
 "cells": [
  {
   "cell_type": "code",
   "execution_count": 1,
   "metadata": {},
   "outputs": [],
   "source": [
    "%load_ext autoreload\n",
    "%autoreload 2"
   ]
  },
  {
   "cell_type": "code",
   "execution_count": 2,
   "metadata": {},
   "outputs": [
    {
     "data": {
      "text/html": [
       "<style>\n",
       ".cell-output-ipywidget-background {\n",
       "    background-color: transparent !important;\n",
       "}\n",
       ":root {\n",
       "    --jp-widgets-color: var(--vscode-editor-foreground);\n",
       "    --jp-widgets-font-size: var(--vscode-editor-font-size);\n",
       "}  \n",
       "</style>\n"
      ],
      "text/plain": [
       "<IPython.core.display.HTML object>"
      ]
     },
     "metadata": {},
     "output_type": "display_data"
    }
   ],
   "source": [
    "%%html\n",
    "<style>\n",
    ".cell-output-ipywidget-background {\n",
    "    background-color: transparent !important;\n",
    "}\n",
    ":root {\n",
    "    --jp-widgets-color: var(--vscode-editor-foreground);\n",
    "    --jp-widgets-font-size: var(--vscode-editor-font-size);\n",
    "}  \n",
    "</style>"
   ]
  },
  {
   "cell_type": "code",
   "execution_count": 3,
   "metadata": {},
   "outputs": [],
   "source": [
    "from dotenv import load_dotenv\n",
    "import nest_asyncio\n",
    "import os\n",
    "\n",
    "os.environ[\"SWE_AGENT_CONFIG_DIR\"] = \".\"\n",
    "os.environ[\"SWE_AGENT_TOOLS_DIR\"] = \"tools\"\n",
    "os.environ[\"SWE_AGENT_TRAJECTORY_DIR\"] = \"trajectories\"\n",
    "\n",
    "os.makedirs(\"replays\", exist_ok=True)\n",
    "os.makedirs(\"trajectories\", exist_ok=True)\n",
    "\n",
    "load_dotenv()\n",
    "nest_asyncio.apply()"
   ]
  },
  {
   "cell_type": "code",
   "execution_count": 4,
   "metadata": {},
   "outputs": [
    {
     "data": {
      "text/plain": [
       "{'instance_id': 'Mimino666__langdetect.a1598f1a.func_pm_class_rm_funcs__842dr37d',\n",
       " 'repo': 'swesmith/Mimino666__langdetect.a1598f1a',\n",
       " 'patch': \"diff --git a/langdetect/detector_factory.py b/langdetect/detector_factory.py\\nindex e026161..b1ab5f4 100644\\n--- a/langdetect/detector_factory.py\\n+++ b/langdetect/detector_factory.py\\n@@ -95,13 +95,6 @@ class DetectorFactory(object):\\n         self.langlist = []\\n         self.word_lang_prob_map = {}\\n \\n-    def create(self, alpha=None):\\n-        '''Construct Detector instance with smoothing parameter.'''\\n-        detector = self._create_detector()\\n-        if alpha is not None:\\n-            detector.set_alpha(alpha)\\n-        return detector\\n-\\n     def _create_detector(self):\\n         if not self.langlist:\\n             raise LangDetectException(ErrorCode.NeedLoadProfileError, 'Need to load profiles.')\\n@@ -113,7 +106,6 @@ class DetectorFactory(object):\\n     def get_lang_list(self):\\n         return list(self.langlist)\\n \\n-\\n PROFILES_DIRECTORY = path.join(path.dirname(__file__), 'profiles')\\n _factory = None\\n \\n\",\n",
       " 'FAIL_TO_PASS': ['langdetect/tests/test_detector.py::DetectorTest::test_detector1',\n",
       "  'langdetect/tests/test_detector.py::DetectorTest::test_detector2',\n",
       "  'langdetect/tests/test_detector.py::DetectorTest::test_detector3',\n",
       "  'langdetect/tests/test_detector.py::DetectorTest::test_detector4'],\n",
       " 'PASS_TO_PASS': ['langdetect/tests/test_detector.py::DetectorTest::test_factory_from_json_string',\n",
       "  'langdetect/tests/test_detector.py::DetectorTest::test_lang_list',\n",
       "  'langdetect/tests/test_language.py::LanguageTest::test_cmp',\n",
       "  'langdetect/tests/test_language.py::LanguageTest::test_language',\n",
       "  'langdetect/tests/utils/test_lang_profile.py::LangProfileText::test_add',\n",
       "  'langdetect/tests/utils/test_lang_profile.py::LangProfileText::test_add_illegally1',\n",
       "  'langdetect/tests/utils/test_lang_profile.py::LangProfileText::test_add_illegally2',\n",
       "  'langdetect/tests/utils/test_lang_profile.py::LangProfileText::test_lang_profile',\n",
       "  'langdetect/tests/utils/test_lang_profile.py::LangProfileText::test_lang_profile_string_int',\n",
       "  'langdetect/tests/utils/test_lang_profile.py::LangProfileText::test_omit_less_freq',\n",
       "  'langdetect/tests/utils/test_lang_profile.py::LangProfileText::test_omit_less_freq_illegally',\n",
       "  'langdetect/tests/utils/test_ngram.py::NGramTest::test_constants',\n",
       "  'langdetect/tests/utils/test_ngram.py::NGramTest::test_ngram',\n",
       "  'langdetect/tests/utils/test_ngram.py::NGramTest::test_ngram3',\n",
       "  'langdetect/tests/utils/test_ngram.py::NGramTest::test_normalize_for_romanian',\n",
       "  'langdetect/tests/utils/test_ngram.py::NGramTest::test_normalize_vietnamese',\n",
       "  'langdetect/tests/utils/test_ngram.py::NGramTest::test_normalize_with_cjk_kanji',\n",
       "  'langdetect/tests/utils/test_ngram.py::NGramTest::test_normalize_with_latin',\n",
       "  'langdetect/tests/utils/test_unicode_block.py::UnicodeBlockTest::test_unicode_block'],\n",
       " 'created_at': datetime.datetime(2025, 3, 15, 5, 22, 47, 264582),\n",
       " 'image_name': 'jyangballin/swesmith.x86_64.mimino666_1776_langdetect.a1598f1a',\n",
       " 'base_commit': 'Mimino666__langdetect.a1598f1a.func_pm_class_rm_funcs__842dr37d',\n",
       " 'problem_statement': \"# Missing `create` method in DetectorFactory\\n\\n## Description\\n\\nI've encountered an issue with the `DetectorFactory` class in langdetect. When trying to create a detector instance, I get an AttributeError.\\n\\n```python\\nfrom langdetect import DetectorFactory\\n\\nfactory = DetectorFactory()\\nfactory.load_profile('path/to/profiles')\\ndetector = factory.create()  # This fails with AttributeError\\n```\\n\\nThe error occurs because the `create` method seems to be missing from the `DetectorFactory` class. This method is essential for creating detector instances with optional smoothing parameters.\\n\\n## Expected behavior\\n\\nThe `create` method should be available in the `DetectorFactory` class to allow creating detector instances with an optional alpha parameter for smoothing.\\n\\n```python\\n# This should work\\nfactory = DetectorFactory()\\nfactory.load_profile('path/to/profiles')\\ndetector = factory.create()  # With default alpha\\ndetector2 = factory.create(alpha=0.5)  # With custom alpha\\n```\\n\\n## Actual behavior\\n\\n```\\nAttributeError: 'DetectorFactory' object has no attribute 'create'\\n```\\n\\nThe `_create_detector` private method exists, but the public `create` method that should call it with the alpha parameter is missing.\"}"
      ]
     },
     "execution_count": 4,
     "metadata": {},
     "output_type": "execute_result"
    }
   ],
   "source": [
    "from instances import (\n",
    "    as_instances_iter,\n",
    "    get_filtered_swe_smith_instances_df,\n",
    "    get_swe_bench_verified_instances_df,\n",
    ")\n",
    "\n",
    "# instances_df = get_swe_bench_verified_instances_df()\n",
    "# instances_iter = as_instances_iter(instances_df)\n",
    "# for instance in instances_iter:\n",
    "#     # break\n",
    "#     if (\n",
    "#         # instance[\"difficulty\"] == \"<15 min fix\"\n",
    "#         instance[\"repo\"] not in (\"astropy/astropy\", \"django/django\", \"matplotlib/matplotlib\")\n",
    "#         # and instance[\"instance_id\"] != \"django__django-10097\"\n",
    "#     ):\n",
    "#         break\n",
    "instance = next(get_filtered_swe_smith_instances_df().sample(fraction=1.0, shuffle=True, seed=42).head(1).pipe(as_instances_iter))\n",
    "instance"
   ]
  },
  {
   "cell_type": "code",
   "execution_count": 6,
   "metadata": {},
   "outputs": [
    {
     "name": "stderr",
     "output_type": "stream",
     "text": [
      "WARNING:swea-lm:No max input tokens found for model 'openrouter/qwen/qwen3-32b'. If you are using a local model, you can set `max_input_token` in the model config to override this.\n",
      "WARNING:swea-lm:No max input tokens found for model 'openrouter/qwen/qwen3-32b'. If you are using a local model, you can set `max_input_token` in the model config to override this.\n",
      "WARNING:swea-lm:No max input tokens found for model 'openrouter/qwen/qwen3-32b'. If you are using a local model, you can set `max_input_token` in the model config to override this.\n",
      "WARNING:swea-agent:Requerying model after FormatError (1th requery)\n",
      "WARNING:swea-agent:Your action could not be parsed properly: No function found in model response..\n",
      "\n",
      "WARNING:swea-lm:No max input tokens found for model 'openrouter/qwen/qwen3-32b'. If you are using a local model, you can set `max_input_token` in the model config to override this.\n",
      "WARNING:swea-lm:No max input tokens found for model 'openrouter/qwen/qwen3-32b'. If you are using a local model, you can set `max_input_token` in the model config to override this.\n",
      "WARNING:swea-lm:No max input tokens found for model 'openrouter/qwen/qwen3-32b'. If you are using a local model, you can set `max_input_token` in the model config to override this.\n",
      "WARNING:swea-lm:No max input tokens found for model 'openrouter/qwen/qwen3-32b'. If you are using a local model, you can set `max_input_token` in the model config to override this.\n",
      "WARNING:swea-lm:No max input tokens found for model 'openrouter/qwen/qwen3-32b'. If you are using a local model, you can set `max_input_token` in the model config to override this.\n",
      "WARNING:swea-lm:No max input tokens found for model 'openrouter/qwen/qwen3-32b'. If you are using a local model, you can set `max_input_token` in the model config to override this.\n",
      "WARNING:swea-lm:No max input tokens found for model 'openrouter/qwen/qwen3-32b'. If you are using a local model, you can set `max_input_token` in the model config to override this.\n",
      "WARNING:swea-lm:No max input tokens found for model 'openrouter/qwen/qwen3-32b'. If you are using a local model, you can set `max_input_token` in the model config to override this.\n",
      "WARNING:swea-lm:No max input tokens found for model 'openrouter/qwen/qwen3-32b'. If you are using a local model, you can set `max_input_token` in the model config to override this.\n",
      "WARNING:swea-lm:No max input tokens found for model 'openrouter/qwen/qwen3-32b'. If you are using a local model, you can set `max_input_token` in the model config to override this.\n",
      "WARNING:swea-lm:No max input tokens found for model 'openrouter/qwen/qwen3-32b'. If you are using a local model, you can set `max_input_token` in the model config to override this.\n"
     ]
    },
    {
     "data": {
      "text/html": [
       "<pre style=\"white-space:pre;overflow-x:auto;line-height:normal;font-family:Menlo,'DejaVu Sans Mono',consolas,'Courier New',monospace\">╭──────────────────────────── 🎉 Submission successful 🎉 ────────────────────────────╮\n",
       "│ SWE-agent has produced a patch that it believes will solve the issue you submitted! │\n",
       "│ Use the code snippet below to inspect or apply it!                                  │\n",
       "╰─────────────────────────────────────────────────────────────────────────────────────╯\n",
       "</pre>\n"
      ],
      "text/plain": [
       "╭──────────────────────────── 🎉 Submission successful 🎉 ────────────────────────────╮\n",
       "│ SWE-agent has produced a patch that it believes will solve the issue you submitted! │\n",
       "│ Use the code snippet below to inspect or apply it!                                  │\n",
       "╰─────────────────────────────────────────────────────────────────────────────────────╯\n"
      ]
     },
     "metadata": {},
     "output_type": "display_data"
    },
    {
     "data": {
      "text/html": [
       "<pre style=\"white-space:pre;overflow-x:auto;line-height:normal;font-family:Menlo,'DejaVu Sans Mono',consolas,'Courier New',monospace\"><span style=\"background-color: #272822\">                                                                                                                   </span>\n",
       "<span style=\"background-color: #272822\"> </span><span style=\"color: #959077; text-decoration-color: #959077; background-color: #272822\"># The patch has been saved to your local filesystem at:</span><span style=\"background-color: #272822\">                                                           </span>\n",
       "<span style=\"background-color: #272822\"> </span><span style=\"color: #f8f8f2; text-decoration-color: #f8f8f2; background-color: #272822\">PATCH_FILE_PATH</span><span style=\"color: #ff4689; text-decoration-color: #ff4689; background-color: #272822\">=</span><span style=\"color: #e6db74; text-decoration-color: #e6db74; background-color: #272822\">'/Users/brad/github/OpenPipe/agent-reinforcement-training/dev/swebench/trajectories/brad/no_confi</span><span style=\"background-color: #272822\"> </span>\n",
       "<span style=\"background-color: #272822\"> </span><span style=\"color: #e6db74; text-decoration-color: #e6db74; background-color: #272822\">_openrouter/qwen/qwen3-32b__t-1.00__p-1.00__c-0.00___26201e/26201e/26201e.patch'</span><span style=\"background-color: #272822\">                                  </span>\n",
       "<span style=\"background-color: #272822\"> </span><span style=\"color: #959077; text-decoration-color: #959077; background-color: #272822\"># Inspect it:</span><span style=\"background-color: #272822\">                                                                                                     </span>\n",
       "<span style=\"background-color: #272822\"> </span><span style=\"color: #f8f8f2; text-decoration-color: #f8f8f2; background-color: #272822\">cat </span><span style=\"color: #e6db74; text-decoration-color: #e6db74; background-color: #272822\">\"${</span><span style=\"color: #f8f8f2; text-decoration-color: #f8f8f2; background-color: #272822\">PATCH_FILE_PATH</span><span style=\"color: #e6db74; text-decoration-color: #e6db74; background-color: #272822\">}\"</span><span style=\"background-color: #272822\">                                                                                          </span>\n",
       "<span style=\"background-color: #272822\"> </span><span style=\"color: #959077; text-decoration-color: #959077; background-color: #272822\"># Apply it to a local repository:</span><span style=\"background-color: #272822\">                                                                                 </span>\n",
       "<span style=\"background-color: #272822\"> </span><span style=\"color: #f8f8f2; text-decoration-color: #f8f8f2; background-color: #272822\">cd &lt;your local repo root&gt;</span><span style=\"background-color: #272822\">                                                                                         </span>\n",
       "<span style=\"background-color: #272822\"> </span><span style=\"color: #f8f8f2; text-decoration-color: #f8f8f2; background-color: #272822\">git apply </span><span style=\"color: #e6db74; text-decoration-color: #e6db74; background-color: #272822\">\"${</span><span style=\"color: #f8f8f2; text-decoration-color: #f8f8f2; background-color: #272822\">PATCH_FILE_PATH</span><span style=\"color: #e6db74; text-decoration-color: #e6db74; background-color: #272822\">}\"</span><span style=\"background-color: #272822\">                                                                                    </span>\n",
       "<span style=\"background-color: #272822\">                                                                                                                   </span>\n",
       "</pre>\n"
      ],
      "text/plain": [
       "\u001b[48;2;39;40;34m                                                                                                                   \u001b[0m\n",
       "\u001b[48;2;39;40;34m \u001b[0m\u001b[38;2;149;144;119;48;2;39;40;34m# The patch has been saved to your local filesystem at:\u001b[0m\u001b[48;2;39;40;34m                                                          \u001b[0m\u001b[48;2;39;40;34m \u001b[0m\n",
       "\u001b[48;2;39;40;34m \u001b[0m\u001b[38;2;248;248;242;48;2;39;40;34mPATCH_FILE_PATH\u001b[0m\u001b[38;2;255;70;137;48;2;39;40;34m=\u001b[0m\u001b[38;2;230;219;116;48;2;39;40;34m'/Users/brad/github/OpenPipe/agent-reinforcement-training/dev/swebench/trajectories/brad/no_confi\u001b[0m\u001b[48;2;39;40;34m \u001b[0m\n",
       "\u001b[48;2;39;40;34m \u001b[0m\u001b[38;2;230;219;116;48;2;39;40;34m_openrouter/qwen/qwen3-32b__t-1.00__p-1.00__c-0.00___26201e/26201e/26201e.patch'\u001b[0m\u001b[48;2;39;40;34m                                 \u001b[0m\u001b[48;2;39;40;34m \u001b[0m\n",
       "\u001b[48;2;39;40;34m \u001b[0m\u001b[38;2;149;144;119;48;2;39;40;34m# Inspect it:\u001b[0m\u001b[48;2;39;40;34m                                                                                                    \u001b[0m\u001b[48;2;39;40;34m \u001b[0m\n",
       "\u001b[48;2;39;40;34m \u001b[0m\u001b[38;2;248;248;242;48;2;39;40;34mcat\u001b[0m\u001b[38;2;248;248;242;48;2;39;40;34m \u001b[0m\u001b[38;2;230;219;116;48;2;39;40;34m\"\u001b[0m\u001b[38;2;230;219;116;48;2;39;40;34m${\u001b[0m\u001b[38;2;248;248;242;48;2;39;40;34mPATCH_FILE_PATH\u001b[0m\u001b[38;2;230;219;116;48;2;39;40;34m}\u001b[0m\u001b[38;2;230;219;116;48;2;39;40;34m\"\u001b[0m\u001b[48;2;39;40;34m                                                                                         \u001b[0m\u001b[48;2;39;40;34m \u001b[0m\n",
       "\u001b[48;2;39;40;34m \u001b[0m\u001b[38;2;149;144;119;48;2;39;40;34m# Apply it to a local repository:\u001b[0m\u001b[48;2;39;40;34m                                                                                \u001b[0m\u001b[48;2;39;40;34m \u001b[0m\n",
       "\u001b[48;2;39;40;34m \u001b[0m\u001b[38;2;248;248;242;48;2;39;40;34mcd\u001b[0m\u001b[38;2;248;248;242;48;2;39;40;34m \u001b[0m\u001b[38;2;248;248;242;48;2;39;40;34m<\u001b[0m\u001b[38;2;248;248;242;48;2;39;40;34myour\u001b[0m\u001b[38;2;248;248;242;48;2;39;40;34m \u001b[0m\u001b[38;2;248;248;242;48;2;39;40;34mlocal\u001b[0m\u001b[38;2;248;248;242;48;2;39;40;34m \u001b[0m\u001b[38;2;248;248;242;48;2;39;40;34mrepo\u001b[0m\u001b[38;2;248;248;242;48;2;39;40;34m \u001b[0m\u001b[38;2;248;248;242;48;2;39;40;34mroot>\u001b[0m\u001b[48;2;39;40;34m                                                                                        \u001b[0m\u001b[48;2;39;40;34m \u001b[0m\n",
       "\u001b[48;2;39;40;34m \u001b[0m\u001b[38;2;248;248;242;48;2;39;40;34mgit\u001b[0m\u001b[38;2;248;248;242;48;2;39;40;34m \u001b[0m\u001b[38;2;248;248;242;48;2;39;40;34mapply\u001b[0m\u001b[38;2;248;248;242;48;2;39;40;34m \u001b[0m\u001b[38;2;230;219;116;48;2;39;40;34m\"\u001b[0m\u001b[38;2;230;219;116;48;2;39;40;34m${\u001b[0m\u001b[38;2;248;248;242;48;2;39;40;34mPATCH_FILE_PATH\u001b[0m\u001b[38;2;230;219;116;48;2;39;40;34m}\u001b[0m\u001b[38;2;230;219;116;48;2;39;40;34m\"\u001b[0m\u001b[48;2;39;40;34m                                                                                   \u001b[0m\u001b[48;2;39;40;34m \u001b[0m\n",
       "\u001b[48;2;39;40;34m                                                                                                                   \u001b[0m\n"
      ]
     },
     "metadata": {},
     "output_type": "display_data"
    }
   ],
   "source": [
    "import art\n",
    "from rollout import ModelConfig, rollout\n",
    "\n",
    "model = art.Model(\n",
    "    # name=\"openrouter/google/gemini-2.5-flash-preview-05-20\",\n",
    "    name=\"openrouter/qwen/qwen3-32b\",\n",
    "    project=\"sweagent\",\n",
    "    config=ModelConfig(xml_function_calling=True),\n",
    ")\n",
    "\n",
    "trajectory, run_single = await rollout(\n",
    "    model,\n",
    "    instance,\n",
    "    # replay_trajectory_path=Path(\n",
    "    #     \"/Users/brad/github/OpenPipe/agent-reinforcement-training/dev/sweagent/trajectories/brad/no_config__openrouter/google/gemini-2.5-flash-preview-05-20__t-1.00__p-1.00__c-0.00___c01334/c01334/c01334.traj\"\n",
    "    # ),\n",
    "    return_run_single=True,\n",
    "    run_in_thread=False,\n",
    ")"
   ]
  }
 ],
 "metadata": {
  "kernelspec": {
   "display_name": ".venv",
   "language": "python",
   "name": "python3"
  },
  "language_info": {
   "codemirror_mode": {
    "name": "ipython",
    "version": 3
   },
   "file_extension": ".py",
   "mimetype": "text/x-python",
   "name": "python",
   "nbconvert_exporter": "python",
   "pygments_lexer": "ipython3",
   "version": "3.10.16"
  }
 },
 "nbformat": 4,
 "nbformat_minor": 2
}
