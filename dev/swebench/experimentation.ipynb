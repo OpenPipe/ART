{
 "cells": [
  {
   "cell_type": "code",
   "execution_count": 1,
   "metadata": {},
   "outputs": [],
   "source": [
    "%load_ext autoreload\n",
    "%autoreload 2"
   ]
  },
  {
   "cell_type": "code",
   "execution_count": 2,
   "metadata": {},
   "outputs": [
    {
     "data": {
      "text/html": [
       "<style>\n",
       ".cell-output-ipywidget-background {\n",
       "    background-color: transparent !important;\n",
       "}\n",
       ":root {\n",
       "    --jp-widgets-color: var(--vscode-editor-foreground);\n",
       "    --jp-widgets-font-size: var(--vscode-editor-font-size);\n",
       "}  \n",
       "</style>\n"
      ],
      "text/plain": [
       "<IPython.core.display.HTML object>"
      ]
     },
     "metadata": {},
     "output_type": "display_data"
    }
   ],
   "source": [
    "%%html\n",
    "<style>\n",
    ".cell-output-ipywidget-background {\n",
    "    background-color: transparent !important;\n",
    "}\n",
    ":root {\n",
    "    --jp-widgets-color: var(--vscode-editor-foreground);\n",
    "    --jp-widgets-font-size: var(--vscode-editor-font-size);\n",
    "}  \n",
    "</style>"
   ]
  },
  {
   "cell_type": "code",
   "execution_count": 3,
   "metadata": {},
   "outputs": [],
   "source": [
    "from dotenv import load_dotenv\n",
    "import nest_asyncio\n",
    "import os\n",
    "\n",
    "os.environ[\"SWE_AGENT_CONFIG_DIR\"] = \".\"\n",
    "os.environ[\"SWE_AGENT_TOOLS_DIR\"] = \"tools\"\n",
    "os.environ[\"SWE_AGENT_TRAJECTORY_DIR\"] = \"trajectories\"\n",
    "\n",
    "os.makedirs(\"replays\", exist_ok=True)\n",
    "os.makedirs(\"trajectories\", exist_ok=True)\n",
    "\n",
    "load_dotenv()\n",
    "nest_asyncio.apply()"
   ]
  },
  {
   "cell_type": "code",
   "execution_count": 4,
   "metadata": {},
   "outputs": [
    {
     "data": {
      "text/plain": [
       "{'repo': 'mwaskom/seaborn',\n",
       " 'instance_id': 'mwaskom__seaborn-3069',\n",
       " 'base_commit': '54cab15bdacfaa05a88fbc5502a5b322d99f148e',\n",
       " 'patch': 'diff --git a/seaborn/_core/plot.py b/seaborn/_core/plot.py\\n--- a/seaborn/_core/plot.py\\n+++ b/seaborn/_core/plot.py\\n@@ -25,7 +25,7 @@\\n from seaborn._stats.base import Stat\\n from seaborn._core.data import PlotData\\n from seaborn._core.moves import Move\\n-from seaborn._core.scales import Scale\\n+from seaborn._core.scales import Scale, Nominal\\n from seaborn._core.subplots import Subplots\\n from seaborn._core.groupby import GroupBy\\n from seaborn._core.properties import PROPERTIES, Property\\n@@ -1238,7 +1238,6 @@ def _setup_scales(\\n             # This only affects us when sharing *paired* axes. This is a novel/niche\\n             # behavior, so we will raise rather than hack together a workaround.\\n             if axis is not None and Version(mpl.__version__) < Version(\"3.4.0\"):\\n-                from seaborn._core.scales import Nominal\\n                 paired_axis = axis in p._pair_spec.get(\"structure\", {})\\n                 cat_scale = isinstance(scale, Nominal)\\n                 ok_dim = {\"x\": \"col\", \"y\": \"row\"}[axis]\\n@@ -1631,6 +1630,7 @@ def _finalize_figure(self, p: Plot) -> None:\\n             ax = sub[\"ax\"]\\n             for axis in \"xy\":\\n                 axis_key = sub[axis]\\n+                axis_obj = getattr(ax, f\"{axis}axis\")\\n \\n                 # Axis limits\\n                 if axis_key in p._limits:\\n@@ -1644,6 +1644,17 @@ def _finalize_figure(self, p: Plot) -> None:\\n                         hi = cast(float, hi) + 0.5\\n                     ax.set(**{f\"{axis}lim\": (lo, hi)})\\n \\n+                # Nominal scale special-casing\\n+                if isinstance(self._scales.get(axis_key), Nominal):\\n+                    axis_obj.grid(False, which=\"both\")\\n+                    if axis_key not in p._limits:\\n+                        nticks = len(axis_obj.get_major_ticks())\\n+                        lo, hi = -.5, nticks - .5\\n+                        if axis == \"y\":\\n+                            lo, hi = hi, lo\\n+                        set_lim = getattr(ax, f\"set_{axis}lim\")\\n+                        set_lim(lo, hi, auto=None)\\n+\\n         engine_default = None if p._target is not None else \"tight\"\\n         layout_engine = p._layout_spec.get(\"engine\", engine_default)\\n         set_layout_engine(self._figure, layout_engine)\\n',\n",
       " 'test_patch': 'diff --git a/tests/_core/test_plot.py b/tests/_core/test_plot.py\\n--- a/tests/_core/test_plot.py\\n+++ b/tests/_core/test_plot.py\\n@@ -645,6 +645,28 @@ def test_undefined_variable_raises(self):\\n         with pytest.raises(RuntimeError, match=err):\\n             p.plot()\\n \\n+    def test_nominal_x_axis_tweaks(self):\\n+\\n+        p = Plot(x=[\"a\", \"b\", \"c\"], y=[1, 2, 3])\\n+        ax1 = p.plot()._figure.axes[0]\\n+        assert ax1.get_xlim() == (-.5, 2.5)\\n+        assert not any(x.get_visible() for x in ax1.xaxis.get_gridlines())\\n+\\n+        lim = (-1, 2.1)\\n+        ax2 = p.limit(x=lim).plot()._figure.axes[0]\\n+        assert ax2.get_xlim() == lim\\n+\\n+    def test_nominal_y_axis_tweaks(self):\\n+\\n+        p = Plot(x=[1, 2, 3], y=[\"a\", \"b\", \"c\"])\\n+        ax1 = p.plot()._figure.axes[0]\\n+        assert ax1.get_ylim() == (2.5, -.5)\\n+        assert not any(y.get_visible() for y in ax1.yaxis.get_gridlines())\\n+\\n+        lim = (-1, 2.1)\\n+        ax2 = p.limit(y=lim).plot()._figure.axes[0]\\n+        assert ax2.get_ylim() == lim\\n+\\n \\n class TestPlotting:\\n \\n',\n",
       " 'problem_statement': \"Nominal scale should be drawn the same way as categorical scales\\nThree distinctive things happen on the categorical axis in seaborn's categorical plots:\\r\\n\\r\\n1. The scale is drawn to +/- 0.5 from the first and last tick, rather than using the normal margin logic\\r\\n2. A grid is not shown, even when it otherwise would be with the active style\\r\\n3. If on the y axis, the axis is inverted\\r\\n\\r\\nIt probably makes sense to have `so.Nominal` scales (including inferred ones) do this too. Some comments on implementation:\\r\\n\\r\\n1. This is actually trickier than you'd think; I may have posted an issue over in matplotlib about this at one point, or just discussed on their gitter. I believe the suggested approach is to add an invisible artist with sticky edges and set the margin to 0. Feels like a hack! I might have looked into setting the sticky edges _on the spine artist_ at one point?\\r\\n\\r\\n2. Probably straightforward to do in `Plotter._finalize_figure`. Always a good idea? How do we defer to the theme if the user wants to force a grid? Should the grid be something that is set in the scale object itself\\r\\n\\r\\n3. Probably straightforward to implement but I am not exactly sure where would be best.\\n\",\n",
       " 'hints_text': '',\n",
       " 'created_at': datetime.datetime(2022, 10, 9, 23, 31, 20, tzinfo=zoneinfo.ZoneInfo(key='UTC')),\n",
       " 'version': '0.12',\n",
       " 'FAIL_TO_PASS': '[\"tests/_core/test_plot.py::TestScaling::test_nominal_x_axis_tweaks\", \"tests/_core/test_plot.py::TestScaling::test_nominal_y_axis_tweaks\"]',\n",
       " 'PASS_TO_PASS': '[\"tests/_core/test_plot.py::TestInit::test_empty\", \"tests/_core/test_plot.py::TestInit::test_data_only\", \"tests/_core/test_plot.py::TestInit::test_df_and_named_variables\", \"tests/_core/test_plot.py::TestInit::test_df_and_mixed_variables\", \"tests/_core/test_plot.py::TestInit::test_vector_variables_only\", \"tests/_core/test_plot.py::TestInit::test_vector_variables_no_index\", \"tests/_core/test_plot.py::TestInit::test_data_only_named\", \"tests/_core/test_plot.py::TestInit::test_positional_and_named_data\", \"tests/_core/test_plot.py::TestInit::test_positional_and_named_xy[x]\", \"tests/_core/test_plot.py::TestInit::test_positional_and_named_xy[y]\", \"tests/_core/test_plot.py::TestInit::test_positional_data_x_y\", \"tests/_core/test_plot.py::TestInit::test_positional_x_y\", \"tests/_core/test_plot.py::TestInit::test_positional_data_x\", \"tests/_core/test_plot.py::TestInit::test_positional_x\", \"tests/_core/test_plot.py::TestInit::test_positional_too_many\", \"tests/_core/test_plot.py::TestInit::test_unknown_keywords\", \"tests/_core/test_plot.py::TestLayerAddition::test_stat_nondefault\", \"tests/_core/test_plot.py::TestLayerAddition::test_variable_list\", \"tests/_core/test_plot.py::TestLayerAddition::test_type_checks\", \"tests/_core/test_plot.py::TestScaling::test_faceted_log_scale\", \"tests/_core/test_plot.py::TestScaling::test_paired_single_log_scale\", \"tests/_core/test_plot.py::TestPlotting::test_matplotlib_object_creation\", \"tests/_core/test_plot.py::TestPlotting::test_empty\", \"tests/_core/test_plot.py::TestPlotting::test_theme_default\", \"tests/_core/test_plot.py::TestPlotting::test_theme_params\", \"tests/_core/test_plot.py::TestPlotting::test_theme_error\", \"tests/_core/test_plot.py::TestPlotting::test_methods_clone\", \"tests/_core/test_plot.py::TestPlotting::test_default_is_no_pyplot\", \"tests/_core/test_plot.py::TestPlotting::test_with_pyplot\", \"tests/_core/test_plot.py::TestPlotting::test_show\", \"tests/_core/test_plot.py::TestPlotting::test_png_repr\", \"tests/_core/test_plot.py::TestPlotting::test_save\", \"tests/_core/test_plot.py::TestPlotting::test_layout_size\", \"tests/_core/test_plot.py::TestPlotting::test_on_type_check\", \"tests/_core/test_plot.py::TestPlotting::test_on_axes_with_subplots_error\", \"tests/_core/test_plot.py::TestPlotting::test_on_disables_layout_algo\", \"tests/_core/test_plot.py::TestPlotting::test_axis_labels_from_constructor\", \"tests/_core/test_plot.py::TestPlotting::test_limits\", \"tests/_core/test_plot.py::TestPlotting::test_labels_axis\", \"tests/_core/test_plot.py::TestPlotting::test_labels_facets\", \"tests/_core/test_plot.py::TestPlotting::test_title_single\", \"tests/_core/test_plot.py::TestPlotting::test_title_facet_function\", \"tests/_core/test_plot.py::TestFacetInterface::test_1d[row]\", \"tests/_core/test_plot.py::TestFacetInterface::test_1d_as_vector[row]\", \"tests/_core/test_plot.py::TestFacetInterface::test_1d_with_order[row-reverse]\", \"tests/_core/test_plot.py::TestFacetInterface::test_1d_with_order[col-reverse]\", \"tests/_core/test_plot.py::TestFacetInterface::test_1d[col]\", \"tests/_core/test_plot.py::TestFacetInterface::test_1d_as_vector[col]\", \"tests/_core/test_plot.py::TestFacetInterface::test_1d_with_order[col-subset]\", \"tests/_core/test_plot.py::TestFacetInterface::test_1d_with_order[row-subset]\", \"tests/_core/test_plot.py::TestFacetInterface::test_2d_with_order[subset]\", \"tests/_core/test_plot.py::TestFacetInterface::test_1d_with_order[col-expand]\", \"tests/_core/test_plot.py::TestFacetInterface::test_1d_with_order[row-expand]\", \"tests/_core/test_plot.py::TestFacetInterface::test_2d_with_order[expand]\", \"tests/_core/test_plot.py::TestFacetInterface::test_2d_with_order[reverse]\", \"tests/_core/test_plot.py::TestFacetInterface::test_2d\", \"tests/_core/test_plot.py::TestFacetInterface::test_layout_algo[tight]\", \"tests/_core/test_plot.py::TestFacetInterface::test_layout_algo[constrained]\", \"tests/_core/test_plot.py::TestFacetInterface::test_axis_sharing\", \"tests/_core/test_plot.py::TestFacetInterface::test_col_wrapping\", \"tests/_core/test_plot.py::TestFacetInterface::test_row_wrapping\", \"tests/_core/test_plot.py::TestPairInterface::test_all_numeric[list]\", \"tests/_core/test_plot.py::TestPairInterface::test_all_numeric[Index]\", \"tests/_core/test_plot.py::TestPairInterface::test_single_variable_key_raises\", \"tests/_core/test_plot.py::TestPairInterface::test_single_dimension[x]\", \"tests/_core/test_plot.py::TestPairInterface::test_single_dimension[y]\", \"tests/_core/test_plot.py::TestPairInterface::test_non_cross\", \"tests/_core/test_plot.py::TestPairInterface::test_list_of_vectors\", \"tests/_core/test_plot.py::TestPairInterface::test_with_no_variables\", \"tests/_core/test_plot.py::TestPairInterface::test_with_facets\", \"tests/_core/test_plot.py::TestPairInterface::test_error_on_facet_overlap[variables0]\", \"tests/_core/test_plot.py::TestPairInterface::test_error_on_facet_overlap[variables1]\", \"tests/_core/test_plot.py::TestPairInterface::test_error_on_wrap_overlap[variables0]\", \"tests/_core/test_plot.py::TestPairInterface::test_error_on_wrap_overlap[variables1]\", \"tests/_core/test_plot.py::TestPairInterface::test_axis_sharing\", \"tests/_core/test_plot.py::TestPairInterface::test_axis_sharing_with_facets\", \"tests/_core/test_plot.py::TestPairInterface::test_x_wrapping\", \"tests/_core/test_plot.py::TestPairInterface::test_y_wrapping\", \"tests/_core/test_plot.py::TestPairInterface::test_non_cross_wrapping\", \"tests/_core/test_plot.py::TestPairInterface::test_cross_mismatched_lengths\", \"tests/_core/test_plot.py::TestPairInterface::test_two_variables_single_order_error\", \"tests/_core/test_plot.py::TestPairInterface::test_limits\", \"tests/_core/test_plot.py::TestPairInterface::test_labels\", \"tests/_core/test_plot.py::TestLabelVisibility::test_single_subplot\", \"tests/_core/test_plot.py::TestLabelVisibility::test_1d_column[facet_kws0-pair_kws0]\", \"tests/_core/test_plot.py::TestLabelVisibility::test_1d_column[facet_kws1-pair_kws1]\", \"tests/_core/test_plot.py::TestLabelVisibility::test_1d_row[facet_kws0-pair_kws0]\", \"tests/_core/test_plot.py::TestLabelVisibility::test_1d_row[facet_kws1-pair_kws1]\", \"tests/_core/test_plot.py::TestLabelVisibility::test_1d_column_wrapped\", \"tests/_core/test_plot.py::TestLabelVisibility::test_1d_row_wrapped\", \"tests/_core/test_plot.py::TestLabelVisibility::test_1d_column_wrapped_non_cross\", \"tests/_core/test_plot.py::TestLabelVisibility::test_2d\", \"tests/_core/test_plot.py::TestLabelVisibility::test_2d_unshared\", \"tests/_core/test_plot.py::TestDefaultObject::test_default_repr\"]',\n",
       " 'environment_setup_commit': 'd25872b0fc99dbf7e666a91f59bd4ed125186aa1',\n",
       " 'difficulty': '15 min - 1 hour',\n",
       " 'image_name': 'swebench/sweb.eval.x86_64.mwaskom_1776_seaborn-3069'}"
      ]
     },
     "execution_count": 4,
     "metadata": {},
     "output_type": "execute_result"
    }
   ],
   "source": [
    "from instances import (\n",
    "    as_instances_iter,\n",
    "    get_filtered_swe_smith_instances_df,\n",
    "    get_swe_bench_verified_instances_df,\n",
    ")\n",
    "\n",
    "# instances_df = get_filtered_swe_smith_instances_df()\n",
    "instances_df = get_swe_bench_verified_instances_df()\n",
    "instances_iter = as_instances_iter(instances_df)\n",
    "for instance in instances_iter:\n",
    "    # break\n",
    "    if (\n",
    "        # instance[\"difficulty\"] == \"<15 min fix\"\n",
    "        instance[\"repo\"] not in (\"astropy/astropy\", \"django/django\", \"matplotlib/matplotlib\")\n",
    "        # and instance[\"instance_id\"] != \"django__django-10097\"\n",
    "    ):\n",
    "        break\n",
    "instance"
   ]
  },
  {
   "cell_type": "code",
   "execution_count": 5,
   "metadata": {},
   "outputs": [
    {
     "name": "stderr",
     "output_type": "stream",
     "text": [
      "WARNING:torchao.kernel.intmm:Warning: Detected no triton, on systems without Triton certain kernels will not work\n",
      "WARNING:swea-lm-asyncio_0:Model openrouter/anthropic/claude-3.5-haiku does not support function calling. If your model does not support function calling, you can use `parse_function='thought_action'` instead. See https://swe-agent.com/latest/faq/ for more information.\n",
      "WARNING:rex_image_builder-asyncio_0:DOCKER_USERNAME and DOCKER_PASSWORD not set. Using public images.\n",
      "WARNING:swea-agent-asyncio_0:Requerying model after FunctionCallingFormatError (1th requery)\n",
      "WARNING:swea-agent-asyncio_0:Your last output did not use any tool calls!\n",
      "Please make sure your output includes exactly _ONE_ function call!\n",
      "You must invoke the function directly using the function call format.\n",
      "You cannot invoke commands with ```, you have to use the function call format.\n",
      "If you think you have already resolved the issue, please submit your changes by running the `submit` command.\n",
      "If you think you cannot solve the problem, please run `exit_forfeit` (if available) or `submit`.\n",
      "Else, please continue with a new tool call!\n"
     ]
    },
    {
     "data": {
      "text/html": [
       "<pre style=\"white-space:pre;overflow-x:auto;line-height:normal;font-family:Menlo,'DejaVu Sans Mono',consolas,'Courier New',monospace\">╭──────────────────────────── 🎉 Submission successful 🎉 ────────────────────────────╮\n",
       "│ SWE-agent has produced a patch that it believes will solve the issue you submitted! │\n",
       "│ Use the code snippet below to inspect or apply it!                                  │\n",
       "╰─────────────────────────────────────────────────────────────────────────────────────╯\n",
       "</pre>\n"
      ],
      "text/plain": [
       "╭──────────────────────────── 🎉 Submission successful 🎉 ────────────────────────────╮\n",
       "│ SWE-agent has produced a patch that it believes will solve the issue you submitted! │\n",
       "│ Use the code snippet below to inspect or apply it!                                  │\n",
       "╰─────────────────────────────────────────────────────────────────────────────────────╯\n"
      ]
     },
     "metadata": {},
     "output_type": "display_data"
    },
    {
     "data": {
      "text/html": [
       "<pre style=\"white-space:pre;overflow-x:auto;line-height:normal;font-family:Menlo,'DejaVu Sans Mono',consolas,'Courier New',monospace\"><span style=\"background-color: #272822\">                                                                                                                   </span>\n",
       "<span style=\"background-color: #272822\"> </span><span style=\"color: #959077; text-decoration-color: #959077; background-color: #272822\"># The patch has been saved to your local filesystem at:</span><span style=\"background-color: #272822\">                                                           </span>\n",
       "<span style=\"background-color: #272822\"> </span><span style=\"color: #f8f8f2; text-decoration-color: #f8f8f2; background-color: #272822\">PATCH_FILE_PATH</span><span style=\"color: #ff4689; text-decoration-color: #ff4689; background-color: #272822\">=</span><span style=\"color: #e6db74; text-decoration-color: #e6db74; background-color: #272822\">'/Users/brad/github/OpenPipe/agent-reinforcement-training/dev/swebench/trajectories/brad/no_confi</span><span style=\"background-color: #272822\"> </span>\n",
       "<span style=\"background-color: #272822\"> </span><span style=\"color: #e6db74; text-decoration-color: #e6db74; background-color: #272822\">_openrouter/anthropic/claude-3.5-haiku__t-1.00__p-1.00__c-0.00___739f9b/739f9b/739f9b.patch'</span><span style=\"background-color: #272822\">                      </span>\n",
       "<span style=\"background-color: #272822\"> </span><span style=\"color: #959077; text-decoration-color: #959077; background-color: #272822\"># Inspect it:</span><span style=\"background-color: #272822\">                                                                                                     </span>\n",
       "<span style=\"background-color: #272822\"> </span><span style=\"color: #f8f8f2; text-decoration-color: #f8f8f2; background-color: #272822\">cat </span><span style=\"color: #e6db74; text-decoration-color: #e6db74; background-color: #272822\">\"${</span><span style=\"color: #f8f8f2; text-decoration-color: #f8f8f2; background-color: #272822\">PATCH_FILE_PATH</span><span style=\"color: #e6db74; text-decoration-color: #e6db74; background-color: #272822\">}\"</span><span style=\"background-color: #272822\">                                                                                          </span>\n",
       "<span style=\"background-color: #272822\"> </span><span style=\"color: #959077; text-decoration-color: #959077; background-color: #272822\"># Apply it to a local repository:</span><span style=\"background-color: #272822\">                                                                                 </span>\n",
       "<span style=\"background-color: #272822\"> </span><span style=\"color: #f8f8f2; text-decoration-color: #f8f8f2; background-color: #272822\">cd &lt;your local repo root&gt;</span><span style=\"background-color: #272822\">                                                                                         </span>\n",
       "<span style=\"background-color: #272822\"> </span><span style=\"color: #f8f8f2; text-decoration-color: #f8f8f2; background-color: #272822\">git apply </span><span style=\"color: #e6db74; text-decoration-color: #e6db74; background-color: #272822\">\"${</span><span style=\"color: #f8f8f2; text-decoration-color: #f8f8f2; background-color: #272822\">PATCH_FILE_PATH</span><span style=\"color: #e6db74; text-decoration-color: #e6db74; background-color: #272822\">}\"</span><span style=\"background-color: #272822\">                                                                                    </span>\n",
       "<span style=\"background-color: #272822\">                                                                                                                   </span>\n",
       "</pre>\n"
      ],
      "text/plain": [
       "\u001b[48;2;39;40;34m                                                                                                                   \u001b[0m\n",
       "\u001b[48;2;39;40;34m \u001b[0m\u001b[38;2;149;144;119;48;2;39;40;34m# The patch has been saved to your local filesystem at:\u001b[0m\u001b[48;2;39;40;34m                                                          \u001b[0m\u001b[48;2;39;40;34m \u001b[0m\n",
       "\u001b[48;2;39;40;34m \u001b[0m\u001b[38;2;248;248;242;48;2;39;40;34mPATCH_FILE_PATH\u001b[0m\u001b[38;2;255;70;137;48;2;39;40;34m=\u001b[0m\u001b[38;2;230;219;116;48;2;39;40;34m'/Users/brad/github/OpenPipe/agent-reinforcement-training/dev/swebench/trajectories/brad/no_confi\u001b[0m\u001b[48;2;39;40;34m \u001b[0m\n",
       "\u001b[48;2;39;40;34m \u001b[0m\u001b[38;2;230;219;116;48;2;39;40;34m_openrouter/anthropic/claude-3.5-haiku__t-1.00__p-1.00__c-0.00___739f9b/739f9b/739f9b.patch'\u001b[0m\u001b[48;2;39;40;34m                     \u001b[0m\u001b[48;2;39;40;34m \u001b[0m\n",
       "\u001b[48;2;39;40;34m \u001b[0m\u001b[38;2;149;144;119;48;2;39;40;34m# Inspect it:\u001b[0m\u001b[48;2;39;40;34m                                                                                                    \u001b[0m\u001b[48;2;39;40;34m \u001b[0m\n",
       "\u001b[48;2;39;40;34m \u001b[0m\u001b[38;2;248;248;242;48;2;39;40;34mcat\u001b[0m\u001b[38;2;248;248;242;48;2;39;40;34m \u001b[0m\u001b[38;2;230;219;116;48;2;39;40;34m\"\u001b[0m\u001b[38;2;230;219;116;48;2;39;40;34m${\u001b[0m\u001b[38;2;248;248;242;48;2;39;40;34mPATCH_FILE_PATH\u001b[0m\u001b[38;2;230;219;116;48;2;39;40;34m}\u001b[0m\u001b[38;2;230;219;116;48;2;39;40;34m\"\u001b[0m\u001b[48;2;39;40;34m                                                                                         \u001b[0m\u001b[48;2;39;40;34m \u001b[0m\n",
       "\u001b[48;2;39;40;34m \u001b[0m\u001b[38;2;149;144;119;48;2;39;40;34m# Apply it to a local repository:\u001b[0m\u001b[48;2;39;40;34m                                                                                \u001b[0m\u001b[48;2;39;40;34m \u001b[0m\n",
       "\u001b[48;2;39;40;34m \u001b[0m\u001b[38;2;248;248;242;48;2;39;40;34mcd\u001b[0m\u001b[38;2;248;248;242;48;2;39;40;34m \u001b[0m\u001b[38;2;248;248;242;48;2;39;40;34m<\u001b[0m\u001b[38;2;248;248;242;48;2;39;40;34myour\u001b[0m\u001b[38;2;248;248;242;48;2;39;40;34m \u001b[0m\u001b[38;2;248;248;242;48;2;39;40;34mlocal\u001b[0m\u001b[38;2;248;248;242;48;2;39;40;34m \u001b[0m\u001b[38;2;248;248;242;48;2;39;40;34mrepo\u001b[0m\u001b[38;2;248;248;242;48;2;39;40;34m \u001b[0m\u001b[38;2;248;248;242;48;2;39;40;34mroot>\u001b[0m\u001b[48;2;39;40;34m                                                                                        \u001b[0m\u001b[48;2;39;40;34m \u001b[0m\n",
       "\u001b[48;2;39;40;34m \u001b[0m\u001b[38;2;248;248;242;48;2;39;40;34mgit\u001b[0m\u001b[38;2;248;248;242;48;2;39;40;34m \u001b[0m\u001b[38;2;248;248;242;48;2;39;40;34mapply\u001b[0m\u001b[38;2;248;248;242;48;2;39;40;34m \u001b[0m\u001b[38;2;230;219;116;48;2;39;40;34m\"\u001b[0m\u001b[38;2;230;219;116;48;2;39;40;34m${\u001b[0m\u001b[38;2;248;248;242;48;2;39;40;34mPATCH_FILE_PATH\u001b[0m\u001b[38;2;230;219;116;48;2;39;40;34m}\u001b[0m\u001b[38;2;230;219;116;48;2;39;40;34m\"\u001b[0m\u001b[48;2;39;40;34m                                                                                   \u001b[0m\u001b[48;2;39;40;34m \u001b[0m\n",
       "\u001b[48;2;39;40;34m                                                                                                                   \u001b[0m\n"
      ]
     },
     "metadata": {},
     "output_type": "display_data"
    }
   ],
   "source": [
    "import art\n",
    "from rollout import ModelConfig, rollout\n",
    "\n",
    "model = art.Model(\n",
    "    # name=\"openrouter/google/gemini-2.5-flash-preview-05-20\",\n",
    "    name=\"openrouter/anthropic/claude-3.5-haiku\",\n",
    "    project=\"sweagent\",\n",
    "    config=ModelConfig(max_input_tokens=131072),\n",
    ")\n",
    "\n",
    "trajectory, run_single = await rollout(\n",
    "    model,\n",
    "    instance,\n",
    "    # replay_trajectory_path=Path(\n",
    "    #     \"/Users/brad/github/OpenPipe/agent-reinforcement-training/dev/sweagent/trajectories/brad/no_config__openrouter/google/gemini-2.5-flash-preview-05-20__t-1.00__p-1.00__c-0.00___c01334/c01334/c01334.traj\"\n",
    "    # ),\n",
    ")"
   ]
  }
 ],
 "metadata": {
  "kernelspec": {
   "display_name": ".venv",
   "language": "python",
   "name": "python3"
  },
  "language_info": {
   "codemirror_mode": {
    "name": "ipython",
    "version": 3
   },
   "file_extension": ".py",
   "mimetype": "text/x-python",
   "name": "python",
   "nbconvert_exporter": "python",
   "pygments_lexer": "ipython3",
   "version": "3.10.16"
  }
 },
 "nbformat": 4,
 "nbformat_minor": 2
}
