{
 "cells": [
  {
   "cell_type": "code",
   "execution_count": 1,
   "metadata": {},
   "outputs": [],
   "source": [
    "%load_ext autoreload\n",
    "%autoreload 2"
   ]
  },
  {
   "cell_type": "code",
   "execution_count": 2,
   "metadata": {},
   "outputs": [
    {
     "data": {
      "text/html": [
       "<style>\n",
       ".cell-output-ipywidget-background {\n",
       "    background-color: transparent !important;\n",
       "}\n",
       ":root {\n",
       "    --jp-widgets-color: var(--vscode-editor-foreground);\n",
       "    --jp-widgets-font-size: var(--vscode-editor-font-size);\n",
       "}  \n",
       "</style>\n"
      ],
      "text/plain": [
       "<IPython.core.display.HTML object>"
      ]
     },
     "metadata": {},
     "output_type": "display_data"
    }
   ],
   "source": [
    "%%html\n",
    "<style>\n",
    ".cell-output-ipywidget-background {\n",
    "    background-color: transparent !important;\n",
    "}\n",
    ":root {\n",
    "    --jp-widgets-color: var(--vscode-editor-foreground);\n",
    "    --jp-widgets-font-size: var(--vscode-editor-font-size);\n",
    "}  \n",
    "</style>"
   ]
  },
  {
   "cell_type": "code",
   "execution_count": 3,
   "metadata": {},
   "outputs": [],
   "source": [
    "from dotenv import load_dotenv\n",
    "import nest_asyncio\n",
    "import os\n",
    "\n",
    "# PREPARE ENVIRONMENT\n",
    "os.environ[\"SWE_AGENT_CONFIG_DIR\"] = \".\"\n",
    "os.environ[\"SWE_AGENT_TOOLS_DIR\"] = \"tools\"\n",
    "os.environ[\"SWE_AGENT_TRAJECTORY_DIR\"] = \"trajectories\"\n",
    "\n",
    "os.makedirs(\"replays\", exist_ok=True)\n",
    "os.makedirs(\"trajectories\", exist_ok=True)\n",
    "\n",
    "load_dotenv()\n",
    "nest_asyncio.apply()"
   ]
  },
  {
   "cell_type": "code",
   "execution_count": 4,
   "metadata": {},
   "outputs": [],
   "source": [
    "import asyncio\n",
    "import modal\n",
    "\n",
    "# CLEAN UP RUNNING SANDBOXES\n",
    "sandboxes: list[modal.Sandbox] = []\n",
    "async for sandbox in modal.Sandbox.list.aio(\n",
    "    app_id=modal.App.lookup(\"swe-rex\", create_if_missing=True).app_id\n",
    "):\n",
    "    sandboxes.append(sandbox)\n",
    "_ = await asyncio.gather(*[sandbox.terminate.aio() for sandbox in sandboxes])"
   ]
  },
  {
   "cell_type": "code",
   "execution_count": null,
   "metadata": {},
   "outputs": [],
   "source": [
    "import art\n",
    "from art.local import LocalBackend\n",
    "from rollout import ModelConfig\n",
    "\n",
    "# INITIALIZE MODEL\n",
    "backend = LocalBackend()\n",
    "model = art.TrainableModel(\n",
    "    name=\"002\",\n",
    "    project=\"sweagent\",\n",
    "    config=ModelConfig(\n",
    "        max_input_tokens=40_960,\n",
    "        system_prompt_suffix=\"\\n/no_think\",\n",
    "        xml_function_calling=True,\n",
    "    ),\n",
    "    base_model=\"Qwen/Qwen3-32B\",\n",
    "    _internal_config=art.dev.InternalModelConfig(\n",
    "        init_args=art.dev.InitArgs(\n",
    "            max_seq_length=40_960,\n",
    "        ),\n",
    "    ),\n",
    ")\n",
    "await model.register(backend)"
   ]
  },
  {
   "cell_type": "code",
   "execution_count": null,
   "metadata": {},
   "outputs": [],
   "source": [
    "from instances import as_instances_iter, get_filtered_swe_smith_instances_df\n",
    "from rollout import rollout\n",
    "\n",
    "# TRAIN MODEL\n",
    "instances = (\n",
    "    get_filtered_swe_smith_instances_df()\n",
    "    .sample(fraction=1.0, shuffle=True, seed=42)\n",
    "    .pipe(as_instances_iter)\n",
    ")\n",
    "\n",
    "async for trajectory_groups in art.trajectory_group_batches(\n",
    "    (\n",
    "        art.TrajectoryGroup(rollout(model, instance) for _ in range(4))\n",
    "        for instance in instances\n",
    "    ),\n",
    "    batch_size=4,\n",
    "    max_concurrent_batches=2,\n",
    "    skip_batches=await model.get_step(),\n",
    "):\n",
    "    await model.train(\n",
    "        trajectory_groups,\n",
    "        _config=art.dev.TrainConfig(\n",
    "            enable_assistant_message_training=True,\n",
    "        ),\n",
    "    )"
   ]
  }
 ],
 "metadata": {
  "kernelspec": {
   "display_name": ".venv",
   "language": "python",
   "name": "python3"
  },
  "language_info": {
   "codemirror_mode": {
    "name": "ipython",
    "version": 3
   },
   "file_extension": ".py",
   "mimetype": "text/x-python",
   "name": "python",
   "nbconvert_exporter": "python",
   "pygments_lexer": "ipython3",
   "version": "3.10.13"
  }
 },
 "nbformat": 4,
 "nbformat_minor": 2
}
