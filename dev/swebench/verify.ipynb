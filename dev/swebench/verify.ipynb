{
 "cells": [
  {
   "cell_type": "code",
   "execution_count": 1,
   "metadata": {},
   "outputs": [],
   "source": [
    "%load_ext autoreload\n",
    "%autoreload 2"
   ]
  },
  {
   "cell_type": "code",
   "execution_count": 2,
   "metadata": {},
   "outputs": [
    {
     "data": {
      "text/html": [
       "<style>\n",
       ".cell-output-ipywidget-background {\n",
       "    background-color: transparent !important;\n",
       "}\n",
       ":root {\n",
       "    --jp-widgets-color: var(--vscode-editor-foreground);\n",
       "    --jp-widgets-font-size: var(--vscode-editor-font-size);\n",
       "}  \n",
       "</style>\n"
      ],
      "text/plain": [
       "<IPython.core.display.HTML object>"
      ]
     },
     "metadata": {},
     "output_type": "display_data"
    }
   ],
   "source": [
    "%%html\n",
    "<style>\n",
    ".cell-output-ipywidget-background {\n",
    "    background-color: transparent !important;\n",
    "}\n",
    ":root {\n",
    "    --jp-widgets-color: var(--vscode-editor-foreground);\n",
    "    --jp-widgets-font-size: var(--vscode-editor-font-size);\n",
    "}  \n",
    "</style>"
   ]
  },
  {
   "cell_type": "code",
   "execution_count": 3,
   "metadata": {},
   "outputs": [],
   "source": [
    "from dotenv import load_dotenv\n",
    "import nest_asyncio\n",
    "import os\n",
    "\n",
    "os.environ[\"SWE_AGENT_CONFIG_DIR\"] = \".\"\n",
    "os.environ[\"SWE_AGENT_TOOLS_DIR\"] = \"tools\"\n",
    "os.environ[\"SWE_AGENT_TRAJECTORY_DIR\"] = \"trajectories\"\n",
    "\n",
    "os.makedirs(\"replays\", exist_ok=True)\n",
    "os.makedirs(\"trajectories\", exist_ok=True)\n",
    "\n",
    "load_dotenv()\n",
    "nest_asyncio.apply()"
   ]
  },
  {
   "cell_type": "code",
   "execution_count": 4,
   "metadata": {},
   "outputs": [
    {
     "data": {
      "text/html": [
       "<pre style=\"white-space:pre;overflow-x:auto;line-height:normal;font-family:Menlo,'DejaVu Sans Mono',consolas,'Courier New',monospace\"><span style=\"color: #000080; text-decoration-color: #000080\">👋 INFO    </span> This is SWE-agent version <span style=\"color: #008080; text-decoration-color: #008080; font-weight: bold\">1.1</span>.<span style=\"color: #008080; text-decoration-color: #008080; font-weight: bold\">0</span> <span style=\"font-weight: bold\">(</span><span style=\"color: #808000; text-decoration-color: #808000\">hash</span>=<span style=\"color: #008000; text-decoration-color: #008000\">'unavailable'</span><span style=\"font-weight: bold\">)</span> with SWE-ReX version <span style=\"color: #008080; text-decoration-color: #008080; font-weight: bold\">1.2</span>.<span style=\"color: #008080; text-decoration-color: #008080; font-weight: bold\">2</span>                        \n",
       "            <span style=\"font-weight: bold\">(</span><span style=\"color: #808000; text-decoration-color: #808000\">rex_hash</span>=<span style=\"color: #008000; text-decoration-color: #008000\">'unavailable'</span><span style=\"font-weight: bold\">)</span>.                                                                              \n",
       "</pre>\n"
      ],
      "text/plain": [
       "\u001b[34m👋 INFO    \u001b[0m This is SWE-agent version \u001b[1;36m1.1\u001b[0m.\u001b[1;36m0\u001b[0m \u001b[1m(\u001b[0m\u001b[33mhash\u001b[0m=\u001b[32m'unavailable'\u001b[0m\u001b[1m)\u001b[0m with SWE-ReX version \u001b[1;36m1.2\u001b[0m.\u001b[1;36m2\u001b[0m                        \n",
       "            \u001b[1m(\u001b[0m\u001b[33mrex_hash\u001b[0m=\u001b[32m'unavailable'\u001b[0m\u001b[1m)\u001b[0m.                                                                              \n"
      ]
     },
     "metadata": {},
     "output_type": "display_data"
    }
   ],
   "source": [
    "import asyncio\n",
    "from sweagent.environment.swe_env import SWEEnv\n",
    "from swerex.deployment.modal import ModalDeployment\n",
    "\n",
    "from eval import eval_instance, EvalResult\n",
    "from instances import Instance\n",
    "\n",
    "\n",
    "async def verify(instance: Instance) -> EvalResult:\n",
    "    env = SWEEnv(\n",
    "        deployment=ModalDeployment(\n",
    "            image=instance[\"image_name\"], startup_timeout=180.0, runtime_timeout=600.0\n",
    "        ),\n",
    "        repo=None,\n",
    "        post_startup_commands=[],\n",
    "    )\n",
    "    await asyncio.to_thread(env.start)\n",
    "#     # Write patch using heredoc with proper newlines to avoid escaping issues\n",
    "#     patch_content = instance[\"patch\"]\n",
    "#     command = f\"\"\"cd /testbed && cat > /tmp/patch.patch << 'PATCH_EOF'\n",
    "# {patch_content}\n",
    "# PATCH_EOF\"\"\"\n",
    "\n",
    "#     result = env.communicate(command, check=\"raise\")\n",
    "#     print(\"Patch written to file:\", result)\n",
    "\n",
    "#     # Apply the patch\n",
    "#     result = env.communicate(\"cd /testbed && git apply --verbose --check /tmp/patch.patch\", check=\"ignore\")\n",
    "#     print(\"Git apply check result:\", result)\n",
    "    eval = await eval_instance(instance, env.deployment.runtime)\n",
    "    await asyncio.to_thread(env.close)\n",
    "    return eval"
   ]
  },
  {
   "cell_type": "code",
   "execution_count": 5,
   "metadata": {},
   "outputs": [
    {
     "data": {
      "text/html": [
       "<pre style=\"white-space:pre;overflow-x:auto;line-height:normal;font-family:Menlo,'DejaVu Sans Mono',consolas,'Courier New',monospace\"><span style=\"color: #000080; text-decoration-color: #000080\">🦖 INFO    </span> Building image from docker registry jyangballin/swesmith.x86_64.mimino666_1776_langdetect.a1598f1a     \n",
       "</pre>\n"
      ],
      "text/plain": [
       "\u001b[34m🦖 INFO    \u001b[0m Building image from docker registry jyangballin/swesmith.x86_64.mimino666_1776_langdetect.a1598f1a     \n"
      ]
     },
     "metadata": {},
     "output_type": "display_data"
    },
    {
     "data": {
      "text/html": [
       "<pre style=\"white-space:pre;overflow-x:auto;line-height:normal;font-family:Menlo,'DejaVu Sans Mono',consolas,'Courier New',monospace\"><span style=\"color: #008000; text-decoration-color: #008000\">🦖 DEBUG   </span> Docker login credentials were provided                                                                 \n",
       "</pre>\n"
      ],
      "text/plain": [
       "\u001b[32m🦖 DEBUG   \u001b[0m Docker login credentials were provided                                                                 \n"
      ]
     },
     "metadata": {},
     "output_type": "display_data"
    },
    {
     "data": {
      "text/html": [
       "<pre style=\"white-space:pre;overflow-x:auto;line-height:normal;font-family:Menlo,'DejaVu Sans Mono',consolas,'Courier New',monospace\"><span style=\"color: #000080; text-decoration-color: #000080\">🦖 INFO    </span> Starting modal sandbox                                                                                 \n",
       "</pre>\n"
      ],
      "text/plain": [
       "\u001b[34m🦖 INFO    \u001b[0m Starting modal sandbox                                                                                 \n"
      ]
     },
     "metadata": {},
     "output_type": "display_data"
    },
    {
     "data": {
      "text/html": [
       "<pre style=\"white-space:pre;overflow-x:auto;line-height:normal;font-family:Menlo,'DejaVu Sans Mono',consolas,'Courier New',monospace\"><span style=\"color: #000080; text-decoration-color: #000080\">🦖 INFO    </span> Sandbox <span style=\"font-weight: bold\">(</span>sb-TIZEzmQldYWameTSTrMV1A<span style=\"font-weight: bold\">)</span> created in <span style=\"color: #008080; text-decoration-color: #008080; font-weight: bold\">0.</span>88s                                                   \n",
       "</pre>\n"
      ],
      "text/plain": [
       "\u001b[34m🦖 INFO    \u001b[0m Sandbox \u001b[1m(\u001b[0msb-TIZEzmQldYWameTSTrMV1A\u001b[1m)\u001b[0m created in \u001b[1;36m0.\u001b[0m88s                                                   \n"
      ]
     },
     "metadata": {},
     "output_type": "display_data"
    },
    {
     "data": {
      "text/html": [
       "<pre style=\"white-space:pre;overflow-x:auto;line-height:normal;font-family:Menlo,'DejaVu Sans Mono',consolas,'Courier New',monospace\"><span style=\"color: #000080; text-decoration-color: #000080\">🦖 INFO    </span> Check sandbox logs at                                                                                  \n",
       "            <span style=\"color: #0000ff; text-decoration-color: #0000ff; text-decoration: underline\">https://modal.com/apps/default/main/deployed/swe-rex?activeTab=logs&amp;taskId=ta-01JWSJG5NQD23NV31T59ZAD1R</span>\n",
       "            <span style=\"color: #0000ff; text-decoration-color: #0000ff; text-decoration: underline\">S</span>                                                                                                      \n",
       "</pre>\n"
      ],
      "text/plain": [
       "\u001b[34m🦖 INFO    \u001b[0m Check sandbox logs at                                                                                  \n",
       "            \u001b[4;94mhttps://modal.com/apps/default/main/deployed/swe-rex?\u001b[0m\u001b[4;94mactiveTab\u001b[0m\u001b[4;94m=\u001b[0m\u001b[4;94mlogs\u001b[0m\u001b[4;94m&\u001b[0m\u001b[4;94mtaskId\u001b[0m\u001b[4;94m=\u001b[0m\u001b[4;94mta\u001b[0m\u001b[4;94m-01JWSJG5NQD23NV31T59ZAD1R\u001b[0m\n",
       "            \u001b[4;94mS\u001b[0m                                                                                                      \n"
      ]
     },
     "metadata": {},
     "output_type": "display_data"
    },
    {
     "data": {
      "text/html": [
       "<pre style=\"white-space:pre;overflow-x:auto;line-height:normal;font-family:Menlo,'DejaVu Sans Mono',consolas,'Courier New',monospace\"><span style=\"color: #000080; text-decoration-color: #000080\">🦖 INFO    </span> Sandbox created with id sb-TIZEzmQldYWameTSTrMV1A                                                      \n",
       "</pre>\n"
      ],
      "text/plain": [
       "\u001b[34m🦖 INFO    \u001b[0m Sandbox created with id sb-TIZEzmQldYWameTSTrMV1A                                                      \n"
      ]
     },
     "metadata": {},
     "output_type": "display_data"
    },
    {
     "data": {
      "text/html": [
       "<pre style=\"white-space:pre;overflow-x:auto;line-height:normal;font-family:Menlo,'DejaVu Sans Mono',consolas,'Courier New',monospace\"><span style=\"color: #000080; text-decoration-color: #000080\">🦖 INFO    </span> Starting runtime at <span style=\"color: #0000ff; text-decoration-color: #0000ff; text-decoration: underline\">https://57ytyhqh2bhlus.r18.modal.host</span>                                              \n",
       "</pre>\n"
      ],
      "text/plain": [
       "\u001b[34m🦖 INFO    \u001b[0m Starting runtime at \u001b[4;94mhttps://57ytyhqh2bhlus.r18.modal.host\u001b[0m                                              \n"
      ]
     },
     "metadata": {},
     "output_type": "display_data"
    },
    {
     "data": {
      "text/html": [
       "<pre style=\"white-space:pre;overflow-x:auto;line-height:normal;font-family:Menlo,'DejaVu Sans Mono',consolas,'Courier New',monospace\"><span style=\"color: #000080; text-decoration-color: #000080\">🦖 INFO    </span> Runtime started in <span style=\"color: #008080; text-decoration-color: #008080; font-weight: bold\">11.</span>12s                                                                              \n",
       "</pre>\n"
      ],
      "text/plain": [
       "\u001b[34m🦖 INFO    \u001b[0m Runtime started in \u001b[1;36m11.\u001b[0m12s                                                                              \n"
      ]
     },
     "metadata": {},
     "output_type": "display_data"
    },
    {
     "data": {
      "text/html": [
       "<pre style=\"white-space:pre;overflow-x:auto;line-height:normal;font-family:Menlo,'DejaVu Sans Mono',consolas,'Courier New',monospace\"><span style=\"color: #000080; text-decoration-color: #000080\">🪴 INFO    </span> Environment Initialized                                                                                \n",
       "</pre>\n"
      ],
      "text/plain": [
       "\u001b[34m🪴 INFO    \u001b[0m Environment Initialized                                                                                \n"
      ]
     },
     "metadata": {},
     "output_type": "display_data"
    },
    {
     "data": {
      "text/html": [
       "<pre style=\"white-space:pre;overflow-x:auto;line-height:normal;font-family:Menlo,'DejaVu Sans Mono',consolas,'Courier New',monospace\"><span style=\"color: #000080; text-decoration-color: #000080\">🪴 INFO    </span> Beginning environment shutdown<span style=\"color: #808000; text-decoration-color: #808000\">...</span>                                                                      \n",
       "</pre>\n"
      ],
      "text/plain": [
       "\u001b[34m🪴 INFO    \u001b[0m Beginning environment shutdown\u001b[33m...\u001b[0m                                                                      \n"
      ]
     },
     "metadata": {},
     "output_type": "display_data"
    },
    {
     "data": {
      "text/html": [
       "<pre style=\"white-space:pre;overflow-x:auto;line-height:normal;font-family:Menlo,'DejaVu Sans Mono',consolas,'Courier New',monospace\"><span style=\"color: #008000; text-decoration-color: #008000\">🦖 DEBUG   </span> Ensuring deployment is stopped because object is deleted                                               \n",
       "</pre>\n"
      ],
      "text/plain": [
       "\u001b[32m🦖 DEBUG   \u001b[0m Ensuring deployment is stopped because object is deleted                                               \n"
      ]
     },
     "metadata": {},
     "output_type": "display_data"
    }
   ],
   "source": [
    "from instances import as_instances_iter, get_filtered_swe_smith_instances_df\n",
    "\n",
    "tasks = (\n",
    "    get_filtered_swe_smith_instances_df()\n",
    "    .sample(fraction=1.0, shuffle=True, seed=42)\n",
    "    .head(1)\n",
    "    .pipe(as_instances_iter)\n",
    ")\n",
    "\n",
    "eval_results = await asyncio.gather(*(verify(instance) for instance in tasks))"
   ]
  },
  {
   "cell_type": "code",
   "execution_count": 6,
   "metadata": {},
   "outputs": [
    {
     "data": {
      "text/plain": [
       "[{'num_failed_f2p': 0,\n",
       "  'num_passed_f2p': 4,\n",
       "  'num_failed_p2p': 0,\n",
       "  'num_passed_p2p': 19}]"
      ]
     },
     "execution_count": 6,
     "metadata": {},
     "output_type": "execute_result"
    }
   ],
   "source": [
    "eval_results"
   ]
  }
 ],
 "metadata": {
  "kernelspec": {
   "display_name": ".venv",
   "language": "python",
   "name": "python3"
  },
  "language_info": {
   "codemirror_mode": {
    "name": "ipython",
    "version": 3
   },
   "file_extension": ".py",
   "mimetype": "text/x-python",
   "name": "python",
   "nbconvert_exporter": "python",
   "pygments_lexer": "ipython3",
   "version": "3.10.13"
  }
 },
 "nbformat": 4,
 "nbformat_minor": 2
}
