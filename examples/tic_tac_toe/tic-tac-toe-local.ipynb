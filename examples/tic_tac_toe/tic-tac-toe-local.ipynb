{
  "cells": [
    {
      "cell_type": "code",
      "execution_count": null,
      "metadata": {},
      "outputs": [],
      "source": [
        "import art\n",
        "from dotenv import load_dotenv\n",
        "import random\n",
        "\n",
        "from art.utils.get_repo_root_path import get_repo_root_path\n",
        "from art.local import LocalAPI\n",
        "\n",
        "load_dotenv()\n",
        "\n",
        "random.seed(42)\n",
        "\n",
        "# get path to root of repo\n",
        "root_path = get_repo_root_path()\n",
        "\n",
        "api = LocalAPI()\n",
        "\n",
        "model = art.TrainableModel(\n",
        "    name=\"002-notebook\", project=\"tic-tac-toe-local\", base_model=\"Qwen/Qwen2.5-1.5B-Instruct\"\n",
        ")\n",
        "await model.register(api)"
      ]
    },
    {
      "cell_type": "code",
      "execution_count": null,
      "metadata": {},
      "outputs": [],
      "source": [
        "from rollout import rollout\n",
        "\n",
        "for i in range(await model.get_step(), 100):\n",
        "    train_groups = await art.gather_trajectory_groups(\n",
        "        (\n",
        "            art.TrajectoryGroup(\n",
        "                rollout(model, i, is_validation=False) for _ in range(100)\n",
        "            )\n",
        "            for _ in range(1)\n",
        "        ),\n",
        "        pbar_desc=\"gather\",\n",
        "    )\n",
        "    await model.delete_checkpoints()\n",
        "    await model.train(train_groups, config=art.TrainConfig(learning_rate=1e-4))"
      ]
    },
    {
      "cell_type": "code",
      "execution_count": null,
      "metadata": {},
      "outputs": [],
      "source": [
        "import asyncio\n",
        "import os\n",
        "\n",
        "gpt_4o_mini = art.Model(\n",
        "    name=\"gpt-4o-mini\",\n",
        "    project=\"tic-tac-toe-local\",\n",
        "    inference_model_name=\"gpt-4o-mini\",\n",
        "    inference_api_key=os.getenv(\"OPENAI_API_KEY\"),\n",
        "    inference_base_url=\"https://api.openai.com/v1\",\n",
        ")\n",
        "await gpt_4o_mini.register(api)\n",
        "\n",
        "gpt_4o = art.Model(\n",
        "    name=\"gpt-4o\",\n",
        "    project=\"tic-tac-toe-local\",\n",
        "    inference_model_name=\"gpt-4o\",\n",
        "    inference_api_key=os.getenv(\"OPENAI_API_KEY\"),\n",
        "    inference_base_url=\"https://api.openai.com/v1\",\n",
        ")\n",
        "await gpt_4o.register(api)\n",
        "\n",
        "gpt_4_1 = art.Model(\n",
        "    name=\"gpt-4.1\",\n",
        "    project=\"tic-tac-toe-local\",\n",
        "    inference_model_name=\"gpt-4.1\",\n",
        "    inference_api_key=os.getenv(\"OPENAI_API_KEY\"),\n",
        "    inference_base_url=\"https://api.openai.com/v1\",\n",
        ")\n",
        "await gpt_4_1.register(api)\n",
        "\n",
        "async def log_comparison_model(comparison_model: art.Model):\n",
        "    trajectories = await art.gather_trajectory_groups(\n",
        "            (\n",
        "                art.TrajectoryGroup(rollout(comparison_model, 0, is_validation=True) for _ in range(40))\n",
        "            for _ in range(1)\n",
        "        ),\n",
        "        pbar_desc=f\"gather {comparison_model.name}\",\n",
        "        max_exceptions=1,\n",
        "    )\n",
        "\n",
        "    await comparison_model.log(\n",
        "        trajectories,\n",
        "        split=\"val\",\n",
        "    )\n",
        "\n",
        "promises = []\n",
        "\n",
        "for comparison_model in [gpt_4o_mini, gpt_4o, gpt_4_1]:\n",
        "    promises.append(log_comparison_model(comparison_model))\n",
        "\n",
        "await asyncio.gather(*promises)"
      ]
    },
    {
      "cell_type": "code",
      "execution_count": 9,
      "metadata": {},
      "outputs": [],
      "source": [
        "DESTROY_AFTER_RUN = False\n",
        "\n",
        "if DESTROY_AFTER_RUN:\n",
        "    await api.down()"
      ]
    }
  ],
  "metadata": {
    "kernelspec": {
      "display_name": ".venv",
      "language": "python",
      "name": "python3"
    },
    "language_info": {
      "codemirror_mode": {
        "name": "ipython",
        "version": 3
      },
      "file_extension": ".py",
      "mimetype": "text/x-python",
      "name": "python",
      "nbconvert_exporter": "python",
      "pygments_lexer": "ipython3",
      "version": "3.10.13"
    }
  },
  "nbformat": 4,
  "nbformat_minor": 2
}
