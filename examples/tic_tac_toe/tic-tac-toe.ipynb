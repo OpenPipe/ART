{
  "cells": [
    {
      "cell_type": "code",
      "execution_count": 1,
      "metadata": {},
      "outputs": [],
      "source": [
        "%load_ext autoreload\n",
        "%autoreload 2"
      ]
    },
    {
      "cell_type": "code",
      "execution_count": 2,
      "metadata": {},
      "outputs": [
        {
          "data": {
            "text/html": [
              "<style>\n",
              ".cell-output-ipywidget-background {\n",
              "    background-color: transparent !important;\n",
              "}\n",
              ":root {\n",
              "    --jp-widgets-color: var(--vscode-editor-foreground);\n",
              "    --jp-widgets-font-size: var(--vscode-editor-font-size);\n",
              "}  \n",
              "</style>\n"
            ],
            "text/plain": [
              "<IPython.core.display.HTML object>"
            ]
          },
          "metadata": {},
          "output_type": "display_data"
        }
      ],
      "source": [
        "%%html\n",
        "<style>\n",
        ".cell-output-ipywidget-background {\n",
        "    background-color: transparent !important;\n",
        "}\n",
        ":root {\n",
        "    --jp-widgets-color: var(--vscode-editor-foreground);\n",
        "    --jp-widgets-font-size: var(--vscode-editor-font-size);\n",
        "}  \n",
        "</style>"
      ]
    },
    {
      "cell_type": "code",
      "execution_count": 3,
      "metadata": {},
      "outputs": [],
      "source": [
        "import random\n",
        "from typing import TypedDict\n",
        "from typing import Literal\n",
        "import xml.etree.ElementTree as ET\n",
        "\n",
        "\n",
        "class TicTacToeGame(TypedDict):\n",
        "    board: list[list[str]]\n",
        "    agent_symbol: Literal[\"x\", \"o\"]\n",
        "    opponent_symbol: Literal[\"x\", \"o\"]\n",
        "\n",
        "\n",
        "def generate_game(board_length: int = 3) -> TicTacToeGame:\n",
        "    board = [[\"_\" for _ in range(board_length)] for _ in range(board_length)]\n",
        "    agent_symbol = random.choice([\"x\", \"o\"])\n",
        "    opponent_symbol = \"x\" if agent_symbol == \"o\" else \"o\"\n",
        "    return {\n",
        "        \"board\": board,\n",
        "        \"agent_symbol\": agent_symbol,\n",
        "        \"opponent_symbol\": opponent_symbol,\n",
        "    }\n",
        "\n",
        "\n",
        "def render_board(game: TicTacToeGame) -> str:\n",
        "    board = game[\"board\"]\n",
        "    board_length = len(board)\n",
        "    # print something like this:\n",
        "    #    1   2   3\n",
        "    # A  _ | x | x\n",
        "    # B  o | _ | _\n",
        "    # C  _ | o | _\n",
        "    # where _ is an empty cell\n",
        "\n",
        "    board_str = \"   \" + \"   \".join([str(i + 1) for i in range(board_length)]) + \"\\n\"\n",
        "    for i in range(board_length):\n",
        "        board_str += f\"{chr(65 + i)}  {board[i][0]} | {board[i][1]} | {board[i][2]}\\n\"\n",
        "    return board_str\n",
        "\n",
        "\n",
        "def get_opponent_move(game: TicTacToeGame) -> tuple[int, int]:\n",
        "    # get a random empty cell\n",
        "    empty_cells = [\n",
        "        (i, j) for i in range(3) for j in range(3) if game[\"board\"][i][j] == \"_\"\n",
        "    ]\n",
        "    return random.choice(empty_cells)\n",
        "\n",
        "\n",
        "def apply_agent_move(game: TicTacToeGame, move: str) -> None:\n",
        "    board_length = len(game[\"board\"])\n",
        "\n",
        "    try:\n",
        "        root = ET.fromstring(move)\n",
        "        square = root.text\n",
        "    except Exception as e:\n",
        "        raise ValueError(\"Invalid xml\")\n",
        "\n",
        "    try:\n",
        "        row_index = ord(square[0]) - 65\n",
        "        col_index = int(square[1]) - 1\n",
        "    except Exception as e:\n",
        "        print(e)\n",
        "        raise ValueError(\"Unable to parse square\")\n",
        "\n",
        "    if (\n",
        "        row_index < 0\n",
        "        or row_index >= board_length\n",
        "        or col_index < 0\n",
        "        or col_index >= board_length\n",
        "    ):\n",
        "        raise ValueError(\n",
        "            f\"Invalid move, row or column out of bounds: {row_index}, {col_index}\"\n",
        "        )\n",
        "\n",
        "    # check if the move is valid\n",
        "    if game[\"board\"][row_index][col_index] != \"_\":\n",
        "        raise ValueError(\"Square already occupied\")\n",
        "\n",
        "    game[\"board\"][row_index][col_index] = game[\"agent_symbol\"]\n",
        "\n",
        "\n",
        "def check_winner(board: list[list[str]]) -> Literal[\"x\", \"o\", \"draw\", None]:\n",
        "    board_length = len(board)\n",
        "    # check rows\n",
        "    for row in board:\n",
        "        if row.count(row[0]) == board_length and row[0] != \"_\":\n",
        "            return row[0]\n",
        "    # check columns\n",
        "    for col in range(board_length):\n",
        "        if [board[row][col] for row in range(board_length)].count(\n",
        "            board[0][col]\n",
        "        ) == board_length and board[0][col] != \"_\":\n",
        "            return board[0][col]\n",
        "\n",
        "    # top right to bottom left\n",
        "    upward_diagonal = [board[i][board_length - i - 1] for i in range(board_length)]\n",
        "    if (\n",
        "        upward_diagonal.count(upward_diagonal[0]) == board_length\n",
        "        and upward_diagonal[0] != \"_\"\n",
        "    ):\n",
        "        return upward_diagonal[0]\n",
        "\n",
        "    # top left to bottom right\n",
        "    downward_diagonal = [board[i][i] for i in range(board_length)]\n",
        "    if (\n",
        "        downward_diagonal.count(downward_diagonal[0]) == board_length\n",
        "        and downward_diagonal[0] != \"_\"\n",
        "    ):\n",
        "        return downward_diagonal[0]\n",
        "\n",
        "    # check for draw\n",
        "    if all(cell != \"_\" for row in board for cell in row):\n",
        "        return \"draw\"\n",
        "    return None\n"
      ]
    },
    {
      "cell_type": "code",
      "execution_count": 4,
      "metadata": {},
      "outputs": [
        {
          "name": "stdout",
          "output_type": "stream",
          "text": [
            "OpenPipe client initialized\n"
          ]
        },
        {
          "name": "stderr",
          "output_type": "stream",
          "text": [
            "/root/sky_workdir/src/art/__init__.py:10: UserWarning: WARNING: Unsloth should be imported before transformers, peft to ensure all optimizations are applied. Your code may run slower or encounter memory issues without these optimizations.\n",
            "\n",
            "Please restructure your imports with 'import unsloth' at the top of your file.\n",
            "  import unsloth  # type: ignore\n"
          ]
        },
        {
          "name": "stdout",
          "output_type": "stream",
          "text": [
            "🦥 Unsloth: Will patch your computer to enable 2x faster free finetuning.\n",
            "Unsloth: Failed to patch Gemma3ForConditionalGeneration.\n",
            "🦥 Unsloth Zoo will now patch everything to make training faster!\n",
            "INFO 04-20 08:13:35 __init__.py:207] Automatically detected platform cuda.\n",
            "==((====))==  Unsloth 2025.3.19: Fast Qwen2 patching. Transformers: 4.51.1. vLLM: 0.7.3.\n",
            "   \\\\   /|    NVIDIA H100 PCIe. Num GPUs = 1. Max memory: 79.097 GB. Platform: Linux.\n",
            "O^O/ \\_/ \\    Torch: 2.5.1+cu124. CUDA: 9.0. CUDA Toolkit: 12.4. Triton: 3.1.0\n",
            "\\        /    Bfloat16 = TRUE. FA [Xformers = 0.0.29.post1. FA2 = False]\n",
            " \"-____-\"     Free license: http://github.com/unslothai/unsloth\n",
            "Unsloth: Fast downloading is enabled - ignore downloading bars which are red colored!\n",
            "Unsloth: vLLM loading unsloth/qwen2.5-3b-instruct-unsloth-bnb-4bit with actual GPU utilization = 78.39%\n",
            "Unsloth: Your GPU has CUDA compute capability 9.0 with VRAM = 79.1 GB.\n",
            "Unsloth: Using conservativeness = 1.0. Chunked prefill tokens = 32768. Num Sequences = 368.\n",
            "Unsloth: vLLM's KV Cache can use up to 59.78 GB. Also swap space = 6 GB.\n",
            "INFO 04-20 08:13:46 config.py:549] This model supports multiple tasks: {'reward', 'embed', 'score', 'classify', 'generate'}. Defaulting to 'generate'.\n",
            "Unsloth: vLLM Bitsandbytes config using kwargs = {'load_in_8bit': False, 'load_in_4bit': True, 'bnb_4bit_compute_dtype': 'bfloat16', 'bnb_4bit_quant_storage': 'uint8', 'bnb_4bit_quant_type': 'nf4', 'bnb_4bit_use_double_quant': True, 'llm_int8_enable_fp32_cpu_offload': False, 'llm_int8_has_fp16_weight': False, 'llm_int8_skip_modules': ['lm_head', 'multi_modal_projector', 'merger', 'modality_projection', 'model.layers.2.mlp', 'model.layers.3.mlp', 'model.layers.30.mlp'], 'llm_int8_threshold': 6.0}\n",
            "INFO 04-20 08:13:46 llm_engine.py:234] Initializing a V0 LLM engine (v0.7.3) with config: model='unsloth/qwen2.5-3b-instruct-unsloth-bnb-4bit', speculative_config=None, tokenizer='unsloth/qwen2.5-3b-instruct-unsloth-bnb-4bit', skip_tokenizer_init=False, tokenizer_mode=auto, revision=None, override_neuron_config=None, tokenizer_revision=None, trust_remote_code=False, dtype=torch.bfloat16, max_seq_len=32768, download_dir=None, load_format=bitsandbytes, tensor_parallel_size=1, pipeline_parallel_size=1, disable_custom_all_reduce=False, quantization=bitsandbytes, enforce_eager=False, kv_cache_dtype=auto,  device_config=cuda:0, decoding_config=DecodingConfig(guided_decoding_backend='xgrammar'), observability_config=ObservabilityConfig(otlp_traces_endpoint=None, collect_model_forward_time=False, collect_model_execute_time=False), seed=0, served_model_name=unsloth/qwen2.5-3b-instruct-unsloth-bnb-4bit, num_scheduler_steps=16, multi_step_stream_outputs=True, enable_prefix_caching=True, chunked_prefill_enabled=False, use_async_output_proc=True, disable_mm_preprocessor_cache=False, mm_processor_kwargs=None, pooler_config=None, compilation_config={\"level\":0,\"splitting_ops\":[],\"compile_sizes\":[],\"cudagraph_capture_sizes\":[368,360,352,344,336,328,320,312,304,296,288,280,272,264,256,248,240,232,224,216,208,200,192,184,176,168,160,152,144,136,128,120,112,104,96,88,80,72,64,56,48,40,32,24,16,8,4,2,1],\"max_capture_size\":368}, use_cached_outputs=False, \n",
            "INFO 04-20 08:13:46 cuda.py:229] Using Flash Attention backend.\n",
            "WARNING 04-20 08:13:46 registry.py:335] `mm_limits` has already been set for model=unsloth/qwen2.5-3b-instruct-unsloth-bnb-4bit, and will be overwritten by the new values.\n",
            "INFO 04-20 08:13:47 model_runner.py:1110] Starting to load model unsloth/qwen2.5-3b-instruct-unsloth-bnb-4bit...\n",
            "INFO 04-20 08:13:47 loader.py:1089] Loading weights with BitsAndBytes quantization.  May take a while ...\n",
            "INFO 04-20 08:13:47 weight_utils.py:254] Using model weights format ['*.safetensors']\n"
          ]
        },
        {
          "name": "stderr",
          "output_type": "stream",
          "text": [
            "Loading safetensors checkpoint shards:   0% Completed | 0/1 [00:00<?, ?it/s]\n",
            "Loading safetensors checkpoint shards: 100% Completed | 1/1 [00:00<00:00,  1.49it/s]\n",
            "Loading safetensors checkpoint shards: 100% Completed | 1/1 [00:00<00:00,  1.49it/s]\n",
            "\n",
            "Loading safetensors checkpoint shards:   0% Completed | 0/1 [00:00<?, ?it/s]\n",
            "Loading safetensors checkpoint shards: 100% Completed | 1/1 [00:00<00:00,  1.37it/s]\n",
            "Loading safetensors checkpoint shards: 100% Completed | 1/1 [00:00<00:00,  1.36it/s]\n",
            "\n"
          ]
        },
        {
          "name": "stdout",
          "output_type": "stream",
          "text": [
            "INFO 04-20 08:13:49 model_runner.py:1115] Loading model weights took 2.2265 GB\n",
            "INFO 04-20 08:13:49 punica_selector.py:18] Using PunicaWrapperGPU.\n",
            "INFO 04-20 08:13:54 worker.py:267] Memory profiling takes 4.80 seconds\n",
            "INFO 04-20 08:13:54 worker.py:267] the current vLLM instance can use total_gpu_memory (79.10GiB) x gpu_memory_utilization (0.78) = 62.01GiB\n",
            "INFO 04-20 08:13:54 worker.py:267] model weights take 2.23GiB; non_torch_memory takes 0.14GiB; PyTorch activation peak memory takes 2.71GiB; the rest of the memory reserved for KV Cache is 56.92GiB.\n",
            "INFO 04-20 08:13:54 executor_base.py:111] # cuda blocks: 103626, # CPU blocks: 10922\n",
            "INFO 04-20 08:13:54 executor_base.py:116] Maximum concurrency for 32768 tokens per request: 50.60x\n",
            "INFO 04-20 08:14:02 model_runner.py:1434] Capturing cudagraphs for decoding. This may lead to unexpected consequences if the model is not static. To run the model in eager mode, set 'enforce_eager=True' or use '--enforce-eager' in the CLI. If out-of-memory error occurs during cudagraph capture, consider decreasing `gpu_memory_utilization` or switching to eager mode. You can also reduce the `max_num_seqs` as needed to decrease memory usage.\n"
          ]
        },
        {
          "name": "stderr",
          "output_type": "stream",
          "text": [
            "Capturing CUDA graph shapes: 100%|██████████| 49/49 [00:43<00:00,  1.12it/s]\n"
          ]
        },
        {
          "name": "stdout",
          "output_type": "stream",
          "text": [
            "INFO 04-20 08:14:46 model_runner.py:1562] Graph capturing finished in 44 secs, took 1.30 GiB\n",
            "INFO 04-20 08:14:46 llm_engine.py:436] init engine (profile, create kv cache, warmup model) took 57.09 seconds\n"
          ]
        },
        {
          "name": "stderr",
          "output_type": "stream",
          "text": [
            "Unsloth 2025.3.19 patched 36 layers with 36 QKV layers, 36 O layers and 36 MLP layers.\n"
          ]
        }
      ],
      "source": [
        "import art\n",
        "from dotenv import load_dotenv\n",
        "import random\n",
        "from pydantic import BaseModel\n",
        "\n",
        "from openpipe.client import OpenPipe\n",
        "\n",
        "load_dotenv()\n",
        "\n",
        "op_client = OpenPipe()\n",
        "print(\"OpenPipe client initialized\")\n",
        "\n",
        "random.seed(42)\n",
        "\n",
        "api = art.LocalAPI()\n",
        "\n",
        "class CustomConfig(BaseModel):\n",
        "    litellm_model_name: str | None = None\n",
        "\n",
        "model = art.TrainableModel(\n",
        "    name=\"005\", project=\"tic-tac-toe\", base_model=\"Qwen/Qwen2.5-3B-Instruct\"\n",
        ")\n",
        "await model.register(api)\n",
        "\n",
        "gpt_4o_mini = art.Model(\n",
        "    name=\"gpt-4o-mini\",\n",
        "    project=\"tic-tac-toe\",\n",
        "    config=CustomConfig(\n",
        "        litellm_model_name=\"openai/gpt-4o-mini\",\n",
        "    ),\n",
        ")\n",
        "await gpt_4o_mini.register(api)\n",
        "\n",
        "gpt_4o = art.Model(\n",
        "    name=\"gpt-4o\",\n",
        "    project=\"tic-tac-toe\",\n",
        "    config=CustomConfig(\n",
        "        litellm_model_name=\"openai/gpt-4o\",\n",
        "    ),\n",
        ")\n",
        "await gpt_4o.register(api)"
      ]
    },
    {
      "cell_type": "code",
      "execution_count": 11,
      "metadata": {},
      "outputs": [],
      "source": [
        "import art\n",
        "import openai\n",
        "import time\n",
        "from litellm import acompletion\n",
        "import math\n",
        "\n",
        "from art.utils.litellm import convert_litellm_choice_to_openai\n",
        "\n",
        "\n",
        "@art.retry(exceptions=(openai.LengthFinishReasonError,))\n",
        "async def rollout(\n",
        "    model: art.Model, iteration: int, is_validation: bool\n",
        ") -> art.Trajectory:\n",
        "    game = generate_game()\n",
        "\n",
        "    trajectory = art.Trajectory(\n",
        "        messages_and_choices=[\n",
        "            {\n",
        "                \"role\": \"system\",\n",
        "                \"content\": f\"You are a tic-tac-toe player. You are playing against an opponent. Always choose the move most likely to lead to an eventual win. Return your move as an XML object with a single property 'move', like so: <move>A1</move>. Optional moves are 'A1', 'B3', 'C2', etc. You are the {game['agent_symbol']} symbol.\",\n",
        "            }\n",
        "        ],\n",
        "        reward=0,\n",
        "    )\n",
        "\n",
        "    move_number = 0\n",
        "\n",
        "    if game[\"agent_symbol\"] == \"o\":\n",
        "        starting_opponent_move = get_opponent_move(game)\n",
        "        game[\"board\"][starting_opponent_move[0]][starting_opponent_move[1]] = game[\n",
        "            \"opponent_symbol\"\n",
        "        ]\n",
        "\n",
        "    while check_winner(game[\"board\"]) is None:\n",
        "        trajectory.messages_and_choices.append(\n",
        "            {\"role\": \"user\", \"content\": render_board(game)}\n",
        "        )\n",
        "\n",
        "        requested_at = int(time.time() * 1000)\n",
        "        messages = trajectory.messages()\n",
        "\n",
        "        try:\n",
        "            model_id = model.config.litellm_model_name if isinstance(model.config, CustomConfig) else f\"hosted_vllm/{model.name}\"\n",
        "            chat_completion = await acompletion(\n",
        "                base_url=model.base_url,\n",
        "                api_key=model.api_key,\n",
        "                model=model_id,\n",
        "                messages=messages,\n",
        "                max_completion_tokens=128,\n",
        "            )\n",
        "            last_completion = chat_completion\n",
        "        except openai.LengthFinishReasonError as e:\n",
        "            raise e\n",
        "        except Exception as e:\n",
        "            print(\"caught exception generating chat completion\")\n",
        "            print(e)\n",
        "            global failing_trajectory\n",
        "            failing_trajectory = trajectory\n",
        "            raise e\n",
        "\n",
        "        try:\n",
        "            op_client.report(\n",
        "                requested_at=requested_at,\n",
        "                received_at=int(time.time() * 1000),\n",
        "                req_payload={\n",
        "                    \"model\": model.name,\n",
        "                    \"messages\": messages,\n",
        "                    \"metadata\": {\n",
        "                        \"notebook-id\": \"tic-tac-toe\",\n",
        "                        \"iteration\": str(iteration),\n",
        "                        \"validation\": str(is_validation),\n",
        "                        \"move_number\": str(move_number),\n",
        "                    },\n",
        "                },\n",
        "                resp_payload=chat_completion,\n",
        "                status_code=200,\n",
        "            )\n",
        "        except Exception as e:\n",
        "            print(f\"Error reporting to OpenPipe: {e}\")\n",
        "\n",
        "        choice = convert_litellm_choice_to_openai(chat_completion.choices[0])\n",
        "        content = choice.message.content\n",
        "        assert isinstance(content, str)\n",
        "        trajectory.messages_and_choices.append(choice)\n",
        "\n",
        "        try:\n",
        "            apply_agent_move(game, content)\n",
        "        except ValueError as e:\n",
        "            trajectory.reward = -1 + (math.log(move_number + 1) / math.log(100))\n",
        "            break\n",
        "\n",
        "        if check_winner(game[\"board\"]) is not None:\n",
        "            break\n",
        "        move_number += 1\n",
        "\n",
        "        opponent_move = get_opponent_move(game)\n",
        "        game[\"board\"][opponent_move[0]][opponent_move[1]] = game[\"opponent_symbol\"]\n",
        "\n",
        "    winner = check_winner(game[\"board\"])\n",
        "\n",
        "    if winner == game[\"agent_symbol\"]:\n",
        "        trajectory.reward = 1\n",
        "    elif winner == game[\"opponent_symbol\"]:\n",
        "        trajectory.reward = 0\n",
        "    elif winner == \"draw\":\n",
        "        trajectory.reward = 0.5\n",
        "\n",
        "    try:\n",
        "        op_client.update_log_metadata(\n",
        "            filters=[\n",
        "                {\n",
        "                    \"field\": \"completionId\",\n",
        "                    \"equals\": last_completion.id,\n",
        "                }\n",
        "            ],\n",
        "            metadata={\n",
        "                \"reward\": str(trajectory.reward),\n",
        "                \"reward_assigned\": \"true\",\n",
        "            },\n",
        "        )\n",
        "    except Exception as e:\n",
        "        print(f\"Error updating log metadata: {e}\")\n",
        "\n",
        "        print(trajectory.reward)\n",
        "\n",
        "    return trajectory\n"
      ]
    },
    {
      "cell_type": "code",
      "execution_count": null,
      "metadata": {},
      "outputs": [
        {
          "data": {
            "application/vnd.jupyter.widget-view+json": {
              "model_id": "697e6878f21749ff958a3f77aadfb3e2",
              "version_major": 2,
              "version_minor": 0
            },
            "text/plain": [
              "gather:   0%|          | 0/48 [00:00<?, ?it/s]"
            ]
          },
          "metadata": {},
          "output_type": "display_data"
        },
        {
          "name": "stdout",
          "output_type": "stream",
          "text": [
            "caught exception applying agent move\n",
            "Invalid xml\n",
            "Since the board is empty and I am X, my best strategic move would be to make the first move in the center to maximize my chances. The center square is B3. Here is the XML representation of this move:\n",
            "\n",
            "<move>B3</move>\n",
            "caught exception applying agent move\n",
            "Invalid xml\n",
            "Since my opponent has played 'x' in the bottom-right corner (B3), my best move would be to occupy the top-left corner (A1) to create a potential winning move in my next turn. Here's my move:\n",
            "\n",
            "<move>A1</move>\n",
            "caught exception applying agent move\n",
            "Invalid xml\n",
            "Given that I am X and aiming for the fastest win, I will start by placing X at center C3 to potentially secure diagonal wins (C-D-A or C-B-A) if possible. So, my move will be:\n",
            "\n",
            "```xml\n",
            "<move>C3</move>\n",
            "```\n",
            "caught exception applying agent move\n",
            "Invalid xml\n",
            "Given that I am the 'X' symbol and the game board is currently blank, my first move should be the center square 'B3'. This position gives me the best initial strategic advantage. Here is the XML representation of the move:\n",
            "\n",
            "```xml\n",
            "<move>B3</move>\n",
            "```\n",
            "caught exception applying agent move\n",
            "Invalid xml\n",
            "Given the initial state of the Tic-Tac-Toe board provided, the optimal first move would be to take the center square (B3) to prevent immediate loss if the opponent starts in the corner and also occupy a strategic middle position. Here's the move I'll choose:\n",
            "\n",
            "<move>B3</move>\n",
            "caught exception applying agent move\n",
            "Invalid xml\n",
            "Given the state of the board provided, it looks like the board is currently empty. Since you're \\(X\\), your first move to win optimally should be \\(C3\\), assuming your opponent doesn't make a strategic move. Here's the XML representation of your move:\n",
            "\n",
            "```xml\n",
            "<move>C3</move>\n",
            "```\n",
            "caught exception applying agent move\n",
            "Invalid xml\n",
            "Given the situation, the AI player (X) should aim to secure a win or at least avoid losing. In this position, the AI should move to C3 as it blocks the opponent's potential win on either the middle column or forces a win if possible.\n",
            "\n",
            "Here's the move as requested:\n",
            "\n",
            "```xml\n",
            "<move>C3</move>\n",
            "```\n",
            "caught exception applying agent move\n",
            "Invalid xml\n",
            "Given the information, it appears that the board is still empty, and I am starting as X. Since the opponent has no moves, I will strategically place my 'X' in the center square (B3) to set up the best possible winning position if the game goes on. Here's my move:\n",
            "\n",
            "```xml\n",
            "<move>B3</move>\n",
            "```\n",
            "caught exception applying agent move\n",
            "Invalid xml\n",
            "Given the board state provided, it looks like the game hasn't started yet, so there are multiple possible winning moves, but I'll select the simplest optimal move, which is likely to win on the next turn. The simplest way to do this is to occupy a corner on the board.\n",
            "\n",
            "Here is the XML representation for the move 'A1':\n",
            "```xml\n",
            "<move>A1</move>\n",
            "```\n",
            "caught exception applying agent move\n",
            "Invalid xml\n",
            "Given the current board state you provided, the first move (A1) by the 'x' symbol is necessary. Since there are no opposing moves yet, the only possible move to make progress in the game (by leading towards a win or at least avoiding immediate loss) is 'A1'. \n",
            "\n",
            "Here's the XML object for your first move:\n",
            "\n",
            "```xml\n",
            "<move>A1</move>\n",
            "```\n",
            "caught exception applying agent move\n",
            "Invalid xml\n",
            "Given the starting board configuration provided, there are no immediate wins for X. However, to always choose the move most likely to lead to an eventual win, I will look ahead at potential moves to find the optimal first move. Since the board is empty, the optimal first move for X is to take the center square B3. Here's the move:\n",
            "\n",
            "```xml\n",
            "<move>B3</move>\n",
            "```\n",
            "caught exception applying agent move\n",
            "Invalid xml\n",
            "Given that I am X and you have not made a move yet, the optimal first move to guarantee a win in the vast majority of cases is to place X at the center, C2.\n",
            "\n",
            "Here is the updated board:\n",
            "\n",
            "   1   2   3\n",
            "A  _ | _ | _\n",
            "B  _ | _ | _\n",
            "C  X | _ | _\n",
            "\n",
            "<move>C2</move>\n",
            "caught exception applying agent move\n",
            "Invalid xml\n",
            "Based on the board layout you've provided, it's clear that the center square (B3) is a crucial strategic position in Tic-Tac-Toe. By occupying this square, you can set yourself up to win almost immediately or create winning opportunities in the near future. Therefore, I will play the center square.\n",
            "\n",
            "Here's the XML object with the move:\n",
            "\n",
            "```xml\n",
            "<move>B3</move>\n",
            "```\n",
            "caught exception applying agent move\n",
            "Invalid xml\n",
            "Given the current state of the board:\n",
            "\n",
            "```\n",
            "   1   2   3\n",
            "A  _ | x | _\n",
            "B  _ | _ | _\n",
            "C  _ | _ | _\n",
            "```\n",
            "\n",
            "The only possible winning move for player o (you) is to place 'o' in position C3. This move will immediately win the game.\n",
            "\n",
            "Here is the XML representation of the move to C3:\n",
            "\n",
            "```xml\n",
            "<move>C3</move>\n",
            "```\n",
            "caught exception applying agent move\n",
            "Invalid xml\n",
            "Given the current state of the board:\n",
            "\n",
            "```\n",
            "   1   2   3\n",
            "A  _ | _ | _\n",
            "B  _ | x | _\n",
            "C  _ | _ | _\n",
            "```\n",
            "\n",
            "Your best move would be to place your \"o\" in the center square (B2), as it's a winning move - setting up a potential row for you. Here's the XML representation of that move:\n",
            "\n",
            "```xml\n",
            "<move>B2</move>\n",
            "```\n",
            "caught exception applying agent move\n",
            "Invalid xml\n",
            "Given that I am the 'X' player and you haven't indicated any moves, I will make the most strategic move. The most effective way to win is to potentially create a box or a diagonal win on the second turn. Here's the optimal move:\n",
            "\n",
            "I will move to the center of the board (position C2) assuming it opens up the most flexibility for successive wins:\n",
            "\n",
            "Let's create the XML object for this move:\n",
            "\n",
            "```xml\n",
            "<move>C2</move>\n",
            "```\n",
            "caught exception applying agent move\n",
            "Invalid xml\n",
            "Given the board configuration you've provided, it appears that the board is empty. If I'm X and always aiming for a win, I would try to take the center (C3) to maximize my opportunities. However, since the question asks for the first move assuming the most aggressive strategy, I'll start at a corner to have a near-immediate winning opportunity if any of my potential first moves are not immediately blocked.\n",
            "\n",
            "Here's my first move as an X player:\n",
            "\n",
            "<move>A1</move>\n",
            "caught exception applying agent move\n",
            "Invalid xml\n",
            "Given the board:\n",
            "```\n",
            "  1   2   3\n",
            "A  x | _ | _\n",
            "B  _ | _ | _\n",
            "C  _ | _ | _\n",
            "```\n",
            "Your opponent has already played an 'x' at position 'A1'. Since the board is symmetric and you're playing as 'o', your next move should be to fill the 'B3' position to take a strategic advantage. Here's your move:\n",
            "\n",
            "```xml\n",
            "<move>B3</move>\n",
            "```\n",
            "caught exception applying agent move\n",
            "Invalid xml\n",
            "Given the current board position:\n",
            "\n",
            "```\n",
            " 1   2   3\n",
            "A _ | _ | _\n",
            "B _ | _ | x\n",
            "C _ | _ | _\n",
            "```\n",
            "\n",
            "The only optimal next move for O (you) to ensure a win is to place the 'O' in position 'B2'. This will create a winning move in the next move itself if the opponent doesn't block it.\n",
            "\n",
            "The move to be made is:\n",
            "\n",
            "```xml\n",
            "<move>B2</move>\n",
            "```\n",
            "caught exception applying agent move\n",
            "Invalid xml\n",
            "Based on the board position provided, it seems like there's no immediate threat from my A move (since B and C are empty). However, to always choose the most optimal move, I would look for an early winning strategy or block my opponent's potential win. In this case, the optimal move would be to take the center (B3) because it gives me the best immediate position to either win or maintain the winning sequence.\n",
            "\n",
            "Here is the move:\n",
            "\n",
            "```xml\n",
            "<move>B3</move>\n",
            "```\n",
            "caught exception applying agent move\n",
            "Invalid xml\n",
            "Given the initial board position:\n",
            "\n",
            "```\n",
            "  1   2   3\n",
            "A  _ | _ | _\n",
            "B  _ | _ | C\n",
            "C  _ | x | _\n",
            "```\n",
            "\n",
            "Your opponent has a 'x' symbol on position B3. Since it's your turn, the optimal move would be to take the center cell for a better chance to win, which is A3.\n",
            "\n",
            "Here's the XML object for your move:\n",
            "```xml\n",
            "<move>A3</move>\n",
            "```\n",
            "caught exception applying agent move\n",
            "Invalid xml\n",
            "Given the current state of the board:\n",
            "\n",
            "```\n",
            " 1   2   3\n",
            "A _ | _ | _\n",
            "B x | _ | _\n",
            "C _ | _ | _\n",
            "```\n",
            "\n",
            "The opponent placed an 'x' at 'B3'. The optimal move for 'o' would be to place at 'A2'. This move will maximize the opponent's possible next defensive moves, while creating important layout options ahead.\n",
            "\n",
            "Therefore, the XML move is:\n",
            "```xml\n",
            "<move>A2</move>\n",
            "```\n",
            "caught exception applying agent move\n",
            "Invalid xml\n",
            "Given that the board is partially filled with \"x\" in the center (B3), the most logical next move for O to ensure a win is to claim the last empty space in the middle row, B3. Therefore, I will move to B3.\n",
            "\n",
            "Here is the updated board with my move:\n",
            "   1   2   3\n",
            "A  _ | _ | _\n",
            "B  _ | o | _\n",
            "C  x | _ | _\n",
            "\n",
            "Here is the XML representation of my move:\n",
            "<move>B3</move>\n",
            "caught exception applying agent move\n",
            "Invalid xml\n",
            "Given the current state of the board provided:\n",
            "\n",
            "```\n",
            "   1   2   3\n",
            "A  _ | _ | _\n",
            "B  _ | _ | _\n",
            "C  _ | _ | _\n",
            "```\n",
            "\n",
            "I don't have enough information to determine the win, but I will consider the most strategic move. Since \"A2\" is the first empty square, I'll assume the board is at a make-it-two stage and choose it to make the most critical move for a future win.\n",
            "\n",
            "Here is my move:\n",
            "<move>A2</move>\n",
            "caught exception applying agent move\n",
            "Invalid xml\n",
            "Given the current state of the board:\n",
            "\n",
            "```\n",
            " 1   2   3\n",
            "A _ | _ | _\n",
            "B _ | _ | _\n",
            "C _ | _ | _\n",
            "```\n",
            "\n",
            "It's not immediately clear where I should place my 'X' in order to most likely lead to a win. However, based on common strategies and considering there are no obvious immediate threats or large open areas, I will choose 'B3' to place my 'X'. \n",
            "\n",
            "Here is the XML representation of this move:\n",
            "\n",
            "```xml\n",
            "<move>B3</move>\n",
            "```\n",
            "caught exception applying agent move\n",
            "Invalid xml\n",
            "Given the initial board configuration:\n",
            "```\n",
            "   1   2   3\n",
            "A  _ | _ | _\n",
            "B  _ | x | _\n",
            "C  _ | _ | _\n",
            "```\n",
            "Your move should be in the second row, second column (B2). However, without the rule that I have to always opt for a win (which can make the game overly complicated), it would be optimal to take the center next (C2) for a more balanced game.\n",
            "\n",
            "Here’s the move I would make:\n",
            "```xml\n",
            "<move>C2</move>\n",
            "```\n",
            "caught exception applying agent move\n",
            "Invalid xml\n",
            "Given the board state:\n",
            "\n",
            "```\n",
            "  1   2   3\n",
            "A  _ | _ | _\n",
            "B  x | _ | _\n",
            "C  _ | _ | _\n",
            "```\n",
            "\n",
            "The optimal move to win immediately is by placing an 'o' in position `'B2'`. This creates the following board state:\n",
            "\n",
            "```\n",
            "   1   2   3\n",
            "A  _ | _ | _\n",
            "B  x | o | _\n",
            "C  _ | _ | _\n",
            "```\n",
            "\n",
            "Here is the response in XML format:\n",
            "\n",
            "```xml\n",
            "<move>B2</move>\n",
            "```\n",
            "caught exception applying agent move\n",
            "Invalid xml\n",
            "Given the board configuration:\n",
            "\n",
            "```\n",
            "   1   2   3\n",
            "A  _ | _ | _\n",
            "B  _ | _ | x\n",
            "C  _ | _ | _\n",
            "```\n",
            "\n",
            "Your next best move should be to block potential wins and try to set up a potential win in the next turn. Since your opponent (x) plays at B3, your optimal move would be to take one of the corners (A1 or C1) because it’s more likely to set up an eventual win.\n",
            "\n",
            "Let's choose move A1:\n",
            "\n",
            "```xml\n",
            "<move>A1</move>\n",
            "```\n",
            "caught exception applying agent move\n",
            "Invalid xml\n",
            "Given the board configuration:\n",
            "\n",
            "```\n",
            " 1   2   3\n",
            "A  _ | _ | _\n",
            "B  _ | _ | x\n",
            "C  _ | _ | _\n",
            "```\n",
            "\n",
            "Since the opponent (x) has placed an x on B3, the optimal move for you (o) to maximize your chances of winning should target one of the middle or edge squares to create a winning opportunity. On this board, the best move is B3, as it blocks a potential winning move for the opponent and sets up a winning possibility for you.\n",
            "\n",
            "The best move is B3. Here is the XML representation of the move\n",
            "caught exception applying agent move\n",
            "Invalid xml\n",
            "Given that I am always considering the optimal move to lead to an eventual win, and my opponent's last move was not given, let's analyze the board state:\n",
            "\n",
            "```\n",
            "  1   2   3\n",
            "A  _ | _ | _\n",
            "B  _ | _ | _\n",
            "C  _ | _ | _\n",
            "```\n",
            "\n",
            "To determine a strategic move, I'll look for potential winning combinations. The most naive attack might involve checking if there are two 'X's adjacent to an empty spot in a potential row, column, or diagonal. However, since winning requires three in a row and unless there's an immediate threat,\n",
            "caught exception applying agent move\n",
            "Invalid xml\n",
            "Given the board:\n",
            "\n",
            "```\n",
            "   1   2   3\n",
            "A  _ | _ | _\n",
            "B  _ | _ | _\n",
            "C  x | _ | _\n",
            "```\n",
            "\n",
            "Your opponent has put an 'x' in one of the corners or in the middle. Since you are 'o' and not winning immediately, you should aim to create a position that can force a win in the next move.\n",
            "\n",
            "Looking at the board, the logical move would be to take the middle position 'B3' due to its strategic importance. This move can open up future opportunities for a two-in-a-row formation or dominate the board\n",
            "caught exception applying agent move\n",
            "Invalid xml\n",
            "Given this initial board configuration, your opponent has already played an 'x' in one of the cells. Since I don't know which specific cell was played, I will choose the move that most likely maximizes my future winning opportunities. \n",
            "\n",
            "Let's quickly analyze:\n",
            "\n",
            "- The 'x' could be at 'B3'.\n",
            "  - If true, the opponent probably aimed to block a corner or middle, but there's still a strong opportunity to force a win.\n",
            "- I'll assume 'B3' as the latest move and choose a strategic subsequent move.\n",
            "\n",
            "Considering the best strategy to force a win, the likely best move from here is\n",
            "caught exception applying agent move\n",
            "Invalid xml\n",
            "Given the initial board configuration you provided, it's difficult to determine an immediate winning move because the board is currently empty. However, as an AI player, I would always aim for a winning move if possible. Let's assume the opponent has already made their first move.\n",
            "\n",
            "Since the board is empty, any move (A1, B1, or C1) can be considered. At this stage, let's make the move A1, which is a common starting move and can often lead to strategic dominance.\n",
            "\n",
            "```xml\n",
            "<move>A1</move>\n",
            "```\n",
            "\n",
            "If the board were different, I'd analyze the current state to\n",
            "caught exception applying agent move\n",
            "Invalid xml\n",
            "Given the initial board configuration you've provided, I need to make a strategic move to lead to an eventual win. Since I'm X, I'll look for a winning move first.\n",
            "\n",
            "The initial board:\n",
            "   1   2   3\n",
            "A  _ | _ | _\n",
            "B  _ | _ | _\n",
            "C  _ | _ | _\n",
            "\n",
            "Since I don't see any immediate threats or opportunities for a win, I can look ahead to see what my opponent might do. However, without knowing my opponent's moves, I'll make a move that blocks some potential future winning scenarios for them while simultaneously setting up my own future\n",
            "caught exception applying agent move\n",
            "Invalid xml\n",
            "Given the board position:\n",
            "\n",
            "```\n",
            "  1   2   3\n",
            "A  _ | _ | _\n",
            "B  _ | _ | _\n",
            "C  _ | _ | x\n",
            "```\n",
            "\n",
            "The opponent has marked an 'x' at position C3. I should aim to get an 'o' in the center of the board (position B2) to create a winning potential if possible. However, since that move is not immediately available, I will aim to have a corner like A2 to block further opponent center placement or force a win with next move.\n",
            "\n",
            "This means my most strategic move is:\n",
            "\n",
            "<move>A2\n",
            "caught exception applying agent move\n",
            "Invalid xml\n",
            "To guarantee a win, I need to look ahead at possible future states and find a move that maximizes my chances. Since I'm X and the first move, the best strategy is to set up a middle space to control the middle line and the potential winning lines.\n",
            "\n",
            "In the current board state:\n",
            "\n",
            "```\n",
            "  1   2   3\n",
            "A  _ | _ | _\n",
            "B  _ | _ | _\n",
            "C  _ | _ | _\n",
            "```\n",
            "\n",
            "I should consider moving to B3 to potentially force a win in the future. But if my opponent responds correctly, I might need to reconsider. Assuming no optimal defense\n",
            "caught exception applying agent move\n",
            "Invalid xml\n",
            "Given the current board configuration:\n",
            "\n",
            "```\n",
            "  1   2   3\n",
            "A  _ | _ | _\n",
            "B  _ | _ | x\n",
            "C  _ | _ | x\n",
            "```\n",
            "\n",
            "Since you are O and I play as O, I need to make the next move to get myself a winning position. Looking at the board:\n",
            "\n",
            "- Row B: There is no way to win on the second line with O. \n",
            "- C column already has 2 of x at position 3. \n",
            "\n",
            "The best possible move is to force a win, so I should aim to put O in position B3. This\n",
            "caught exception applying agent move\n",
            "Invalid xml\n",
            "Since the board is partly filled, I will analyze the board to find the best move that maximizes my chances of winning or at least not losing. The opponent has just placed an 'x' at position 'C2'. \n",
            "\n",
            "Here's the current board:\n",
            "   1   2   3\n",
            "A  _ | _ | _\n",
            "B  _ | _ | _\n",
            "C  _ | _ | x\n",
            "\n",
            "Given this board state, I will consider the possible moves and find the best one for my next move:\n",
            "\n",
            "1. **C1**: Opponent has taken C2, so C3 is a worthy alternative, but the\n",
            "caught exception applying agent move\n",
            "Invalid xml\n",
            "Given the current state of the board:\n",
            "\n",
            "```\n",
            "  1   2   3\n",
            "A  _ | _ | _\n",
            "B  _ | x | _\n",
            "C  _ | _ | _\n",
            "```\n",
            "\n",
            "Your (O) move should be 'A3' to block the winning move if the opponent (X) places an 'x' in 'C3'. If you make this move, the board will look like this:\n",
            "\n",
            "```\n",
            "  1   2   3\n",
            "A  _ | _ | O\n",
            "B  _ | x | _\n",
            "C  _ | _ | O\n",
            "```\n",
            "\n",
            "This forces your\n",
            "caught exception applying agent move\n",
            "Invalid xml\n",
            "Given the board configuration:\n",
            "\n",
            "```\n",
            "  1   2   3\n",
            "A  _ | _ | _\n",
            "B  _ | _ | _\n",
            "C  _ | x | _\n",
            "```\n",
            "\n",
            "The opponent has placed an 'x' in position C3, so the board looks like this:\n",
            "  \n",
            "```\n",
            "  1   2   3\n",
            "A  _ | _ | _\n",
            "B  _ | _ | _\n",
            "C  _ | x | _\n",
            "```\n",
            "\n",
            "Since 'x' has made their move, my move will be on B2. This move is part of a potential middle-game strategy in Tic-Tac-To\n",
            "caught exception applying agent move\n",
            "Invalid xml\n",
            "Given the game state provided, the opponent has already placed their symbol ('x') in the center (C3). Since there are no moves left for 'o' to make to win immediately, we should consider the second best move to prevent the opponent from winning in their next turn.\n",
            "\n",
            "Let's analyze the available options:\n",
            "- C2 and C3 are filled (X in C3).\n",
            "- B3 is empty and making it is a safer play than any other open space since it blocks the opponent from winning on the next turn.\n",
            "\n",
            "The optimal move is B3.\n",
            "\n",
            "Here is the XML representation for the move B3:\n",
            "\n",
            "```xml\n",
            "\n",
            "caught exception applying agent move\n",
            "Invalid xml\n",
            "Given the initial board position:\n",
            "\n",
            "```\n",
            "  1   2   3\n",
            "A  _ | x | _\n",
            "B  _ | _ | _\n",
            "C  _ | _ | _\n",
            "```\n",
            "\n",
            "I need to make a strategic move that will maximize my chances of winning. I'll first look for potential immediate winning moves and then try to prevent my opponent from winning.\n",
            "\n",
            "### Analyzing the board\n",
            "1. **First check row B:**\n",
            "   - Both rows A and C have two blanks, and B is currently empty, so I should play in B.\n",
            "\n",
            "2. **Next, check column 3:**\n",
            "   - If\n",
            "caught exception applying agent move\n",
            "Invalid xml\n",
            "Given the current board state, it looks like the game hasn't progressed very far. Since you are O (in a game of X and O), I need to make sure my move leads to a winning position or at least prevents a loss if needed. Here's the current board:\n",
            "```\n",
            " 1  2  3\n",
            "A  _ | _ | x\n",
            "B  _ | _ | _\n",
            "C  _ | _ | _\n",
            "```\n",
            "To make the best move for O, I'll look at two options:\n",
            "1. Winning move against the current position.\n",
            "2. Blocking potential wins by the opponent.\n",
            "\n",
            "However, in\n",
            "caught exception applying agent move\n",
            "Invalid xml\n",
            "Given the board configuration:\n",
            "\n",
            "```\n",
            "  1   2   3\n",
            "A  _ | _ | x\n",
            "B  _ | _ | _\n",
            "C  _ | _ | _\n",
            "```\n",
            "\n",
            "The optimal move here would be to take the center square, C2, as it offers a center-grid advantage in a typical tic-tac-toe AI strategy. However, since the most forward and immediate decisive move would be to block the opponent if playing optimally, and since this move offers a clear win if continued, a more direct but also less flexible option up front would be B3.\n",
            "\n",
            "Therefore, the most strategic initial move\n",
            "caught exception applying agent move\n",
            "Invalid xml\n",
            "Given the board state from your description, it's difficult to determine the best move without seeing the current state of the board. However, since you are the X player and always choosing the move most likely to lead to an eventual win, I will make an educated guess based on the optimal moves in tic-tac-toe strategy. In a standard tic-tac-toe game, the first player (X) is generally advised to start in corner or center to maximize chances of winning. Since A1 is a corner, here is a move I would suggest:\n",
            "\n",
            "<move>A1</move>\n",
            "\n",
            "Given this first move, the next optimal move\n",
            "caught exception applying agent move\n",
            "Invalid xml\n",
            "Given the current state of the board:\n",
            "\n",
            "```\n",
            "  1   2   3\n",
            "A  _ | _ | _\n",
            "B  x | _ | _\n",
            "C  _ | _ | _\n",
            "```\n",
            "\n",
            "There are no immediate winnable scenarios for O with the current position. The best strategic move would be to create a center position, which is a common and effective opening in tic-tac-toe. The best move in this position is B3 (assuming it's an available position, and typically the central position would be B3 or C3 if available). \n",
            "\n",
            "Here is the XML representation for the first move that leads towards\n",
            "caught exception applying agent move\n",
            "Invalid xml\n",
            "Since I don't see your move or the current state of the board, I'll start by making a move in the center (B3), which is a standard opening move in tic-tac-toe. Here’s how the board looks now:\n",
            "\n",
            "   1   2   3\n",
            "A  _ | x | _\n",
            "B  _ | _ | B\n",
            "C  _ | _ | _\n",
            "\n",
            "However, since your request was to make a move as 'o' and I'm the 'o' player AI, I'll make my first move in 'A1':\n",
            "\n",
            "<move>A1</move>\n",
            "\n",
            "This move prepares for\n",
            "Packed 48 trajectories into 4 sequences of length 2048\n"
          ]
        },
        {
          "data": {
            "application/vnd.jupyter.widget-view+json": {
              "model_id": "0390e2242a5747d895a3d29b3b36de87",
              "version_major": 2,
              "version_minor": 0
            },
            "text/plain": [
              "train:   0%|          | 0/4 [00:00<?, ?it/s]"
            ]
          },
          "metadata": {},
          "output_type": "display_data"
        }
      ],
      "source": [
        "for i in range(await model.get_step(), 300):\n",
        "    train_groups = await art.gather_trajectory_groups(\n",
        "        (\n",
        "            art.TrajectoryGroup(\n",
        "                rollout(model, i, is_validation=False) for _ in range(48)\n",
        "            )\n",
        "            for _ in range(1)\n",
        "        ),\n",
        "        pbar_desc=\"gather\",\n",
        "    )\n",
        "    await model.delete_checkpoints()\n",
        "    await model.train(train_groups, config=art.TrainConfig(learning_rate=1e-4))"
      ]
    },
    {
      "cell_type": "code",
      "execution_count": 7,
      "metadata": {},
      "outputs": [
        {
          "data": {
            "application/vnd.jupyter.widget-view+json": {
              "model_id": "878ff660265b4a07a5b6ef021bc9a2e4",
              "version_major": 2,
              "version_minor": 0
            },
            "text/plain": [
              "gather gpt-4o-mini:   0%|          | 0/12 [00:00<?, ?it/s]"
            ]
          },
          "metadata": {},
          "output_type": "display_data"
        },
        {
          "data": {
            "application/vnd.jupyter.widget-view+json": {
              "model_id": "2aa6968c8b3246f492c656a2e6a6c7f5",
              "version_major": 2,
              "version_minor": 0
            },
            "text/plain": [
              "gather gpt-4o:   0%|          | 0/12 [00:00<?, ?it/s]"
            ]
          },
          "metadata": {},
          "output_type": "display_data"
        },
        {
          "name": "stderr",
          "output_type": "stream",
          "text": [
            "\u001b[34m\u001b[1mwandb\u001b[0m: \u001b[32m\u001b[41mERROR\u001b[0m The nbformat package was not found. It is required to save notebook history.\n"
          ]
        },
        {
          "data": {
            "text/html": [],
            "text/plain": [
              "<IPython.core.display.HTML object>"
            ]
          },
          "metadata": {},
          "output_type": "display_data"
        },
        {
          "data": {
            "text/html": [
              "<br>    <style><br>        .wandb-row {<br>            display: flex;<br>            flex-direction: row;<br>            flex-wrap: wrap;<br>            justify-content: flex-start;<br>            width: 100%;<br>        }<br>        .wandb-col {<br>            display: flex;<br>            flex-direction: column;<br>            flex-basis: 100%;<br>            flex: 1;<br>            padding: 10px;<br>        }<br>    </style><br><div class=\"wandb-row\"><div class=\"wandb-col\"><h3>Run history:</h3><br/><table class=\"wandb\"><tr><td>train/completion_tokens</td><td>▁</td></tr><tr><td>train/exception_rate</td><td>▁</td></tr><tr><td>train/reward</td><td>▁</td></tr><tr><td>train/reward_std_dev</td><td>▁</td></tr><tr><td>train/test</td><td>▁</td></tr></table><br/></div><div class=\"wandb-col\"><h3>Run summary:</h3><br/><table class=\"wandb\"><tr><td>train/completion_tokens</td><td>3.1</td></tr><tr><td>train/exception_rate</td><td>0</td></tr><tr><td>train/reward</td><td>-1</td></tr><tr><td>train/reward_std_dev</td><td>0</td></tr><tr><td>train/test</td><td>5</td></tr></table><br/></div></div>"
            ],
            "text/plain": [
              "<IPython.core.display.HTML object>"
            ]
          },
          "metadata": {},
          "output_type": "display_data"
        },
        {
          "data": {
            "text/html": [
              " View run <strong style=\"color:#cdcd00\">002</strong> at: <a href='https://wandb.ai/openpipe-team/tic-tac-toe/runs/002' target=\"_blank\">https://wandb.ai/openpipe-team/tic-tac-toe/runs/002</a><br> View project at: <a href='https://wandb.ai/openpipe-team/tic-tac-toe' target=\"_blank\">https://wandb.ai/openpipe-team/tic-tac-toe</a><br>Synced 5 W&B file(s), 0 media file(s), 0 artifact file(s) and 0 other file(s)"
            ],
            "text/plain": [
              "<IPython.core.display.HTML object>"
            ]
          },
          "metadata": {},
          "output_type": "display_data"
        },
        {
          "data": {
            "text/html": [
              "Find logs at: <code>./wandb/run-20250419_081327-002/logs</code>"
            ],
            "text/plain": [
              "<IPython.core.display.HTML object>"
            ]
          },
          "metadata": {},
          "output_type": "display_data"
        },
        {
          "data": {
            "text/html": [
              "Tracking run with wandb version 0.19.9"
            ],
            "text/plain": [
              "<IPython.core.display.HTML object>"
            ]
          },
          "metadata": {},
          "output_type": "display_data"
        },
        {
          "data": {
            "text/html": [
              "Run data is saved locally in <code>/root/sky_workdir/examples/tic_tac_toe/wandb/run-20250419_081355-gpt-4o-mini</code>"
            ],
            "text/plain": [
              "<IPython.core.display.HTML object>"
            ]
          },
          "metadata": {},
          "output_type": "display_data"
        },
        {
          "data": {
            "text/html": [
              "Resuming run <strong><a href='https://wandb.ai/openpipe-team/tic-tac-toe/runs/gpt-4o-mini' target=\"_blank\">gpt-4o-mini</a></strong> to <a href='https://wandb.ai/openpipe-team/tic-tac-toe' target=\"_blank\">Weights & Biases</a> (<a href='https://wandb.me/developer-guide' target=\"_blank\">docs</a>)<br>"
            ],
            "text/plain": [
              "<IPython.core.display.HTML object>"
            ]
          },
          "metadata": {},
          "output_type": "display_data"
        },
        {
          "data": {
            "text/html": [
              " View project at <a href='https://wandb.ai/openpipe-team/tic-tac-toe' target=\"_blank\">https://wandb.ai/openpipe-team/tic-tac-toe</a>"
            ],
            "text/plain": [
              "<IPython.core.display.HTML object>"
            ]
          },
          "metadata": {},
          "output_type": "display_data"
        },
        {
          "data": {
            "text/html": [
              " View run at <a href='https://wandb.ai/openpipe-team/tic-tac-toe/runs/gpt-4o-mini' target=\"_blank\">https://wandb.ai/openpipe-team/tic-tac-toe/runs/gpt-4o-mini</a>"
            ],
            "text/plain": [
              "<IPython.core.display.HTML object>"
            ]
          },
          "metadata": {},
          "output_type": "display_data"
        },
        {
          "name": "stderr",
          "output_type": "stream",
          "text": [
            "\u001b[34m\u001b[1mwandb\u001b[0m: \u001b[33mWARNING\u001b[0m Tried to log to step 0 that is less than the current step 1. Steps must be monotonically increasing, so this data will be ignored. See https://wandb.me/define-metric to log data out of order.\n"
          ]
        },
        {
          "data": {
            "text/html": [],
            "text/plain": [
              "<IPython.core.display.HTML object>"
            ]
          },
          "metadata": {},
          "output_type": "display_data"
        },
        {
          "data": {
            "text/html": [
              "<br>    <style><br>        .wandb-row {<br>            display: flex;<br>            flex-direction: row;<br>            flex-wrap: wrap;<br>            justify-content: flex-start;<br>            width: 100%;<br>        }<br>        .wandb-col {<br>            display: flex;<br>            flex-direction: column;<br>            flex-basis: 100%;<br>            flex: 1;<br>            padding: 10px;<br>        }<br>    </style><br><div class=\"wandb-row\"><div class=\"wandb-col\"><h3>Run summary:</h3><br/><table class=\"wandb\"><tr><td>val/exception_rate</td><td>0</td></tr><tr><td>val/reward</td><td>-1</td></tr><tr><td>val/reward_std_dev</td><td>0</td></tr><tr><td>val/test</td><td>5</td></tr></table><br/></div></div>"
            ],
            "text/plain": [
              "<IPython.core.display.HTML object>"
            ]
          },
          "metadata": {},
          "output_type": "display_data"
        },
        {
          "data": {
            "text/html": [
              " View run <strong style=\"color:#cdcd00\">gpt-4o-mini</strong> at: <a href='https://wandb.ai/openpipe-team/tic-tac-toe/runs/gpt-4o-mini' target=\"_blank\">https://wandb.ai/openpipe-team/tic-tac-toe/runs/gpt-4o-mini</a><br> View project at: <a href='https://wandb.ai/openpipe-team/tic-tac-toe' target=\"_blank\">https://wandb.ai/openpipe-team/tic-tac-toe</a><br>Synced 5 W&B file(s), 0 media file(s), 0 artifact file(s) and 0 other file(s)"
            ],
            "text/plain": [
              "<IPython.core.display.HTML object>"
            ]
          },
          "metadata": {},
          "output_type": "display_data"
        },
        {
          "data": {
            "text/html": [
              "Find logs at: <code>./wandb/run-20250419_081355-gpt-4o-mini/logs</code>"
            ],
            "text/plain": [
              "<IPython.core.display.HTML object>"
            ]
          },
          "metadata": {},
          "output_type": "display_data"
        },
        {
          "name": "stderr",
          "output_type": "stream",
          "text": [
            "ERROR:asyncio:Task was destroyed but it is pending!\n",
            "task: <Task pending name='Task-854' coro=<Event.wait() running at /root/miniconda3/lib/python3.10/asyncio/locks.py:214> wait_for=<Future cancelled>>\n"
          ]
        },
        {
          "data": {
            "text/html": [
              "Tracking run with wandb version 0.19.9"
            ],
            "text/plain": [
              "<IPython.core.display.HTML object>"
            ]
          },
          "metadata": {},
          "output_type": "display_data"
        },
        {
          "data": {
            "text/html": [
              "Run data is saved locally in <code>/root/sky_workdir/examples/tic_tac_toe/wandb/run-20250419_081359-gpt-4o</code>"
            ],
            "text/plain": [
              "<IPython.core.display.HTML object>"
            ]
          },
          "metadata": {},
          "output_type": "display_data"
        },
        {
          "data": {
            "text/html": [
              "Resuming run <strong><a href='https://wandb.ai/openpipe-team/tic-tac-toe/runs/gpt-4o' target=\"_blank\">gpt-4o</a></strong> to <a href='https://wandb.ai/openpipe-team/tic-tac-toe' target=\"_blank\">Weights & Biases</a> (<a href='https://wandb.me/developer-guide' target=\"_blank\">docs</a>)<br>"
            ],
            "text/plain": [
              "<IPython.core.display.HTML object>"
            ]
          },
          "metadata": {},
          "output_type": "display_data"
        },
        {
          "data": {
            "text/html": [
              " View project at <a href='https://wandb.ai/openpipe-team/tic-tac-toe' target=\"_blank\">https://wandb.ai/openpipe-team/tic-tac-toe</a>"
            ],
            "text/plain": [
              "<IPython.core.display.HTML object>"
            ]
          },
          "metadata": {},
          "output_type": "display_data"
        },
        {
          "data": {
            "text/html": [
              " View run at <a href='https://wandb.ai/openpipe-team/tic-tac-toe/runs/gpt-4o' target=\"_blank\">https://wandb.ai/openpipe-team/tic-tac-toe/runs/gpt-4o</a>"
            ],
            "text/plain": [
              "<IPython.core.display.HTML object>"
            ]
          },
          "metadata": {},
          "output_type": "display_data"
        },
        {
          "data": {
            "text/plain": [
              "[None, None]"
            ]
          },
          "execution_count": 7,
          "metadata": {},
          "output_type": "execute_result"
        },
        {
          "name": "stderr",
          "output_type": "stream",
          "text": [
            "\u001b[34m\u001b[1mwandb\u001b[0m: \u001b[33mWARNING\u001b[0m Tried to log to step 0 that is less than the current step 1. Steps must be monotonically increasing, so this data will be ignored. See https://wandb.me/define-metric to log data out of order.\n"
          ]
        }
      ],
      "source": [
        "import asyncio\n",
        "\n",
        "async def log_comparison_model(comparison_model: art.Model):\n",
        "    trajectories = await art.gather_trajectory_groups(\n",
        "            (\n",
        "                art.TrajectoryGroup(rollout(comparison_model, 0, is_validation=True) for _ in range(12))\n",
        "            for _ in range(1)\n",
        "        ),\n",
        "        pbar_desc=f\"gather {comparison_model.name}\",\n",
        "        max_exceptions=1,\n",
        "    )\n",
        "\n",
        "    await comparison_model.log(\n",
        "        trajectories,\n",
        "        split=\"val\",\n",
        "    )\n",
        "\n",
        "promises = []\n",
        "\n",
        "for comparison_model in [gpt_4o_mini, gpt_4o]:\n",
        "    promises.append(log_comparison_model(comparison_model))\n",
        "\n",
        "await asyncio.gather(*promises)"
      ]
    }
  ],
  "metadata": {
    "kernelspec": {
      "display_name": ".venv",
      "language": "python",
      "name": "python3"
    },
    "language_info": {
      "codemirror_mode": {
        "name": "ipython",
        "version": 3
      },
      "file_extension": ".py",
      "mimetype": "text/x-python",
      "name": "python",
      "nbconvert_exporter": "python",
      "pygments_lexer": "ipython3",
      "version": "3.10.13"
    }
  },
  "nbformat": 4,
  "nbformat_minor": 2
}
