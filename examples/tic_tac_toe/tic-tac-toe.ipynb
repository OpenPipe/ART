{
  "cells": [
    {
      "cell_type": "code",
      "execution_count": 1,
      "metadata": {},
      "outputs": [],
      "source": [
        "%load_ext autoreload\n",
        "%autoreload 2"
      ]
    },
    {
      "cell_type": "code",
      "execution_count": 2,
      "metadata": {},
      "outputs": [
        {
          "data": {
            "text/html": [
              "<style>\n",
              ".cell-output-ipywidget-background {\n",
              "    background-color: transparent !important;\n",
              "}\n",
              ":root {\n",
              "    --jp-widgets-color: var(--vscode-editor-foreground);\n",
              "    --jp-widgets-font-size: var(--vscode-editor-font-size);\n",
              "}  \n",
              "</style>\n"
            ],
            "text/plain": [
              "<IPython.core.display.HTML object>"
            ]
          },
          "metadata": {},
          "output_type": "display_data"
        }
      ],
      "source": [
        "%%html\n",
        "<style>\n",
        ".cell-output-ipywidget-background {\n",
        "    background-color: transparent !important;\n",
        "}\n",
        ":root {\n",
        "    --jp-widgets-color: var(--vscode-editor-foreground);\n",
        "    --jp-widgets-font-size: var(--vscode-editor-font-size);\n",
        "}  \n",
        "</style>"
      ]
    },
    {
      "cell_type": "code",
      "execution_count": 3,
      "metadata": {},
      "outputs": [],
      "source": [
        "import random\n",
        "from typing import TypedDict\n",
        "from typing import Literal\n",
        "import xml.etree.ElementTree as ET\n",
        "\n",
        "\n",
        "class TicTacToeGame(TypedDict):\n",
        "    board: list[list[str]]\n",
        "    agent_symbol: Literal[\"x\", \"o\"]\n",
        "    opponent_symbol: Literal[\"x\", \"o\"]\n",
        "\n",
        "\n",
        "def generate_game(board_length: int = 3) -> TicTacToeGame:\n",
        "    board = [[\"_\" for _ in range(board_length)] for _ in range(board_length)]\n",
        "    agent_symbol = random.choice([\"x\", \"o\"])\n",
        "    opponent_symbol = \"x\" if agent_symbol == \"o\" else \"o\"\n",
        "    return {\n",
        "        \"board\": board,\n",
        "        \"agent_symbol\": agent_symbol,\n",
        "        \"opponent_symbol\": opponent_symbol,\n",
        "    }\n",
        "\n",
        "\n",
        "def render_board(game: TicTacToeGame) -> str:\n",
        "    board = game[\"board\"]\n",
        "    board_length = len(board)\n",
        "    # print something like this:\n",
        "    #    1   2   3\n",
        "    # A  _ | x | x\n",
        "    # B  o | _ | _\n",
        "    # C  _ | o | _\n",
        "    # where _ is an empty cell\n",
        "\n",
        "    board_str = \"   \" + \"   \".join([str(i + 1) for i in range(board_length)]) + \"\\n\"\n",
        "    for i in range(board_length):\n",
        "        board_str += f\"{chr(65 + i)}  {board[i][0]} | {board[i][1]} | {board[i][2]}\\n\"\n",
        "    return board_str\n",
        "\n",
        "\n",
        "def get_opponent_move(game: TicTacToeGame) -> tuple[int, int]:\n",
        "    # get a random empty cell\n",
        "    empty_cells = [\n",
        "        (i, j) for i in range(3) for j in range(3) if game[\"board\"][i][j] == \"_\"\n",
        "    ]\n",
        "    return random.choice(empty_cells)\n",
        "\n",
        "\n",
        "def apply_agent_move(game: TicTacToeGame, move: str) -> None:\n",
        "    board_length = len(game[\"board\"])\n",
        "\n",
        "    try:\n",
        "        root = ET.fromstring(move)\n",
        "        square = root.text\n",
        "    except Exception as e:\n",
        "        raise ValueError(\"Invalid xml\")\n",
        "\n",
        "    try:\n",
        "        row_index = ord(square[0]) - 65\n",
        "        col_index = int(square[1]) - 1\n",
        "    except Exception as e:\n",
        "        print(e)\n",
        "        raise ValueError(\"Unable to parse square\")\n",
        "\n",
        "    if (\n",
        "        row_index < 0\n",
        "        or row_index >= board_length\n",
        "        or col_index < 0\n",
        "        or col_index >= board_length\n",
        "    ):\n",
        "        raise ValueError(\n",
        "            f\"Invalid move, row or column out of bounds: {row_index}, {col_index}\"\n",
        "        )\n",
        "\n",
        "    # check if the move is valid\n",
        "    if game[\"board\"][row_index][col_index] != \"_\":\n",
        "        raise ValueError(\"Square already occupied\")\n",
        "\n",
        "    game[\"board\"][row_index][col_index] = game[\"agent_symbol\"]\n",
        "\n",
        "\n",
        "def check_winner(board: list[list[str]]) -> Literal[\"x\", \"o\", \"draw\", None]:\n",
        "    board_length = len(board)\n",
        "    # check rows\n",
        "    for row in board:\n",
        "        if row.count(row[0]) == board_length and row[0] != \"_\":\n",
        "            return row[0]\n",
        "    # check columns\n",
        "    for col in range(board_length):\n",
        "        if [board[row][col] for row in range(board_length)].count(\n",
        "            board[0][col]\n",
        "        ) == board_length and board[0][col] != \"_\":\n",
        "            return board[0][col]\n",
        "\n",
        "    # top right to bottom left\n",
        "    upward_diagonal = [board[i][board_length - i - 1] for i in range(board_length)]\n",
        "    if (\n",
        "        upward_diagonal.count(upward_diagonal[0]) == board_length\n",
        "        and upward_diagonal[0] != \"_\"\n",
        "    ):\n",
        "        return upward_diagonal[0]\n",
        "\n",
        "    # top left to bottom right\n",
        "    downward_diagonal = [board[i][i] for i in range(board_length)]\n",
        "    if (\n",
        "        downward_diagonal.count(downward_diagonal[0]) == board_length\n",
        "        and downward_diagonal[0] != \"_\"\n",
        "    ):\n",
        "        return downward_diagonal[0]\n",
        "\n",
        "    # check for draw\n",
        "    if all(cell != \"_\" for row in board for cell in row):\n",
        "        return \"draw\"\n",
        "    return None\n"
      ]
    },
    {
      "cell_type": "code",
      "execution_count": 5,
      "metadata": {},
      "outputs": [
        {
          "name": "stdout",
          "output_type": "stream",
          "text": [
            "OpenPipe client initialized\n",
            "Cluster art exists, using it...\n"
          ]
        },
        {
          "data": {
            "application/vnd.jupyter.widget-view+json": {
              "model_id": "acff9db364204fdc9ee5e4134840b2de",
              "version_major": 2,
              "version_minor": 0
            },
            "text/plain": [
              "Output()"
            ]
          },
          "metadata": {},
          "output_type": "display_data"
        },
        {
          "data": {
            "text/html": [
              "<pre style=\"white-space:pre;overflow-x:auto;line-height:normal;font-family:Menlo,'DejaVu Sans Mono',consolas,'Courier New',monospace\"></pre>\n"
            ],
            "text/plain": []
          },
          "metadata": {},
          "output_type": "display_data"
        },
        {
          "name": "stdout",
          "output_type": "stream",
          "text": [
            "\u001b[0m⚙︎ Job submitted, ID: 1\n"
          ]
        },
        {
          "data": {
            "text/html": [
              "<pre style=\"white-space:pre;overflow-x:auto;line-height:normal;font-family:Menlo,'DejaVu Sans Mono',consolas,'Courier New',monospace\"></pre>\n"
            ],
            "text/plain": []
          },
          "metadata": {},
          "output_type": "display_data"
        },
        {
          "name": "stdout",
          "output_type": "stream",
          "text": [
            "\n",
            "\u001b[36mJob ID: \u001b[1m1\u001b[0m\n",
            "📋 Useful Commands\n",
            "\u001b[2m├── \u001b[0mTo cancel the job:\t\t\u001b[1msky cancel art 1\u001b[0m\n",
            "\u001b[2m├── \u001b[0mTo stream job logs:\t\t\u001b[1msky logs art 1\u001b[0m\n",
            "\u001b[2m└── \u001b[0mTo view job queue:\t\t\u001b[1msky queue art\u001b[0m\n",
            "\n",
            "Cluster name: art\n",
            "\u001b[2m├── \u001b[0mTo log into the head VM:\t\u001b[1mssh art\u001b[0m\n",
            "\u001b[2m├── \u001b[0mTo submit a job:\t\t\u001b[1msky exec art yaml_file\u001b[0m\n",
            "\u001b[2m├── \u001b[0mTo stop the cluster:\t\u001b[1msky stop art\u001b[0m\n",
            "\u001b[2m└── \u001b[0mTo teardown the cluster:\t\u001b[1msky down art\u001b[0m\n",
            "\n",
            "\u001b[?25hTask launched, waiting for it to start...\n"
          ]
        },
        {
          "data": {
            "application/vnd.jupyter.widget-view+json": {
              "model_id": "83b8735f141d44c0822f425700d8796f",
              "version_major": 2,
              "version_minor": 0
            },
            "text/plain": [
              "Output()"
            ]
          },
          "metadata": {},
          "output_type": "display_data"
        },
        {
          "name": "stdout",
          "output_type": "stream",
          "text": [
            "Art server task started\n"
          ]
        },
        {
          "data": {
            "text/html": [
              "<pre style=\"white-space:pre;overflow-x:auto;line-height:normal;font-family:Menlo,'DejaVu Sans Mono',consolas,'Courier New',monospace\"></pre>\n"
            ],
            "text/plain": []
          },
          "metadata": {},
          "output_type": "display_data"
        },
        {
          "name": "stdout",
          "output_type": "stream",
          "text": [
            "Using base_url: http://216.81.245.26:30375\n"
          ]
        }
      ],
      "source": [
        "import art\n",
        "from dotenv import load_dotenv\n",
        "import random\n",
        "from pydantic import BaseModel\n",
        "\n",
        "from openpipe.client import OpenPipe\n",
        "\n",
        "load_dotenv()\n",
        "\n",
        "op_client = OpenPipe()\n",
        "print(\"OpenPipe client initialized\")\n",
        "\n",
        "random.seed(42)\n",
        "\n",
        "api = art.SkypilotAPI(cluster_name=\"art\")"
      ]
    },
    {
      "cell_type": "code",
      "execution_count": 9,
      "metadata": {},
      "outputs": [
        {
          "name": "stdout",
          "output_type": "stream",
          "text": [
            "Registering model with server\n",
            "To view logs, run: 'uv run sky logs art'\n"
          ]
        },
        {
          "data": {
            "application/vnd.jupyter.widget-view+json": {
              "model_id": "bc39a95db34a4e3280f77759c116fb17",
              "version_major": 2,
              "version_minor": 0
            },
            "text/plain": [
              "Output()"
            ]
          },
          "metadata": {},
          "output_type": "display_data"
        },
        {
          "data": {
            "text/html": [
              "<pre style=\"white-space:pre;overflow-x:auto;line-height:normal;font-family:Menlo,'DejaVu Sans Mono',consolas,'Courier New',monospace\"></pre>\n"
            ],
            "text/plain": []
          },
          "metadata": {},
          "output_type": "display_data"
        }
      ],
      "source": [
        "class CustomConfig(BaseModel):\n",
        "    litellm_model_name: str | None = None\n",
        "\n",
        "model = art.TrainableModel(\n",
        "    name=\"005\", project=\"tic-tac-toe\", base_model=\"Qwen/Qwen2.5-3B-Instruct\"\n",
        ")\n",
        "await model.register(api)\n",
        "\n",
        "# gpt_4o_mini = art.Model(\n",
        "#     name=\"gpt-4o-mini\",\n",
        "#     project=\"tic-tac-toe\",\n",
        "#     config=CustomConfig(\n",
        "#         litellm_model_name=\"openai/gpt-4o-mini\",\n",
        "#     ),\n",
        "# )\n",
        "# await gpt_4o_mini.register(api)\n",
        "\n",
        "# gpt_4o = art.Model(\n",
        "#     name=\"gpt-4o\",\n",
        "#     project=\"tic-tac-toe\",\n",
        "#     config=CustomConfig(\n",
        "#         litellm_model_name=\"openai/gpt-4o\",\n",
        "#     ),\n",
        "# )\n",
        "# await gpt_4o.register(api)"
      ]
    },
    {
      "cell_type": "code",
      "execution_count": 10,
      "metadata": {},
      "outputs": [],
      "source": [
        "import art\n",
        "import openai\n",
        "import time\n",
        "from litellm import acompletion\n",
        "import math\n",
        "\n",
        "from art.utils.litellm import convert_litellm_choice_to_openai\n",
        "\n",
        "\n",
        "@art.retry(exceptions=(openai.LengthFinishReasonError,))\n",
        "async def rollout(\n",
        "    model: art.Model, iteration: int, is_validation: bool\n",
        ") -> art.Trajectory:\n",
        "    game = generate_game()\n",
        "\n",
        "    trajectory = art.Trajectory(\n",
        "        messages_and_choices=[\n",
        "            {\n",
        "                \"role\": \"system\",\n",
        "                \"content\": f\"You are a tic-tac-toe player. You are playing against an opponent. Always choose the move most likely to lead to an eventual win. Return your move as an XML object with a single property 'move', like so: <move>A1</move>. Optional moves are 'A1', 'B3', 'C2', etc. You are the {game['agent_symbol']} symbol.\",\n",
        "            }\n",
        "        ],\n",
        "        reward=0,\n",
        "    )\n",
        "\n",
        "    move_number = 0\n",
        "\n",
        "    if game[\"agent_symbol\"] == \"o\":\n",
        "        starting_opponent_move = get_opponent_move(game)\n",
        "        game[\"board\"][starting_opponent_move[0]][starting_opponent_move[1]] = game[\n",
        "            \"opponent_symbol\"\n",
        "        ]\n",
        "\n",
        "    while check_winner(game[\"board\"]) is None:\n",
        "        trajectory.messages_and_choices.append(\n",
        "            {\"role\": \"user\", \"content\": render_board(game)}\n",
        "        )\n",
        "\n",
        "        requested_at = int(time.time() * 1000)\n",
        "        messages = trajectory.messages()\n",
        "\n",
        "        try:\n",
        "            model_id = model.config.litellm_model_name if isinstance(model.config, CustomConfig) else f\"hosted_vllm/{model.name}\"\n",
        "            chat_completion = await acompletion(\n",
        "                base_url=model.base_url,\n",
        "                api_key=model.api_key,\n",
        "                model=model_id,\n",
        "                messages=messages,\n",
        "                max_completion_tokens=128,\n",
        "            )\n",
        "            last_completion = chat_completion\n",
        "        except openai.LengthFinishReasonError as e:\n",
        "            raise e\n",
        "        except Exception as e:\n",
        "            print(\"caught exception generating chat completion\")\n",
        "            print(e)\n",
        "            global failing_trajectory\n",
        "            failing_trajectory = trajectory\n",
        "            raise e\n",
        "\n",
        "        try:\n",
        "            op_client.report(\n",
        "                requested_at=requested_at,\n",
        "                received_at=int(time.time() * 1000),\n",
        "                req_payload={\n",
        "                    \"model\": model.name,\n",
        "                    \"messages\": messages,\n",
        "                    \"metadata\": {\n",
        "                        \"notebook-id\": \"tic-tac-toe\",\n",
        "                        \"iteration\": str(iteration),\n",
        "                        \"validation\": str(is_validation),\n",
        "                        \"move_number\": str(move_number),\n",
        "                    },\n",
        "                },\n",
        "                resp_payload=chat_completion,\n",
        "                status_code=200,\n",
        "            )\n",
        "        except Exception as e:\n",
        "            print(f\"Error reporting to OpenPipe: {e}\")\n",
        "\n",
        "        choice = convert_litellm_choice_to_openai(chat_completion.choices[0])\n",
        "        content = choice.message.content\n",
        "        assert isinstance(content, str)\n",
        "        trajectory.messages_and_choices.append(choice)\n",
        "\n",
        "        try:\n",
        "            apply_agent_move(game, content)\n",
        "        except ValueError as e:\n",
        "            trajectory.reward = -1 + (math.log(move_number + 1) / math.log(100))\n",
        "            break\n",
        "\n",
        "        if check_winner(game[\"board\"]) is not None:\n",
        "            break\n",
        "        move_number += 1\n",
        "\n",
        "        opponent_move = get_opponent_move(game)\n",
        "        game[\"board\"][opponent_move[0]][opponent_move[1]] = game[\"opponent_symbol\"]\n",
        "\n",
        "    winner = check_winner(game[\"board\"])\n",
        "\n",
        "    if winner == game[\"agent_symbol\"]:\n",
        "        trajectory.reward = 1\n",
        "    elif winner == game[\"opponent_symbol\"]:\n",
        "        trajectory.reward = 0\n",
        "    elif winner == \"draw\":\n",
        "        trajectory.reward = 0.5\n",
        "\n",
        "    try:\n",
        "        op_client.update_log_metadata(\n",
        "            filters=[\n",
        "                {\n",
        "                    \"field\": \"completionId\",\n",
        "                    \"equals\": last_completion.id,\n",
        "                }\n",
        "            ],\n",
        "            metadata={\n",
        "                \"reward\": str(trajectory.reward),\n",
        "                \"reward_assigned\": \"true\",\n",
        "            },\n",
        "        )\n",
        "    except Exception as e:\n",
        "        print(f\"Error updating log metadata: {e}\")\n",
        "\n",
        "        print(trajectory.reward)\n",
        "\n",
        "    return trajectory\n"
      ]
    },
    {
      "cell_type": "code",
      "execution_count": null,
      "metadata": {},
      "outputs": [
        {
          "data": {
            "application/vnd.jupyter.widget-view+json": {
              "model_id": "8813ea6203354911b199215fde5987bf",
              "version_major": 2,
              "version_minor": 0
            },
            "text/plain": [
              "gather:   0%|          | 0/48 [00:00<?, ?it/s]"
            ]
          },
          "metadata": {},
          "output_type": "display_data"
        },
        {
          "data": {
            "application/vnd.jupyter.widget-view+json": {
              "model_id": "9dff6cc8d1434d989b3362658642b7ca",
              "version_major": 2,
              "version_minor": 0
            },
            "text/plain": [
              "train:   0%|          | 0/4 [00:00<?, ?it/s]"
            ]
          },
          "metadata": {},
          "output_type": "display_data"
        },
        {
          "data": {
            "application/vnd.jupyter.widget-view+json": {
              "model_id": "e2970dd9d0644f66b97940dd842212f8",
              "version_major": 2,
              "version_minor": 0
            },
            "text/plain": [
              "gather:   0%|          | 0/48 [00:00<?, ?it/s]"
            ]
          },
          "metadata": {},
          "output_type": "display_data"
        }
      ],
      "source": [
        "for i in range(await model.get_step(), 300):\n",
        "    train_groups = await art.gather_trajectory_groups(\n",
        "        (\n",
        "            art.TrajectoryGroup(\n",
        "                rollout(model, i, is_validation=False) for _ in range(48)\n",
        "            )\n",
        "            for _ in range(1)\n",
        "        ),\n",
        "        pbar_desc=\"gather\",\n",
        "    )\n",
        "    await model.delete_checkpoints()\n",
        "    await model.train(train_groups, config=art.TrainConfig(learning_rate=1e-4))"
      ]
    },
    {
      "cell_type": "code",
      "execution_count": 7,
      "metadata": {},
      "outputs": [
        {
          "data": {
            "application/vnd.jupyter.widget-view+json": {
              "model_id": "878ff660265b4a07a5b6ef021bc9a2e4",
              "version_major": 2,
              "version_minor": 0
            },
            "text/plain": [
              "gather gpt-4o-mini:   0%|          | 0/12 [00:00<?, ?it/s]"
            ]
          },
          "metadata": {},
          "output_type": "display_data"
        },
        {
          "data": {
            "application/vnd.jupyter.widget-view+json": {
              "model_id": "2aa6968c8b3246f492c656a2e6a6c7f5",
              "version_major": 2,
              "version_minor": 0
            },
            "text/plain": [
              "gather gpt-4o:   0%|          | 0/12 [00:00<?, ?it/s]"
            ]
          },
          "metadata": {},
          "output_type": "display_data"
        },
        {
          "name": "stderr",
          "output_type": "stream",
          "text": [
            "\u001b[34m\u001b[1mwandb\u001b[0m: \u001b[32m\u001b[41mERROR\u001b[0m The nbformat package was not found. It is required to save notebook history.\n"
          ]
        },
        {
          "data": {
            "text/html": [],
            "text/plain": [
              "<IPython.core.display.HTML object>"
            ]
          },
          "metadata": {},
          "output_type": "display_data"
        },
        {
          "data": {
            "text/html": [
              "<br>    <style><br>        .wandb-row {<br>            display: flex;<br>            flex-direction: row;<br>            flex-wrap: wrap;<br>            justify-content: flex-start;<br>            width: 100%;<br>        }<br>        .wandb-col {<br>            display: flex;<br>            flex-direction: column;<br>            flex-basis: 100%;<br>            flex: 1;<br>            padding: 10px;<br>        }<br>    </style><br><div class=\"wandb-row\"><div class=\"wandb-col\"><h3>Run history:</h3><br/><table class=\"wandb\"><tr><td>train/completion_tokens</td><td>▁</td></tr><tr><td>train/exception_rate</td><td>▁</td></tr><tr><td>train/reward</td><td>▁</td></tr><tr><td>train/reward_std_dev</td><td>▁</td></tr><tr><td>train/test</td><td>▁</td></tr></table><br/></div><div class=\"wandb-col\"><h3>Run summary:</h3><br/><table class=\"wandb\"><tr><td>train/completion_tokens</td><td>3.1</td></tr><tr><td>train/exception_rate</td><td>0</td></tr><tr><td>train/reward</td><td>-1</td></tr><tr><td>train/reward_std_dev</td><td>0</td></tr><tr><td>train/test</td><td>5</td></tr></table><br/></div></div>"
            ],
            "text/plain": [
              "<IPython.core.display.HTML object>"
            ]
          },
          "metadata": {},
          "output_type": "display_data"
        },
        {
          "data": {
            "text/html": [
              " View run <strong style=\"color:#cdcd00\">002</strong> at: <a href='https://wandb.ai/openpipe-team/tic-tac-toe/runs/002' target=\"_blank\">https://wandb.ai/openpipe-team/tic-tac-toe/runs/002</a><br> View project at: <a href='https://wandb.ai/openpipe-team/tic-tac-toe' target=\"_blank\">https://wandb.ai/openpipe-team/tic-tac-toe</a><br>Synced 5 W&B file(s), 0 media file(s), 0 artifact file(s) and 0 other file(s)"
            ],
            "text/plain": [
              "<IPython.core.display.HTML object>"
            ]
          },
          "metadata": {},
          "output_type": "display_data"
        },
        {
          "data": {
            "text/html": [
              "Find logs at: <code>./wandb/run-20250419_081327-002/logs</code>"
            ],
            "text/plain": [
              "<IPython.core.display.HTML object>"
            ]
          },
          "metadata": {},
          "output_type": "display_data"
        },
        {
          "data": {
            "text/html": [
              "Tracking run with wandb version 0.19.9"
            ],
            "text/plain": [
              "<IPython.core.display.HTML object>"
            ]
          },
          "metadata": {},
          "output_type": "display_data"
        },
        {
          "data": {
            "text/html": [
              "Run data is saved locally in <code>/root/sky_workdir/examples/tic_tac_toe/wandb/run-20250419_081355-gpt-4o-mini</code>"
            ],
            "text/plain": [
              "<IPython.core.display.HTML object>"
            ]
          },
          "metadata": {},
          "output_type": "display_data"
        },
        {
          "data": {
            "text/html": [
              "Resuming run <strong><a href='https://wandb.ai/openpipe-team/tic-tac-toe/runs/gpt-4o-mini' target=\"_blank\">gpt-4o-mini</a></strong> to <a href='https://wandb.ai/openpipe-team/tic-tac-toe' target=\"_blank\">Weights & Biases</a> (<a href='https://wandb.me/developer-guide' target=\"_blank\">docs</a>)<br>"
            ],
            "text/plain": [
              "<IPython.core.display.HTML object>"
            ]
          },
          "metadata": {},
          "output_type": "display_data"
        },
        {
          "data": {
            "text/html": [
              " View project at <a href='https://wandb.ai/openpipe-team/tic-tac-toe' target=\"_blank\">https://wandb.ai/openpipe-team/tic-tac-toe</a>"
            ],
            "text/plain": [
              "<IPython.core.display.HTML object>"
            ]
          },
          "metadata": {},
          "output_type": "display_data"
        },
        {
          "data": {
            "text/html": [
              " View run at <a href='https://wandb.ai/openpipe-team/tic-tac-toe/runs/gpt-4o-mini' target=\"_blank\">https://wandb.ai/openpipe-team/tic-tac-toe/runs/gpt-4o-mini</a>"
            ],
            "text/plain": [
              "<IPython.core.display.HTML object>"
            ]
          },
          "metadata": {},
          "output_type": "display_data"
        },
        {
          "name": "stderr",
          "output_type": "stream",
          "text": [
            "\u001b[34m\u001b[1mwandb\u001b[0m: \u001b[33mWARNING\u001b[0m Tried to log to step 0 that is less than the current step 1. Steps must be monotonically increasing, so this data will be ignored. See https://wandb.me/define-metric to log data out of order.\n"
          ]
        },
        {
          "data": {
            "text/html": [],
            "text/plain": [
              "<IPython.core.display.HTML object>"
            ]
          },
          "metadata": {},
          "output_type": "display_data"
        },
        {
          "data": {
            "text/html": [
              "<br>    <style><br>        .wandb-row {<br>            display: flex;<br>            flex-direction: row;<br>            flex-wrap: wrap;<br>            justify-content: flex-start;<br>            width: 100%;<br>        }<br>        .wandb-col {<br>            display: flex;<br>            flex-direction: column;<br>            flex-basis: 100%;<br>            flex: 1;<br>            padding: 10px;<br>        }<br>    </style><br><div class=\"wandb-row\"><div class=\"wandb-col\"><h3>Run summary:</h3><br/><table class=\"wandb\"><tr><td>val/exception_rate</td><td>0</td></tr><tr><td>val/reward</td><td>-1</td></tr><tr><td>val/reward_std_dev</td><td>0</td></tr><tr><td>val/test</td><td>5</td></tr></table><br/></div></div>"
            ],
            "text/plain": [
              "<IPython.core.display.HTML object>"
            ]
          },
          "metadata": {},
          "output_type": "display_data"
        },
        {
          "data": {
            "text/html": [
              " View run <strong style=\"color:#cdcd00\">gpt-4o-mini</strong> at: <a href='https://wandb.ai/openpipe-team/tic-tac-toe/runs/gpt-4o-mini' target=\"_blank\">https://wandb.ai/openpipe-team/tic-tac-toe/runs/gpt-4o-mini</a><br> View project at: <a href='https://wandb.ai/openpipe-team/tic-tac-toe' target=\"_blank\">https://wandb.ai/openpipe-team/tic-tac-toe</a><br>Synced 5 W&B file(s), 0 media file(s), 0 artifact file(s) and 0 other file(s)"
            ],
            "text/plain": [
              "<IPython.core.display.HTML object>"
            ]
          },
          "metadata": {},
          "output_type": "display_data"
        },
        {
          "data": {
            "text/html": [
              "Find logs at: <code>./wandb/run-20250419_081355-gpt-4o-mini/logs</code>"
            ],
            "text/plain": [
              "<IPython.core.display.HTML object>"
            ]
          },
          "metadata": {},
          "output_type": "display_data"
        },
        {
          "name": "stderr",
          "output_type": "stream",
          "text": [
            "ERROR:asyncio:Task was destroyed but it is pending!\n",
            "task: <Task pending name='Task-854' coro=<Event.wait() running at /root/miniconda3/lib/python3.10/asyncio/locks.py:214> wait_for=<Future cancelled>>\n"
          ]
        },
        {
          "data": {
            "text/html": [
              "Tracking run with wandb version 0.19.9"
            ],
            "text/plain": [
              "<IPython.core.display.HTML object>"
            ]
          },
          "metadata": {},
          "output_type": "display_data"
        },
        {
          "data": {
            "text/html": [
              "Run data is saved locally in <code>/root/sky_workdir/examples/tic_tac_toe/wandb/run-20250419_081359-gpt-4o</code>"
            ],
            "text/plain": [
              "<IPython.core.display.HTML object>"
            ]
          },
          "metadata": {},
          "output_type": "display_data"
        },
        {
          "data": {
            "text/html": [
              "Resuming run <strong><a href='https://wandb.ai/openpipe-team/tic-tac-toe/runs/gpt-4o' target=\"_blank\">gpt-4o</a></strong> to <a href='https://wandb.ai/openpipe-team/tic-tac-toe' target=\"_blank\">Weights & Biases</a> (<a href='https://wandb.me/developer-guide' target=\"_blank\">docs</a>)<br>"
            ],
            "text/plain": [
              "<IPython.core.display.HTML object>"
            ]
          },
          "metadata": {},
          "output_type": "display_data"
        },
        {
          "data": {
            "text/html": [
              " View project at <a href='https://wandb.ai/openpipe-team/tic-tac-toe' target=\"_blank\">https://wandb.ai/openpipe-team/tic-tac-toe</a>"
            ],
            "text/plain": [
              "<IPython.core.display.HTML object>"
            ]
          },
          "metadata": {},
          "output_type": "display_data"
        },
        {
          "data": {
            "text/html": [
              " View run at <a href='https://wandb.ai/openpipe-team/tic-tac-toe/runs/gpt-4o' target=\"_blank\">https://wandb.ai/openpipe-team/tic-tac-toe/runs/gpt-4o</a>"
            ],
            "text/plain": [
              "<IPython.core.display.HTML object>"
            ]
          },
          "metadata": {},
          "output_type": "display_data"
        },
        {
          "data": {
            "text/plain": [
              "[None, None]"
            ]
          },
          "execution_count": 7,
          "metadata": {},
          "output_type": "execute_result"
        },
        {
          "name": "stderr",
          "output_type": "stream",
          "text": [
            "\u001b[34m\u001b[1mwandb\u001b[0m: \u001b[33mWARNING\u001b[0m Tried to log to step 0 that is less than the current step 1. Steps must be monotonically increasing, so this data will be ignored. See https://wandb.me/define-metric to log data out of order.\n"
          ]
        }
      ],
      "source": [
        "import asyncio\n",
        "\n",
        "async def log_comparison_model(comparison_model: art.Model):\n",
        "    trajectories = await art.gather_trajectory_groups(\n",
        "            (\n",
        "                art.TrajectoryGroup(rollout(comparison_model, 0, is_validation=True) for _ in range(12))\n",
        "            for _ in range(1)\n",
        "        ),\n",
        "        pbar_desc=f\"gather {comparison_model.name}\",\n",
        "        max_exceptions=1,\n",
        "    )\n",
        "\n",
        "    await comparison_model.log(\n",
        "        trajectories,\n",
        "        split=\"val\",\n",
        "    )\n",
        "\n",
        "promises = []\n",
        "\n",
        "for comparison_model in [gpt_4o_mini, gpt_4o]:\n",
        "    promises.append(log_comparison_model(comparison_model))\n",
        "\n",
        "await asyncio.gather(*promises)"
      ]
    }
  ],
  "metadata": {
    "kernelspec": {
      "display_name": ".venv",
      "language": "python",
      "name": "python3"
    },
    "language_info": {
      "codemirror_mode": {
        "name": "ipython",
        "version": 3
      },
      "file_extension": ".py",
      "mimetype": "text/x-python",
      "name": "python",
      "nbconvert_exporter": "python",
      "pygments_lexer": "ipython3",
      "version": "3.10.13"
    }
  },
  "nbformat": 4,
  "nbformat_minor": 2
}
