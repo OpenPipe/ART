{
  "cells": [
    {
      "cell_type": "markdown",
      "metadata": {},
      "source": [
        "To train this agent, click *Runtime* and press *Run all*. Make sure you've enabled a free Tesla T4 GPU!\n",
        "<div class=\"align-center\">\n",
        "<a href=\"https://github.com/openpipe/art\"><img src=\"https://github.com/openpipe/art/raw/main/assets/ART_pill.png\" height=\"50\"></a>\n",
        "<a href=\"https://discord.com/invite/dnseNZuQ\"><img src=\"https://github.com/openpipe/art/raw/main/assets/Discord_pill.png\" height=\"50\"></a>\n",
        "<a href=\"https://openpipe.ai/blog/art-trainer-a-new-rl-trainer-for-agents\"><img src=\"https://github.com/openpipe/art/raw/main/assets/Launch_pill.png\" height=\"50\"></a>\n",
        "\n",
        "Questions? Join the Discord and ask away! For feature requests or to leave a star, visit our [Github](https://github.com/openpipe/art).\n",
        "</div>\n",
        "\n",
        "<a href=\"https://art.openpipe.ai/\"><img src=\"https://github.com/openpipe/art/raw/main/assets/Header_separator.png\" height=\"5\"></a>\n",
        "\n",
        "This notebook shows how to train a Qwen 2.5 3B model to play 2048. It will demonstrate how to set up a multi-turn agent, how to train it, and how to evaluate it.\n",
        "\n",
        "Completions will be logged to OpenPipe, and metrics will be logged to Weights & Biases.\n",
        "\n",
        " \n",
        "You will learn how to construct an [agentic environment](#Environment), how to define a [rollout](#Rollout), and how to run a [training loop](#Loop)."
      ]
    },
    {
      "cell_type": "code",
      "execution_count": 1,
      "metadata": {},
      "outputs": [
        {
          "name": "stdout",
          "output_type": "stream",
          "text": [
            "Requirement already satisfied: numpy<2.0.0 in /root/miniconda3/lib/python3.10/site-packages (1.26.4)\n",
            "\u001b[33mWARNING: Running pip as the 'root' user can result in broken permissions and conflicting behaviour with the system package manager. It is recommended to use a virtual environment instead: https://pip.pypa.io/warnings/venv\u001b[0m\u001b[33m\n",
            "\u001b[0m"
          ]
        }
      ],
      "source": [
        "!pip install \"numpy<2.0.0\""
      ]
    },
    {
      "cell_type": "markdown",
      "metadata": {},
      "source": [
        "### WARNING:\n",
        "If you are running in Google Colab and installing numpy does not say \"Requirement already satisfied: numpy<2.0.0\" then click \"Runtime\" and \"Restart Session.\""
      ]
    },
    {
      "cell_type": "code",
      "execution_count": 2,
      "metadata": {},
      "outputs": [
        {
          "name": "stdout",
          "output_type": "stream",
          "text": [
            "Numpy version is 1.*.*, you're good to go!\n"
          ]
        }
      ],
      "source": [
        "# make sure we're using numpy 1.*.*\n",
        "import numpy as np\n",
        "\n",
        "if (np.__version__).startswith(\"1.\"):\n",
        "    print(\"Numpy version is 1.*.*, you're good to go!\")\n",
        "else:\n",
        "    raise ValueError(\"Please restart your runtime using the above instructions!\")"
      ]
    },
    {
      "cell_type": "markdown",
      "metadata": {},
      "source": [
        "### Environment Variables\n",
        "\n",
        "Later on in the notebook, we'll be creating a model that can automatically logs metrics to Weights & Biases. In order to do so, you'll need to provide your Weights & Biases API key as an environment variable.\n",
        "\n",
        "You can also optionally initiate an OpenPipe client to report completions to a [dashboard](https://app.openpipe.ai) to get a feel for what the completions your model is generating look like, and how they change over time. Logging to OpenPipe is free, but is not required for training!"
      ]
    },
    {
      "cell_type": "code",
      "execution_count": 3,
      "metadata": {},
      "outputs": [],
      "source": [
        "import os\n",
        "\n",
        "\n",
        "# Optional\n",
        "WANDB_API_KEY = \"\"\n",
        "if WANDB_API_KEY:\n",
        "    os.environ[\"WANDB_API_KEY\"] = WANDB_API_KEY\n",
        "\n",
        "# Optional\n",
        "OPENPIPE_API_KEY = \"\"\n",
        "if OPENPIPE_API_KEY:\n",
        "    os.environ[\"OPENPIPE_API_KEY\"] = OPENPIPE_API_KEY"
      ]
    },
    {
      "cell_type": "markdown",
      "metadata": {},
      "source": [
        "### Installation"
      ]
    },
    {
      "cell_type": "code",
      "execution_count": 4,
      "metadata": {},
      "outputs": [],
      "source": [
        "%%capture\n",
        "!uv pip install openpipe-art openpipe --prerelease allow"
      ]
    },
    {
      "cell_type": "markdown",
      "metadata": {
        "tags": [
          "environment"
        ]
      },
      "source": [
        "### Agentic Environment\n",
        "<a name=\"Environment\"></a>\n",
        "\n",
        "ART allows your agent to learn by interacting with its environment. In this example, we'll create an environment in which the agent can play 2048.\n",
        "\n",
        "Feel free to read as much or as little of this section's code as you'd like. The important thing to understand is that we're defining the rules of this agent's environment. In many cases, this will already be defined by the task you're trying to solve, but if you need to define a custom environment, this is how you do it.\n",
        "\n",
        "NOTE: To avoid OOM errors on a T4, we're reducing the winning value from 2048 to 128, which in turn reduces the minimum number of moves to win from 939 to 58."
      ]
    },
    {
      "cell_type": "code",
      "execution_count": 5,
      "metadata": {},
      "outputs": [],
      "source": [
        "from dotenv import load_dotenv\n",
        "import random\n",
        "from typing import TypedDict\n",
        "from typing import Literal\n",
        "import string\n",
        "import xml.etree.ElementTree as ET\n",
        "\n",
        "load_dotenv()\n",
        "\n",
        "WINNING_VALUE = 128\n",
        "\n",
        "# Class that keeps track of state for a single game of 2048\n",
        "class TwentyFortyEightGame(TypedDict):\n",
        "    id: str\n",
        "    board: list[list[int | None]]\n",
        "\n",
        "# Randomly populates a cell on the board with a 2 or 4\n",
        "def populate_random_cell(game: TwentyFortyEightGame) -> None:\n",
        "    all_clear_coordinates = [\n",
        "        (i, j)\n",
        "        for i in range(len(game[\"board\"]))\n",
        "        for j in range(len(game[\"board\"][i]))\n",
        "        if game[\"board\"][i][j] is None\n",
        "    ]\n",
        "    random_clear_coordinates = random.choice(all_clear_coordinates)\n",
        "    # 90% chance to populate a 2, 10% chance to populate a 4\n",
        "    game[\"board\"][random_clear_coordinates[0]][random_clear_coordinates[1]] = (\n",
        "        2 if random.random() < 0.9 else 4\n",
        "    )\n",
        "\n",
        "# Generates a new game of 2048\n",
        "def generate_game(board_length: int = 4) -> TwentyFortyEightGame:\n",
        "    # random 6 character string\n",
        "    id = \"\".join(random.choices(string.ascii_letters + string.digits, k=6))\n",
        "    game = {\n",
        "        \"id\": id,\n",
        "        \"board\": [[None for _ in range(board_length)] for _ in range(board_length)],\n",
        "    }\n",
        "\n",
        "    # populate two random cells\n",
        "    populate_random_cell(game)\n",
        "    populate_random_cell(game)\n",
        "\n",
        "    return game\n",
        "\n",
        "# Renders the board in a human-readable format\n",
        "def render_board(game: TwentyFortyEightGame) -> str:\n",
        "    board = game[\"board\"]\n",
        "    # print something like this:\n",
        "    # _    | 2    | _    | 4\n",
        "    # 4    | 8    | 2    | 16\n",
        "    # 16   | 32   | 64   | 128\n",
        "    # _    | 2    | 2    | 4\n",
        "    # where _ is an empty cell\n",
        "\n",
        "    max_cell_width = max(\n",
        "        [len(str(cell)) for row in board for cell in row if cell is not None]\n",
        "    )\n",
        "\n",
        "    board_str = \"\"\n",
        "    for row in board:\n",
        "        # pad the cells with spaces to make them the same width\n",
        "        board_str += \"|\".join(\n",
        "            [\n",
        "                str(cell).rjust(max_cell_width)\n",
        "                if cell is not None\n",
        "                else \"_\".rjust(max_cell_width)\n",
        "                for cell in row\n",
        "            ]\n",
        "        )\n",
        "        board_str += \"\\n\"\n",
        "    return board_str\n",
        "\n",
        "\n",
        "# condense, privileging matches at the start of the sequence\n",
        "# sequences should be passed starting with cells that are the furthest in the direction in which the board is being condensed\n",
        "def condense_sequence(sequence: list[int | None]) -> list[int | None]:\n",
        "    condensed_sequence = []\n",
        "\n",
        "    gapless_sequence = [cell for cell in sequence if cell is not None]\n",
        "\n",
        "    i = 0\n",
        "    while i < len(gapless_sequence):\n",
        "        if (\n",
        "            i + 1 < len(gapless_sequence)\n",
        "            and gapless_sequence[i] == gapless_sequence[i + 1]\n",
        "        ):\n",
        "            condensed_sequence.append(gapless_sequence[i] * 2)\n",
        "            i += 2\n",
        "        else:\n",
        "            condensed_sequence.append(gapless_sequence[i])\n",
        "            i += 1\n",
        "\n",
        "    # pad the sequence with None at the end\n",
        "    return condensed_sequence + [None] * (4 - len(condensed_sequence))\n",
        "\n",
        "# Condenses the board in a given direction\n",
        "def condense_board(\n",
        "    game: TwentyFortyEightGame, direction: Literal[\"left\", \"right\", \"up\", \"down\"]\n",
        ") -> None:\n",
        "    if direction == \"left\":\n",
        "        for row in game[\"board\"]:\n",
        "            condensed_row = condense_sequence(row)\n",
        "            for i in range(len(row)):\n",
        "                row[i] = condensed_row[i]\n",
        "\n",
        "    if direction == \"right\":\n",
        "        for row in game[\"board\"]:\n",
        "            reversed_row = row[::-1]\n",
        "            # reverse the row before and after condensing\n",
        "            condensed_row = condense_sequence(reversed_row)[::-1]\n",
        "            for i in range(len(row)):\n",
        "                row[i] = condensed_row[i]\n",
        "\n",
        "    if direction == \"up\":\n",
        "        for col_index in range(len(game[\"board\"][0])):\n",
        "            column = [row[col_index] for row in game[\"board\"]]\n",
        "\n",
        "            condensed_column = condense_sequence(column)\n",
        "            for row_index in range(len(column)):\n",
        "                game[\"board\"][row_index][col_index] = condensed_column[row_index]\n",
        "\n",
        "    if direction == \"down\":\n",
        "        for col_index in range(len(game[\"board\"][0])):\n",
        "            column = [row[col_index] for row in game[\"board\"]]\n",
        "            reversed_column = column[::-1]\n",
        "            condensed_column = condense_sequence(reversed_column)[::-1]\n",
        "            for row_index in range(len(column)):\n",
        "                game[\"board\"][row_index][col_index] = condensed_column[row_index]\n",
        "\n",
        "\n",
        "# Applies an agent move to the game board\n",
        "def apply_agent_move(game: TwentyFortyEightGame, move_xml: str) -> None:\n",
        "    direction = None\n",
        "    # parse the move\n",
        "    try:\n",
        "        root = ET.fromstring(move_xml)\n",
        "        direction = root.text\n",
        "    except Exception as e:\n",
        "        raise ValueError(\"Invalid xml\")\n",
        "\n",
        "    if direction not in [\"left\", \"right\", \"up\", \"down\"]:\n",
        "        raise ValueError(\"Invalid direction\")\n",
        "\n",
        "    condense_board(game, direction)\n",
        "\n",
        "    populate_random_cell(game)\n",
        "\n",
        "# Returns the maximum cell value on the board\n",
        "def max_cell_value(game: TwentyFortyEightGame) -> int:\n",
        "    return max([cell for row in game[\"board\"] for cell in row if cell is not None])\n",
        "\n",
        "# Returns True if the game is finished\n",
        "def check_game_finished(game: TwentyFortyEightGame) -> bool:\n",
        "    if max_cell_value(game) >= WINNING_VALUE:\n",
        "        return True\n",
        "\n",
        "    # check if any cell is empty\n",
        "    if any(cell is None for row in game[\"board\"] for cell in row):\n",
        "        return False\n",
        "\n",
        "    return True\n",
        "\n",
        "# Returns the sum of all the cell values on the board\n",
        "def total_board_value(game: TwentyFortyEightGame) -> int:\n",
        "    return sum([cell for row in game[\"board\"] for cell in row if cell is not None])\n"
      ]
    },
    {
      "cell_type": "markdown",
      "metadata": {},
      "source": [
        "### Creating a Model\n",
        "\n",
        "Now that we've defined the rules of our environment, we can create a model that will learn to play 2048. We'll use a Qwen 2.5 3B model for this example. The `name` parameter will be associated with a wandb run, and the `base_model` parameter is the model that we'll be training a LoRA on top of."
      ]
    },
    {
      "cell_type": "code",
      "execution_count": null,
      "metadata": {},
      "outputs": [
        {
          "name": "stderr",
          "output_type": "stream",
          "text": [
            "/root/sky_workdir/src/art/local/state.py:5: UserWarning: WARNING: Unsloth should be imported before trl, transformers, peft to ensure all optimizations are applied. Your code may run slower or encounter memory issues without these optimizations.\n",
            "\n",
            "Please restructure your imports with 'import unsloth' at the top of your file.\n",
            "  import unsloth  # type: ignore\n"
          ]
        },
        {
          "name": "stdout",
          "output_type": "stream",
          "text": [
            "🦥 Unsloth: Will patch your computer to enable 2x faster free finetuning.\n",
            "Unsloth: Failed to patch Gemma3ForConditionalGeneration.\n",
            "🦥 Unsloth Zoo will now patch everything to make training faster!\n",
            "INFO 04-16 10:15:14 __init__.py:207] Automatically detected platform cuda.\n",
            "==((====))==  Unsloth 2025.3.19: Fast Qwen2 patching. Transformers: 4.51.1. vLLM: 0.7.3.\n",
            "   \\\\   /|    NVIDIA H100 PCIe. Num GPUs = 1. Max memory: 79.097 GB. Platform: Linux.\n",
            "O^O/ \\_/ \\    Torch: 2.5.1+cu124. CUDA: 9.0. CUDA Toolkit: 12.4. Triton: 3.1.0\n",
            "\\        /    Bfloat16 = TRUE. FA [Xformers = 0.0.29.post1. FA2 = False]\n",
            " \"-____-\"     Free license: http://github.com/unslothai/unsloth\n",
            "Unsloth: Fast downloading is enabled - ignore downloading bars which are red colored!\n",
            "Unsloth: vLLM loading unsloth/qwen2.5-3b-instruct-unsloth-bnb-4bit with actual GPU utilization = 78.47%\n",
            "Unsloth: Your GPU has CUDA compute capability 9.0 with VRAM = 79.1 GB.\n",
            "Unsloth: Using conservativeness = 1.0. Chunked prefill tokens = 32768. Num Sequences = 368.\n",
            "Unsloth: vLLM's KV Cache can use up to 59.84 GB. Also swap space = 6 GB.\n",
            "INFO 04-16 10:15:27 config.py:549] This model supports multiple tasks: {'embed', 'classify', 'reward', 'score', 'generate'}. Defaulting to 'generate'.\n",
            "Unsloth: vLLM Bitsandbytes config using kwargs = {'load_in_8bit': False, 'load_in_4bit': True, 'bnb_4bit_compute_dtype': 'bfloat16', 'bnb_4bit_quant_storage': 'uint8', 'bnb_4bit_quant_type': 'nf4', 'bnb_4bit_use_double_quant': True, 'llm_int8_enable_fp32_cpu_offload': False, 'llm_int8_has_fp16_weight': False, 'llm_int8_skip_modules': ['lm_head', 'multi_modal_projector', 'merger', 'modality_projection', 'model.layers.2.mlp', 'model.layers.3.mlp', 'model.layers.30.mlp'], 'llm_int8_threshold': 6.0}\n",
            "INFO 04-16 10:15:27 llm_engine.py:234] Initializing a V0 LLM engine (v0.7.3) with config: model='unsloth/qwen2.5-3b-instruct-unsloth-bnb-4bit', speculative_config=None, tokenizer='unsloth/qwen2.5-3b-instruct-unsloth-bnb-4bit', skip_tokenizer_init=False, tokenizer_mode=auto, revision=None, override_neuron_config=None, tokenizer_revision=None, trust_remote_code=False, dtype=torch.bfloat16, max_seq_len=32768, download_dir=None, load_format=bitsandbytes, tensor_parallel_size=1, pipeline_parallel_size=1, disable_custom_all_reduce=False, quantization=bitsandbytes, enforce_eager=False, kv_cache_dtype=auto,  device_config=cuda:0, decoding_config=DecodingConfig(guided_decoding_backend='xgrammar'), observability_config=ObservabilityConfig(otlp_traces_endpoint=None, collect_model_forward_time=False, collect_model_execute_time=False), seed=0, served_model_name=unsloth/qwen2.5-3b-instruct-unsloth-bnb-4bit, num_scheduler_steps=16, multi_step_stream_outputs=True, enable_prefix_caching=True, chunked_prefill_enabled=False, use_async_output_proc=True, disable_mm_preprocessor_cache=False, mm_processor_kwargs=None, pooler_config=None, compilation_config={\"level\":0,\"splitting_ops\":[],\"compile_sizes\":[],\"cudagraph_capture_sizes\":[368,360,352,344,336,328,320,312,304,296,288,280,272,264,256,248,240,232,224,216,208,200,192,184,176,168,160,152,144,136,128,120,112,104,96,88,80,72,64,56,48,40,32,24,16,8,4,2,1],\"max_capture_size\":368}, use_cached_outputs=False, \n",
            "INFO 04-16 10:15:27 cuda.py:229] Using Flash Attention backend.\n",
            "WARNING 04-16 10:15:27 registry.py:335] `mm_limits` has already been set for model=unsloth/qwen2.5-3b-instruct-unsloth-bnb-4bit, and will be overwritten by the new values.\n",
            "INFO 04-16 10:15:28 model_runner.py:1110] Starting to load model unsloth/qwen2.5-3b-instruct-unsloth-bnb-4bit...\n",
            "INFO 04-16 10:15:28 loader.py:1089] Loading weights with BitsAndBytes quantization.  May take a while ...\n",
            "INFO 04-16 10:15:28 weight_utils.py:254] Using model weights format ['*.safetensors']\n"
          ]
        },
        {
          "data": {
            "application/vnd.jupyter.widget-view+json": {
              "model_id": "4b90e84266bb493fa7dbf2d4958fcb0e",
              "version_major": 2,
              "version_minor": 0
            },
            "text/plain": [
              "Loading safetensors checkpoint shards:   0% Completed | 0/1 [00:00<?, ?it/s]\n"
            ]
          },
          "metadata": {},
          "output_type": "display_data"
        },
        {
          "data": {
            "application/vnd.jupyter.widget-view+json": {
              "model_id": "77d485b38fd5448aafd528de4532a9c3",
              "version_major": 2,
              "version_minor": 0
            },
            "text/plain": [
              "Loading safetensors checkpoint shards:   0% Completed | 0/1 [00:00<?, ?it/s]\n"
            ]
          },
          "metadata": {},
          "output_type": "display_data"
        },
        {
          "name": "stdout",
          "output_type": "stream",
          "text": [
            "INFO 04-16 10:15:30 model_runner.py:1115] Loading model weights took 2.2265 GB\n",
            "INFO 04-16 10:15:30 punica_selector.py:18] Using PunicaWrapperGPU.\n",
            "INFO 04-16 10:15:33 worker.py:267] Memory profiling takes 2.54 seconds\n",
            "INFO 04-16 10:15:33 worker.py:267] the current vLLM instance can use total_gpu_memory (79.10GiB) x gpu_memory_utilization (0.78) = 62.06GiB\n",
            "INFO 04-16 10:15:33 worker.py:267] model weights take 2.23GiB; non_torch_memory takes 0.14GiB; PyTorch activation peak memory takes 2.71GiB; the rest of the memory reserved for KV Cache is 56.98GiB.\n",
            "INFO 04-16 10:15:33 executor_base.py:111] # cuda blocks: 103733, # CPU blocks: 10922\n",
            "INFO 04-16 10:15:33 executor_base.py:116] Maximum concurrency for 32768 tokens per request: 50.65x\n",
            "INFO 04-16 10:15:41 model_runner.py:1434] Capturing cudagraphs for decoding. This may lead to unexpected consequences if the model is not static. To run the model in eager mode, set 'enforce_eager=True' or use '--enforce-eager' in the CLI. If out-of-memory error occurs during cudagraph capture, consider decreasing `gpu_memory_utilization` or switching to eager mode. You can also reduce the `max_num_seqs` as needed to decrease memory usage.\n"
          ]
        },
        {
          "name": "stderr",
          "output_type": "stream",
          "text": [
            "Capturing CUDA graph shapes: 100%|██████████| 49/49 [00:47<00:00,  1.04it/s]"
          ]
        },
        {
          "name": "stdout",
          "output_type": "stream",
          "text": [
            "INFO 04-16 10:16:28 model_runner.py:1562] Graph capturing finished in 47 secs, took 1.30 GiB\n",
            "INFO 04-16 10:16:28 llm_engine.py:436] init engine (profile, create kv cache, warmup model) took 58.12 seconds\n"
          ]
        },
        {
          "name": "stderr",
          "output_type": "stream",
          "text": [
            "\n",
            "Unsloth 2025.3.19 patched 36 layers with 36 QKV layers, 36 O layers and 36 MLP layers.\n"
          ]
        }
      ],
      "source": [
        "import art\n",
        "from dotenv import load_dotenv\n",
        "from openpipe.client import AsyncOpenPipe\n",
        "import random\n",
        "\n",
        "\n",
        "load_dotenv()\n",
        "\n",
        "random.seed(42)\n",
        "\n",
        "# Declare the model\n",
        "model = art.TrainableModel(\n",
        "    name=\"009\",\n",
        "    project=\"2048-multi-turn\",\n",
        "    base_model=\"Qwen/Qwen2.5-3B-Instruct\",\n",
        "    # To run on a T4, we need to override some config defaults.\n",
        "    _internal_config=art.dev.InternalModelConfig(\n",
        "        init_args=art.dev.InitArgs(\n",
        "            max_seq_length=8192,\n",
        "        ),\n",
        "        engine_args=art.dev.EngineArgs(\n",
        "            enforce_eager=True,\n",
        "            gpu_memory_utilization=0.8,\n",
        "            num_scheduler_steps=1,\n",
        "        ),\n",
        "    ),\n",
        ")\n",
        "\n",
        "# Initialize the server\n",
        "await model.register(art.LocalAPI(\n",
        "    # Normally we don't want to run the server in-process, but for the output\n",
        "    # to show up properly on Google Colab we'll enable this.\n",
        "    in_process=True\n",
        "))\n",
        "\n",
        "# Optional logging client\n",
        "op_client = AsyncOpenPipe()"
      ]
    },
    {
      "cell_type": "markdown",
      "metadata": {
        "tags": [
          "rollout"
        ]
      },
      "source": [
        "### Defining a Rollout\n",
        "<a name=\"Rollout\"></a>\n",
        "\n",
        "A rollout is a single episode of an agent performing its task. It generates one or more trajectories, which are lists of messages and choices.\n",
        "\n",
        "In this example, the rollout function generates a game of 2048, and the agent plays it until the game is finished. It then returns a trajectory which contains all the `system` and `user` messages presented to the agent, as well as all the `choices` that the agent made.\n",
        "\n",
        "When the game is finished the `reward` for the agent's performance is calculated based on the highest cell value on the board, which is then assigned to the trajectory.\n",
        "\n",
        "This rollout function will be called many times in parallel during each iteration of the training loop."
      ]
    },
    {
      "cell_type": "code",
      "execution_count": 7,
      "metadata": {},
      "outputs": [],
      "source": [
        "import art\n",
        "from art.utils.get_trajectory_messages import get_trajectory_messages\n",
        "import asyncio\n",
        "import openai\n",
        "import time\n",
        "import math\n",
        "import requests\n",
        "\n",
        "\n",
        "@art.retry(exceptions=(openai.LengthFinishReasonError, requests.ReadTimeout))\n",
        "async def rollout(\n",
        "    client: openai.AsyncOpenAI, iteration: int, is_validation: bool\n",
        ") -> art.Trajectory:\n",
        "\n",
        "    game = generate_game()\n",
        "\n",
        "    move_number = 0\n",
        "\n",
        "    trajectory = art.Trajectory(\n",
        "        messages_and_choices=[\n",
        "            {\n",
        "                \"role\": \"system\",\n",
        "                \"content\": \"You are an excellent 2048 player. Always choose the move most likely to lead to combine cells to eventually reach the number 2048. Optional moves are 'left', 'right', 'up', 'down'. Return your move as an XML object with a single property 'move', like so: <move>left</move>\",\n",
        "            }\n",
        "        ],\n",
        "        reward=0,\n",
        "    )\n",
        "\n",
        "    while True:\n",
        "\n",
        "        trajectory.messages_and_choices.append(\n",
        "            {\"role\": \"user\", \"content\": render_board(game)}\n",
        "        )\n",
        "\n",
        "        requested_at = int(time.time() * 1000)\n",
        "        messages = get_trajectory_messages(trajectory)\n",
        "\n",
        "        async def get_completion():\n",
        "            return await client.chat.completions.create(\n",
        "                max_completion_tokens=128,\n",
        "                messages=messages,\n",
        "                model=model.name,\n",
        "            )\n",
        "\n",
        "        try:\n",
        "            chat_completion = await get_completion()\n",
        "            last_completion = chat_completion\n",
        "        except openai.LengthFinishReasonError as e:\n",
        "            raise e\n",
        "        except Exception as e:\n",
        "            print(\"caught exception generating chat completion\", e)\n",
        "            raise e\n",
        "\n",
        "        try:\n",
        "            if op_client.api_key:\n",
        "                await op_client.report(\n",
        "                    requested_at=requested_at,\n",
        "                    received_at=int(time.time() * 1000),\n",
        "                    req_payload={\n",
        "                        \"model\": model.name,\n",
        "                        \"messages\": messages,\n",
        "                        \"metadata\": {\n",
        "                            \"game_id\": game[\"id\"],\n",
        "                            \"notebook-id\": \"2048\",\n",
        "                            \"iteration\": str(iteration),\n",
        "                            \"validation\": str(is_validation),\n",
        "                            \"move_number\": str(move_number),\n",
        "                        },\n",
        "                    },\n",
        "                    resp_payload=chat_completion,\n",
        "                    status_code=200,\n",
        "                )\n",
        "        except Exception as e:\n",
        "            print(f\"Error reporting to OpenPipe: {e}\")\n",
        "\n",
        "        choice = chat_completion.choices[0]\n",
        "        content = choice.message.content\n",
        "        assert isinstance(content, str)\n",
        "        trajectory.messages_and_choices.append(choice)\n",
        "\n",
        "        try:\n",
        "            apply_agent_move(game, content)\n",
        "            move_number += 1\n",
        "        except ValueError:\n",
        "            trajectory.reward = -1\n",
        "            break\n",
        "\n",
        "        if check_game_finished(game):\n",
        "            max_value = max_cell_value(game)\n",
        "            board_value = total_board_value(game)\n",
        "            trajectory.metrics[\"max_value\"] = max_value\n",
        "            trajectory.metrics[\"board_value\"] = board_value\n",
        "\n",
        "            if max_value < WINNING_VALUE:\n",
        "                # scale max value logarithmically between 0 for 2 and 1 for WINNING_VALUE\n",
        "                max_value_reward = (math.log(max_value, 2) - 1) / (\n",
        "                    math.log(WINNING_VALUE, 2) - 1\n",
        "                )\n",
        "                # scale board value logarithmically between 0 for 2 * 16 and 1 for WINNING_VALUE * 16\n",
        "                board_value_reward = (math.log(board_value, 2) - 1) / (\n",
        "                    math.log(WINNING_VALUE * 16, 2) - 1\n",
        "                )\n",
        "                # combine the two rewards, with max value having a higher weight\n",
        "                trajectory.reward = max_value_reward + (board_value_reward * 0.2)\n",
        "            else:\n",
        "                # double reward if the agent wins\n",
        "                trajectory.reward = 2\n",
        "                # add random number between 0 and .001\n",
        "                trajectory.reward += random.random() * 0.001\n",
        "            break\n",
        "\n",
        "    try:\n",
        "        if op_client.api_key:\n",
        "            await op_client.update_log_metadata(\n",
        "                filters=[\n",
        "                    {\n",
        "                        \"field\": \"completionId\",\n",
        "                        \"equals\": last_completion.id,\n",
        "                    }\n",
        "                ],\n",
        "                metadata={\n",
        "                    \"reward\": str(trajectory.reward),\n",
        "                    \"reward_assigned\": \"true\",\n",
        "                },\n",
        "            )\n",
        "    except Exception as e:\n",
        "        print(f\"Error updating log metadata: {e}\")\n",
        "\n",
        "    return trajectory"
      ]
    },
    {
      "cell_type": "markdown",
      "metadata": {
        "tags": [
          "loop"
        ]
      },
      "source": [
        "<a name=\"Loop\"></a>\n",
        "### Training Loop\n",
        "\n",
        "The training loop is where the magic happens. For each of the 50 iterations defined below, the rollout function will be called 18 times in parallel. This means that 18 games will be played at once. Each game will produce a trajectory, which will be used to update the model.\n",
        "\n",
        "The `gather` step will wait for all of the trajectories to be generated, then it will delete all but the most recent checkpoint and train the model on the new trajectories.\n",
        "\n",
        "Inference will be blocked until the training is complete.\n",
        "\n"
      ]
    },
    {
      "cell_type": "code",
      "execution_count": null,
      "metadata": {},
      "outputs": [
        {
          "data": {
            "application/vnd.jupyter.widget-view+json": {
              "model_id": "5944c0268aca4b15bab0f60eb45a93ec",
              "version_major": 2,
              "version_minor": 0
            },
            "text/plain": [
              "gather:   0%|          | 0/2 [00:00<?, ?it/s]"
            ]
          },
          "metadata": {},
          "output_type": "display_data"
        },
        {
          "name": "stderr",
          "output_type": "stream",
          "text": [
            "\u001b[34m\u001b[1mwandb\u001b[0m: Using wandb-core as the SDK backend.  Please refer to https://wandb.me/wandb-core for more information.\n",
            "\u001b[34m\u001b[1mwandb\u001b[0m: Currently logged in as: \u001b[33mopenpipe\u001b[0m (\u001b[33mopenpipe-team\u001b[0m) to \u001b[32mhttps://api.wandb.ai\u001b[0m. Use \u001b[1m`wandb login --relogin`\u001b[0m to force relogin\n"
          ]
        },
        {
          "data": {
            "text/html": [
              "Tracking run with wandb version 0.19.9"
            ],
            "text/plain": [
              "<IPython.core.display.HTML object>"
            ]
          },
          "metadata": {},
          "output_type": "display_data"
        },
        {
          "data": {
            "text/html": [
              "Run data is saved locally in <code>/root/sky_workdir/examples/2048/wandb/run-20250416_101702-008</code>"
            ],
            "text/plain": [
              "<IPython.core.display.HTML object>"
            ]
          },
          "metadata": {},
          "output_type": "display_data"
        },
        {
          "data": {
            "text/html": [
              "Syncing run <strong><a href='https://wandb.ai/openpipe-team/2048-multi-turn/runs/008' target=\"_blank\">008</a></strong> to <a href='https://wandb.ai/openpipe-team/2048-multi-turn' target=\"_blank\">Weights & Biases</a> (<a href='https://wandb.me/developer-guide' target=\"_blank\">docs</a>)<br>"
            ],
            "text/plain": [
              "<IPython.core.display.HTML object>"
            ]
          },
          "metadata": {},
          "output_type": "display_data"
        },
        {
          "data": {
            "text/html": [
              " View project at <a href='https://wandb.ai/openpipe-team/2048-multi-turn' target=\"_blank\">https://wandb.ai/openpipe-team/2048-multi-turn</a>"
            ],
            "text/plain": [
              "<IPython.core.display.HTML object>"
            ]
          },
          "metadata": {},
          "output_type": "display_data"
        },
        {
          "data": {
            "text/html": [
              " View run at <a href='https://wandb.ai/openpipe-team/2048-multi-turn/runs/008' target=\"_blank\">https://wandb.ai/openpipe-team/2048-multi-turn/runs/008</a>"
            ],
            "text/plain": [
              "<IPython.core.display.HTML object>"
            ]
          },
          "metadata": {},
          "output_type": "display_data"
        },
        {
          "name": "stdout",
          "output_type": "stream",
          "text": [
            "Packed 2 trajectories into 1 sequences of length 2048\n"
          ]
        },
        {
          "data": {
            "application/vnd.jupyter.widget-view+json": {
              "model_id": "18ca4501d4b74efa9e80e746fc0b292a",
              "version_major": 2,
              "version_minor": 0
            },
            "text/plain": [
              "train:   0%|          | 0/1 [00:00<?, ?it/s]"
            ]
          },
          "metadata": {},
          "output_type": "display_data"
        },
        {
          "name": "stderr",
          "output_type": "stream",
          "text": [
            "==((====))==  Unsloth - 2x faster free finetuning | Num GPUs used = 1\n",
            "   \\\\   /|    Num examples = 10,000,000 | Num Epochs = 3 | Total steps = 30,000,000\n",
            "O^O/ \\_/ \\    Batch size per device = 2 | Gradient accumulation steps = 1\n",
            "\\        /    Data Parallel GPUs = 1 | Total batch size (2 x 1 x 1) = 2\n",
            " \"-____-\"     Trainable parameters = 14,966,784/3,000,000,000 (0.50% trained)\n"
          ]
        },
        {
          "name": "stdout",
          "output_type": "stream",
          "text": [
            "Unsloth: Will smartly offload gradients to save VRAM!\n"
          ]
        },
        {
          "data": {
            "application/vnd.jupyter.widget-view+json": {
              "model_id": "64adb18193644d28b557e1c62895e520",
              "version_major": 2,
              "version_minor": 0
            },
            "text/plain": [
              "gather:   0%|          | 0/2 [00:00<?, ?it/s]"
            ]
          },
          "metadata": {},
          "output_type": "display_data"
        },
        {
          "name": "stdout",
          "output_type": "stream",
          "text": [
            "Packed 2 trajectories into 2 sequences of length 2048\n"
          ]
        },
        {
          "data": {
            "application/vnd.jupyter.widget-view+json": {
              "model_id": "1a90b7e62acb4dbc8f38823320806459",
              "version_major": 2,
              "version_minor": 0
            },
            "text/plain": [
              "train:   0%|          | 0/2 [00:00<?, ?it/s]"
            ]
          },
          "metadata": {},
          "output_type": "display_data"
        },
        {
          "data": {
            "application/vnd.jupyter.widget-view+json": {
              "model_id": "aede5de7670f4b199c77bebc476ec516",
              "version_major": 2,
              "version_minor": 0
            },
            "text/plain": [
              "gather:   0%|          | 0/2 [00:00<?, ?it/s]"
            ]
          },
          "metadata": {},
          "output_type": "display_data"
        },
        {
          "name": "stdout",
          "output_type": "stream",
          "text": [
            "Packed 2 trajectories into 2 sequences of length 2048\n"
          ]
        },
        {
          "data": {
            "application/vnd.jupyter.widget-view+json": {
              "model_id": "7f34ceb5e49d4621b3e611a2d3868300",
              "version_major": 2,
              "version_minor": 0
            },
            "text/plain": [
              "train:   0%|          | 0/2 [00:00<?, ?it/s]"
            ]
          },
          "metadata": {},
          "output_type": "display_data"
        },
        {
          "data": {
            "application/vnd.jupyter.widget-view+json": {
              "model_id": "7cc379717a75429180c7a896b91a4f75",
              "version_major": 2,
              "version_minor": 0
            },
            "text/plain": [
              "gather:   0%|          | 0/2 [00:00<?, ?it/s]"
            ]
          },
          "metadata": {},
          "output_type": "display_data"
        },
        {
          "name": "stdout",
          "output_type": "stream",
          "text": [
            "Packed 2 trajectories into 2 sequences of length 2048\n"
          ]
        },
        {
          "data": {
            "application/vnd.jupyter.widget-view+json": {
              "model_id": "f1b608c432244b01b5960ba2da115b8b",
              "version_major": 2,
              "version_minor": 0
            },
            "text/plain": [
              "train:   0%|          | 0/2 [00:00<?, ?it/s]"
            ]
          },
          "metadata": {},
          "output_type": "display_data"
        },
        {
          "data": {
            "application/vnd.jupyter.widget-view+json": {
              "model_id": "e8006798cd8241d48479881c903879bd",
              "version_major": 2,
              "version_minor": 0
            },
            "text/plain": [
              "gather:   0%|          | 0/2 [00:00<?, ?it/s]"
            ]
          },
          "metadata": {},
          "output_type": "display_data"
        },
        {
          "name": "stdout",
          "output_type": "stream",
          "text": [
            "Packed 2 trajectories into 2 sequences of length 2048\n"
          ]
        },
        {
          "data": {
            "application/vnd.jupyter.widget-view+json": {
              "model_id": "a14ed6bfe53d4f0ab5fdf6c0c15d6e55",
              "version_major": 2,
              "version_minor": 0
            },
            "text/plain": [
              "train:   0%|          | 0/2 [00:00<?, ?it/s]"
            ]
          },
          "metadata": {},
          "output_type": "display_data"
        },
        {
          "data": {
            "application/vnd.jupyter.widget-view+json": {
              "model_id": "f3e588a4e01c474cb1882befd99b87fe",
              "version_major": 2,
              "version_minor": 0
            },
            "text/plain": [
              "gather:   0%|          | 0/2 [00:00<?, ?it/s]"
            ]
          },
          "metadata": {},
          "output_type": "display_data"
        },
        {
          "name": "stdout",
          "output_type": "stream",
          "text": [
            "Packed 2 trajectories into 2 sequences of length 2048\n"
          ]
        },
        {
          "data": {
            "application/vnd.jupyter.widget-view+json": {
              "model_id": "79dd2d2b33174271871df7c201096a53",
              "version_major": 2,
              "version_minor": 0
            },
            "text/plain": [
              "train:   0%|          | 0/2 [00:00<?, ?it/s]"
            ]
          },
          "metadata": {},
          "output_type": "display_data"
        },
        {
          "data": {
            "application/vnd.jupyter.widget-view+json": {
              "model_id": "dabef835bff94094a0e46e034fc62863",
              "version_major": 2,
              "version_minor": 0
            },
            "text/plain": [
              "gather:   0%|          | 0/2 [00:00<?, ?it/s]"
            ]
          },
          "metadata": {},
          "output_type": "display_data"
        },
        {
          "name": "stdout",
          "output_type": "stream",
          "text": [
            "Packed 2 trajectories into 2 sequences of length 2048\n"
          ]
        },
        {
          "data": {
            "application/vnd.jupyter.widget-view+json": {
              "model_id": "981aac934e4f4dfa978c96a2fd33a635",
              "version_major": 2,
              "version_minor": 0
            },
            "text/plain": [
              "train:   0%|          | 0/2 [00:00<?, ?it/s]"
            ]
          },
          "metadata": {},
          "output_type": "display_data"
        },
        {
          "data": {
            "application/vnd.jupyter.widget-view+json": {
              "model_id": "a5511dea12a6411ea339498f334da245",
              "version_major": 2,
              "version_minor": 0
            },
            "text/plain": [
              "gather:   0%|          | 0/2 [00:00<?, ?it/s]"
            ]
          },
          "metadata": {},
          "output_type": "display_data"
        },
        {
          "name": "stdout",
          "output_type": "stream",
          "text": [
            "Packed 2 trajectories into 2 sequences of length 2048\n"
          ]
        },
        {
          "data": {
            "application/vnd.jupyter.widget-view+json": {
              "model_id": "bc721ab7e36b4125a14672db8a09baf9",
              "version_major": 2,
              "version_minor": 0
            },
            "text/plain": [
              "train:   0%|          | 0/2 [00:00<?, ?it/s]"
            ]
          },
          "metadata": {},
          "output_type": "display_data"
        },
        {
          "data": {
            "application/vnd.jupyter.widget-view+json": {
              "model_id": "bcf3057b88294b3ea2eaaf680ace6e6f",
              "version_major": 2,
              "version_minor": 0
            },
            "text/plain": [
              "gather:   0%|          | 0/2 [00:00<?, ?it/s]"
            ]
          },
          "metadata": {},
          "output_type": "display_data"
        },
        {
          "name": "stdout",
          "output_type": "stream",
          "text": [
            "Packed 2 trajectories into 2 sequences of length 2048\n"
          ]
        },
        {
          "data": {
            "application/vnd.jupyter.widget-view+json": {
              "model_id": "b53da2ba80d34eab98bce2f85b878f8a",
              "version_major": 2,
              "version_minor": 0
            },
            "text/plain": [
              "train:   0%|          | 0/2 [00:00<?, ?it/s]"
            ]
          },
          "metadata": {},
          "output_type": "display_data"
        },
        {
          "data": {
            "application/vnd.jupyter.widget-view+json": {
              "model_id": "5c015483609e49ae97ae66f2b1defb1d",
              "version_major": 2,
              "version_minor": 0
            },
            "text/plain": [
              "gather:   0%|          | 0/2 [00:00<?, ?it/s]"
            ]
          },
          "metadata": {},
          "output_type": "display_data"
        },
        {
          "name": "stdout",
          "output_type": "stream",
          "text": [
            "Packed 2 trajectories into 1 sequences of length 2048\n"
          ]
        },
        {
          "data": {
            "application/vnd.jupyter.widget-view+json": {
              "model_id": "7722097f1f3e4ef7a6f6b58288084f04",
              "version_major": 2,
              "version_minor": 0
            },
            "text/plain": [
              "train:   0%|          | 0/1 [00:00<?, ?it/s]"
            ]
          },
          "metadata": {},
          "output_type": "display_data"
        },
        {
          "data": {
            "application/vnd.jupyter.widget-view+json": {
              "model_id": "030ea14907bf4feda29fd077928aa72f",
              "version_major": 2,
              "version_minor": 0
            },
            "text/plain": [
              "gather:   0%|          | 0/2 [00:00<?, ?it/s]"
            ]
          },
          "metadata": {},
          "output_type": "display_data"
        },
        {
          "name": "stdout",
          "output_type": "stream",
          "text": [
            "Packed 2 trajectories into 2 sequences of length 2048\n"
          ]
        },
        {
          "data": {
            "application/vnd.jupyter.widget-view+json": {
              "model_id": "ad3cf4e645704969ba6d00451afd480f",
              "version_major": 2,
              "version_minor": 0
            },
            "text/plain": [
              "train:   0%|          | 0/2 [00:00<?, ?it/s]"
            ]
          },
          "metadata": {},
          "output_type": "display_data"
        },
        {
          "data": {
            "application/vnd.jupyter.widget-view+json": {
              "model_id": "80f941ed8b26477fbee3b4ad145d6b31",
              "version_major": 2,
              "version_minor": 0
            },
            "text/plain": [
              "gather:   0%|          | 0/2 [00:00<?, ?it/s]"
            ]
          },
          "metadata": {},
          "output_type": "display_data"
        },
        {
          "name": "stdout",
          "output_type": "stream",
          "text": [
            "Packed 2 trajectories into 2 sequences of length 2048\n"
          ]
        },
        {
          "data": {
            "application/vnd.jupyter.widget-view+json": {
              "model_id": "184873646bc744ff951b03eb1e5b8bc9",
              "version_major": 2,
              "version_minor": 0
            },
            "text/plain": [
              "train:   0%|          | 0/2 [00:00<?, ?it/s]"
            ]
          },
          "metadata": {},
          "output_type": "display_data"
        },
        {
          "data": {
            "application/vnd.jupyter.widget-view+json": {
              "model_id": "c0056ca661ed4d0697426214b60e0c62",
              "version_major": 2,
              "version_minor": 0
            },
            "text/plain": [
              "gather:   0%|          | 0/2 [00:00<?, ?it/s]"
            ]
          },
          "metadata": {},
          "output_type": "display_data"
        },
        {
          "name": "stdout",
          "output_type": "stream",
          "text": [
            "Packed 2 trajectories into 2 sequences of length 2048\n"
          ]
        },
        {
          "data": {
            "application/vnd.jupyter.widget-view+json": {
              "model_id": "b3422036e77d44b2ad31c795c928aca7",
              "version_major": 2,
              "version_minor": 0
            },
            "text/plain": [
              "train:   0%|          | 0/2 [00:00<?, ?it/s]"
            ]
          },
          "metadata": {},
          "output_type": "display_data"
        },
        {
          "data": {
            "application/vnd.jupyter.widget-view+json": {
              "model_id": "80a2c77da8194a2985d8f4910c8eaf34",
              "version_major": 2,
              "version_minor": 0
            },
            "text/plain": [
              "gather:   0%|          | 0/2 [00:00<?, ?it/s]"
            ]
          },
          "metadata": {},
          "output_type": "display_data"
        },
        {
          "name": "stdout",
          "output_type": "stream",
          "text": [
            "Packed 2 trajectories into 1 sequences of length 2048\n"
          ]
        },
        {
          "data": {
            "application/vnd.jupyter.widget-view+json": {
              "model_id": "c88dba6d5f3a40afa0b784f688956dd0",
              "version_major": 2,
              "version_minor": 0
            },
            "text/plain": [
              "train:   0%|          | 0/1 [00:00<?, ?it/s]"
            ]
          },
          "metadata": {},
          "output_type": "display_data"
        },
        {
          "data": {
            "application/vnd.jupyter.widget-view+json": {
              "model_id": "4741d71886784a2ca66a6c6f99b17d2e",
              "version_major": 2,
              "version_minor": 0
            },
            "text/plain": [
              "gather:   0%|          | 0/2 [00:00<?, ?it/s]"
            ]
          },
          "metadata": {},
          "output_type": "display_data"
        },
        {
          "name": "stdout",
          "output_type": "stream",
          "text": [
            "Packed 2 trajectories into 2 sequences of length 2048\n"
          ]
        },
        {
          "data": {
            "application/vnd.jupyter.widget-view+json": {
              "model_id": "963d1585f0fb4af489fb2a9bc6bde233",
              "version_major": 2,
              "version_minor": 0
            },
            "text/plain": [
              "train:   0%|          | 0/2 [00:00<?, ?it/s]"
            ]
          },
          "metadata": {},
          "output_type": "display_data"
        },
        {
          "data": {
            "application/vnd.jupyter.widget-view+json": {
              "model_id": "dc2be26c015e46d2911c14c9b1e41653",
              "version_major": 2,
              "version_minor": 0
            },
            "text/plain": [
              "gather:   0%|          | 0/2 [00:00<?, ?it/s]"
            ]
          },
          "metadata": {},
          "output_type": "display_data"
        },
        {
          "name": "stdout",
          "output_type": "stream",
          "text": [
            "Packed 2 trajectories into 1 sequences of length 2048\n"
          ]
        },
        {
          "data": {
            "application/vnd.jupyter.widget-view+json": {
              "model_id": "3e6806e75ddd4b16a863ca59396ccc3a",
              "version_major": 2,
              "version_minor": 0
            },
            "text/plain": [
              "train:   0%|          | 0/1 [00:00<?, ?it/s]"
            ]
          },
          "metadata": {},
          "output_type": "display_data"
        },
        {
          "data": {
            "application/vnd.jupyter.widget-view+json": {
              "model_id": "b2af8be894da40cf909462746649b509",
              "version_major": 2,
              "version_minor": 0
            },
            "text/plain": [
              "gather:   0%|          | 0/2 [00:00<?, ?it/s]"
            ]
          },
          "metadata": {},
          "output_type": "display_data"
        },
        {
          "name": "stdout",
          "output_type": "stream",
          "text": [
            "Packed 2 trajectories into 2 sequences of length 2048\n"
          ]
        },
        {
          "data": {
            "application/vnd.jupyter.widget-view+json": {
              "model_id": "a6db4fe8f5f84efc9034fab478b24b7d",
              "version_major": 2,
              "version_minor": 0
            },
            "text/plain": [
              "train:   0%|          | 0/2 [00:00<?, ?it/s]"
            ]
          },
          "metadata": {},
          "output_type": "display_data"
        },
        {
          "data": {
            "application/vnd.jupyter.widget-view+json": {
              "model_id": "d0835b7252cb4802a136659141266fe7",
              "version_major": 2,
              "version_minor": 0
            },
            "text/plain": [
              "gather:   0%|          | 0/2 [00:00<?, ?it/s]"
            ]
          },
          "metadata": {},
          "output_type": "display_data"
        },
        {
          "name": "stdout",
          "output_type": "stream",
          "text": [
            "Packed 2 trajectories into 2 sequences of length 2048\n"
          ]
        },
        {
          "data": {
            "application/vnd.jupyter.widget-view+json": {
              "model_id": "9b7d8c71279f4170a5a3dd65289d93d0",
              "version_major": 2,
              "version_minor": 0
            },
            "text/plain": [
              "train:   0%|          | 0/2 [00:00<?, ?it/s]"
            ]
          },
          "metadata": {},
          "output_type": "display_data"
        },
        {
          "data": {
            "application/vnd.jupyter.widget-view+json": {
              "model_id": "b052a216fa6a41efaf5531db7aa9a2f8",
              "version_major": 2,
              "version_minor": 0
            },
            "text/plain": [
              "gather:   0%|          | 0/2 [00:00<?, ?it/s]"
            ]
          },
          "metadata": {},
          "output_type": "display_data"
        },
        {
          "name": "stdout",
          "output_type": "stream",
          "text": [
            "Packed 2 trajectories into 2 sequences of length 2048\n"
          ]
        },
        {
          "data": {
            "application/vnd.jupyter.widget-view+json": {
              "model_id": "9b0bd29219a54bd6bc3a42cf2d5cc476",
              "version_major": 2,
              "version_minor": 0
            },
            "text/plain": [
              "train:   0%|          | 0/2 [00:00<?, ?it/s]"
            ]
          },
          "metadata": {},
          "output_type": "display_data"
        },
        {
          "data": {
            "application/vnd.jupyter.widget-view+json": {
              "model_id": "0fb572ffef984966a4b8fd8cdefaca7b",
              "version_major": 2,
              "version_minor": 0
            },
            "text/plain": [
              "gather:   0%|          | 0/2 [00:00<?, ?it/s]"
            ]
          },
          "metadata": {},
          "output_type": "display_data"
        },
        {
          "name": "stdout",
          "output_type": "stream",
          "text": [
            "Packed 2 trajectories into 1 sequences of length 4096\n"
          ]
        },
        {
          "data": {
            "application/vnd.jupyter.widget-view+json": {
              "model_id": "d6fea6e72ec54e2f83d080652bba44d7",
              "version_major": 2,
              "version_minor": 0
            },
            "text/plain": [
              "train:   0%|          | 0/1 [00:00<?, ?it/s]"
            ]
          },
          "metadata": {},
          "output_type": "display_data"
        },
        {
          "data": {
            "application/vnd.jupyter.widget-view+json": {
              "model_id": "d6bef0043dc74772a57978b5452ca2f9",
              "version_major": 2,
              "version_minor": 0
            },
            "text/plain": [
              "gather:   0%|          | 0/2 [00:00<?, ?it/s]"
            ]
          },
          "metadata": {},
          "output_type": "display_data"
        },
        {
          "name": "stdout",
          "output_type": "stream",
          "text": [
            "Packed 2 trajectories into 2 sequences of length 2048\n"
          ]
        },
        {
          "data": {
            "application/vnd.jupyter.widget-view+json": {
              "model_id": "fcfc326210074680a0b38e51df0d4c79",
              "version_major": 2,
              "version_minor": 0
            },
            "text/plain": [
              "train:   0%|          | 0/2 [00:00<?, ?it/s]"
            ]
          },
          "metadata": {},
          "output_type": "display_data"
        },
        {
          "data": {
            "application/vnd.jupyter.widget-view+json": {
              "model_id": "4b68e87e042a427fbc270a23269317a1",
              "version_major": 2,
              "version_minor": 0
            },
            "text/plain": [
              "gather:   0%|          | 0/2 [00:00<?, ?it/s]"
            ]
          },
          "metadata": {},
          "output_type": "display_data"
        },
        {
          "name": "stdout",
          "output_type": "stream",
          "text": [
            "Packed 2 trajectories into 2 sequences of length 2048\n"
          ]
        },
        {
          "data": {
            "application/vnd.jupyter.widget-view+json": {
              "model_id": "fd4c6e1d4a0f48f1a5ae7dd4fc8b023a",
              "version_major": 2,
              "version_minor": 0
            },
            "text/plain": [
              "train:   0%|          | 0/2 [00:00<?, ?it/s]"
            ]
          },
          "metadata": {},
          "output_type": "display_data"
        },
        {
          "data": {
            "application/vnd.jupyter.widget-view+json": {
              "model_id": "012f6dbbd1584394901c0afb66534384",
              "version_major": 2,
              "version_minor": 0
            },
            "text/plain": [
              "gather:   0%|          | 0/2 [00:00<?, ?it/s]"
            ]
          },
          "metadata": {},
          "output_type": "display_data"
        },
        {
          "name": "stdout",
          "output_type": "stream",
          "text": [
            "Packed 2 trajectories into 2 sequences of length 2048\n"
          ]
        },
        {
          "data": {
            "application/vnd.jupyter.widget-view+json": {
              "model_id": "1c8baf9b6067499183a9c011e3b18dbd",
              "version_major": 2,
              "version_minor": 0
            },
            "text/plain": [
              "train:   0%|          | 0/2 [00:00<?, ?it/s]"
            ]
          },
          "metadata": {},
          "output_type": "display_data"
        },
        {
          "data": {
            "application/vnd.jupyter.widget-view+json": {
              "model_id": "3747d20e65ce4c8bb5fef6c3956f3e31",
              "version_major": 2,
              "version_minor": 0
            },
            "text/plain": [
              "gather:   0%|          | 0/2 [00:00<?, ?it/s]"
            ]
          },
          "metadata": {},
          "output_type": "display_data"
        },
        {
          "name": "stdout",
          "output_type": "stream",
          "text": [
            "Packed 2 trajectories into 2 sequences of length 2048\n"
          ]
        },
        {
          "data": {
            "application/vnd.jupyter.widget-view+json": {
              "model_id": "05b03eb187a848a0a0c1f5dc7eb448d6",
              "version_major": 2,
              "version_minor": 0
            },
            "text/plain": [
              "train:   0%|          | 0/2 [00:00<?, ?it/s]"
            ]
          },
          "metadata": {},
          "output_type": "display_data"
        },
        {
          "data": {
            "application/vnd.jupyter.widget-view+json": {
              "model_id": "f41cbe24048240bd813b943fd1136d39",
              "version_major": 2,
              "version_minor": 0
            },
            "text/plain": [
              "gather:   0%|          | 0/2 [00:00<?, ?it/s]"
            ]
          },
          "metadata": {},
          "output_type": "display_data"
        },
        {
          "name": "stdout",
          "output_type": "stream",
          "text": [
            "Packed 2 trajectories into 2 sequences of length 2048\n"
          ]
        },
        {
          "data": {
            "application/vnd.jupyter.widget-view+json": {
              "model_id": "a39de59c8f9940b1bc8d1cc4c11575e1",
              "version_major": 2,
              "version_minor": 0
            },
            "text/plain": [
              "train:   0%|          | 0/2 [00:00<?, ?it/s]"
            ]
          },
          "metadata": {},
          "output_type": "display_data"
        },
        {
          "data": {
            "application/vnd.jupyter.widget-view+json": {
              "model_id": "27585bc6801a415eacd07f5bd0f41ef7",
              "version_major": 2,
              "version_minor": 0
            },
            "text/plain": [
              "gather:   0%|          | 0/2 [00:00<?, ?it/s]"
            ]
          },
          "metadata": {},
          "output_type": "display_data"
        },
        {
          "name": "stdout",
          "output_type": "stream",
          "text": [
            "Packed 2 trajectories into 1 sequences of length 2048\n"
          ]
        },
        {
          "data": {
            "application/vnd.jupyter.widget-view+json": {
              "model_id": "813be03e5f4940909637ec4b85382635",
              "version_major": 2,
              "version_minor": 0
            },
            "text/plain": [
              "train:   0%|          | 0/1 [00:00<?, ?it/s]"
            ]
          },
          "metadata": {},
          "output_type": "display_data"
        },
        {
          "data": {
            "application/vnd.jupyter.widget-view+json": {
              "model_id": "5ff946f075274fd3b0cdf824c01cdda2",
              "version_major": 2,
              "version_minor": 0
            },
            "text/plain": [
              "gather:   0%|          | 0/2 [00:00<?, ?it/s]"
            ]
          },
          "metadata": {},
          "output_type": "display_data"
        },
        {
          "name": "stdout",
          "output_type": "stream",
          "text": [
            "Packed 2 trajectories into 2 sequences of length 2048\n"
          ]
        },
        {
          "data": {
            "application/vnd.jupyter.widget-view+json": {
              "model_id": "3e26b47a6bee4334aa0333882c3f7dcb",
              "version_major": 2,
              "version_minor": 0
            },
            "text/plain": [
              "train:   0%|          | 0/2 [00:00<?, ?it/s]"
            ]
          },
          "metadata": {},
          "output_type": "display_data"
        },
        {
          "data": {
            "application/vnd.jupyter.widget-view+json": {
              "model_id": "509616c352d14d18acaf04201ebdb386",
              "version_major": 2,
              "version_minor": 0
            },
            "text/plain": [
              "gather:   0%|          | 0/2 [00:00<?, ?it/s]"
            ]
          },
          "metadata": {},
          "output_type": "display_data"
        },
        {
          "name": "stdout",
          "output_type": "stream",
          "text": [
            "Packed 2 trajectories into 2 sequences of length 2048\n"
          ]
        },
        {
          "data": {
            "application/vnd.jupyter.widget-view+json": {
              "model_id": "2b5c3fc6afeb4fb8a26b7c4de8f2308e",
              "version_major": 2,
              "version_minor": 0
            },
            "text/plain": [
              "train:   0%|          | 0/2 [00:00<?, ?it/s]"
            ]
          },
          "metadata": {},
          "output_type": "display_data"
        },
        {
          "data": {
            "application/vnd.jupyter.widget-view+json": {
              "model_id": "9a604c78a89c4315a542d9026b5c7d25",
              "version_major": 2,
              "version_minor": 0
            },
            "text/plain": [
              "gather:   0%|          | 0/2 [00:00<?, ?it/s]"
            ]
          },
          "metadata": {},
          "output_type": "display_data"
        },
        {
          "name": "stdout",
          "output_type": "stream",
          "text": [
            "Packed 2 trajectories into 2 sequences of length 2048\n"
          ]
        },
        {
          "data": {
            "application/vnd.jupyter.widget-view+json": {
              "model_id": "04c654c515184a9bb952d93cf2543557",
              "version_major": 2,
              "version_minor": 0
            },
            "text/plain": [
              "train:   0%|          | 0/2 [00:00<?, ?it/s]"
            ]
          },
          "metadata": {},
          "output_type": "display_data"
        },
        {
          "data": {
            "application/vnd.jupyter.widget-view+json": {
              "model_id": "bdeb1a1d487f4e7cba3ab9f6e422ec59",
              "version_major": 2,
              "version_minor": 0
            },
            "text/plain": [
              "gather:   0%|          | 0/2 [00:00<?, ?it/s]"
            ]
          },
          "metadata": {},
          "output_type": "display_data"
        },
        {
          "name": "stdout",
          "output_type": "stream",
          "text": [
            "Packed 2 trajectories into 2 sequences of length 2048\n"
          ]
        },
        {
          "data": {
            "application/vnd.jupyter.widget-view+json": {
              "model_id": "a9d069972e23419e90649b3c718619ba",
              "version_major": 2,
              "version_minor": 0
            },
            "text/plain": [
              "train:   0%|          | 0/2 [00:00<?, ?it/s]"
            ]
          },
          "metadata": {},
          "output_type": "display_data"
        },
        {
          "data": {
            "application/vnd.jupyter.widget-view+json": {
              "model_id": "863248ed3e644e488a4ddfc9840efb8e",
              "version_major": 2,
              "version_minor": 0
            },
            "text/plain": [
              "gather:   0%|          | 0/2 [00:00<?, ?it/s]"
            ]
          },
          "metadata": {},
          "output_type": "display_data"
        },
        {
          "name": "stdout",
          "output_type": "stream",
          "text": [
            "Packed 2 trajectories into 1 sequences of length 2048\n"
          ]
        },
        {
          "data": {
            "application/vnd.jupyter.widget-view+json": {
              "model_id": "5d4f127a82d2413ca9995f84f3a1022e",
              "version_major": 2,
              "version_minor": 0
            },
            "text/plain": [
              "train:   0%|          | 0/1 [00:00<?, ?it/s]"
            ]
          },
          "metadata": {},
          "output_type": "display_data"
        },
        {
          "data": {
            "application/vnd.jupyter.widget-view+json": {
              "model_id": "b77f4cec7fa244429beaefb4b9a29f76",
              "version_major": 2,
              "version_minor": 0
            },
            "text/plain": [
              "gather:   0%|          | 0/2 [00:00<?, ?it/s]"
            ]
          },
          "metadata": {},
          "output_type": "display_data"
        },
        {
          "name": "stdout",
          "output_type": "stream",
          "text": [
            "Packed 2 trajectories into 2 sequences of length 2048\n"
          ]
        },
        {
          "data": {
            "application/vnd.jupyter.widget-view+json": {
              "model_id": "8854866925bf45ed838289726497e325",
              "version_major": 2,
              "version_minor": 0
            },
            "text/plain": [
              "train:   0%|          | 0/2 [00:00<?, ?it/s]"
            ]
          },
          "metadata": {},
          "output_type": "display_data"
        },
        {
          "data": {
            "application/vnd.jupyter.widget-view+json": {
              "model_id": "2576ad2bd35e49df8ede2b8a158556f8",
              "version_major": 2,
              "version_minor": 0
            },
            "text/plain": [
              "gather:   0%|          | 0/2 [00:00<?, ?it/s]"
            ]
          },
          "metadata": {},
          "output_type": "display_data"
        },
        {
          "name": "stdout",
          "output_type": "stream",
          "text": [
            "Packed 2 trajectories into 2 sequences of length 2048\n"
          ]
        },
        {
          "data": {
            "application/vnd.jupyter.widget-view+json": {
              "model_id": "bb0e5e09783e4b3cbfac7fb36d553f99",
              "version_major": 2,
              "version_minor": 0
            },
            "text/plain": [
              "train:   0%|          | 0/2 [00:00<?, ?it/s]"
            ]
          },
          "metadata": {},
          "output_type": "display_data"
        },
        {
          "data": {
            "application/vnd.jupyter.widget-view+json": {
              "model_id": "12a8237ddf334af5b8b458bc020010cb",
              "version_major": 2,
              "version_minor": 0
            },
            "text/plain": [
              "gather:   0%|          | 0/2 [00:00<?, ?it/s]"
            ]
          },
          "metadata": {},
          "output_type": "display_data"
        },
        {
          "name": "stdout",
          "output_type": "stream",
          "text": [
            "Packed 2 trajectories into 2 sequences of length 2048\n"
          ]
        },
        {
          "data": {
            "application/vnd.jupyter.widget-view+json": {
              "model_id": "974f5c7d009342fa984a695894808824",
              "version_major": 2,
              "version_minor": 0
            },
            "text/plain": [
              "train:   0%|          | 0/2 [00:00<?, ?it/s]"
            ]
          },
          "metadata": {},
          "output_type": "display_data"
        },
        {
          "name": "stderr",
          "output_type": "stream",
          "text": [
            "/root/sky_workdir/.venv/lib/python3.10/site-packages/peft/utils/other.py:1107: UserWarning: Unable to fetch remote file due to the following error 502 Server Error: Bad Gateway for url: https://huggingface.co/unsloth/qwen2.5-3b-instruct-unsloth-bnb-4bit/resolve/main/config.json - silently ignoring the lookup for the file config.json in unsloth/qwen2.5-3b-instruct-unsloth-bnb-4bit.\n",
            "  warnings.warn(\n",
            "/root/sky_workdir/.venv/lib/python3.10/site-packages/peft/utils/save_and_load.py:236: UserWarning: Could not find a config file in unsloth/qwen2.5-3b-instruct-unsloth-bnb-4bit - will assume that the vocabulary was not modified.\n",
            "  warnings.warn(\n"
          ]
        },
        {
          "data": {
            "application/vnd.jupyter.widget-view+json": {
              "model_id": "9a2f6804ebc54a1c9b7cfa615d68bba7",
              "version_major": 2,
              "version_minor": 0
            },
            "text/plain": [
              "gather:   0%|          | 0/2 [00:00<?, ?it/s]"
            ]
          },
          "metadata": {},
          "output_type": "display_data"
        },
        {
          "name": "stdout",
          "output_type": "stream",
          "text": [
            "Packed 2 trajectories into 2 sequences of length 2048\n"
          ]
        },
        {
          "data": {
            "application/vnd.jupyter.widget-view+json": {
              "model_id": "8a8c8d08c33a49999f92422516b226bb",
              "version_major": 2,
              "version_minor": 0
            },
            "text/plain": [
              "train:   0%|          | 0/2 [00:00<?, ?it/s]"
            ]
          },
          "metadata": {},
          "output_type": "display_data"
        },
        {
          "data": {
            "application/vnd.jupyter.widget-view+json": {
              "model_id": "9784cfdd931842ebb27ec11967c6f05c",
              "version_major": 2,
              "version_minor": 0
            },
            "text/plain": [
              "gather:   0%|          | 0/2 [00:00<?, ?it/s]"
            ]
          },
          "metadata": {},
          "output_type": "display_data"
        },
        {
          "name": "stdout",
          "output_type": "stream",
          "text": [
            "Packed 2 trajectories into 2 sequences of length 2048\n"
          ]
        },
        {
          "data": {
            "application/vnd.jupyter.widget-view+json": {
              "model_id": "3a57785b56dc490d8de0768a50150df3",
              "version_major": 2,
              "version_minor": 0
            },
            "text/plain": [
              "train:   0%|          | 0/2 [00:00<?, ?it/s]"
            ]
          },
          "metadata": {},
          "output_type": "display_data"
        },
        {
          "data": {
            "application/vnd.jupyter.widget-view+json": {
              "model_id": "e1c81459de944e32bc947f30f62e458d",
              "version_major": 2,
              "version_minor": 0
            },
            "text/plain": [
              "gather:   0%|          | 0/2 [00:00<?, ?it/s]"
            ]
          },
          "metadata": {},
          "output_type": "display_data"
        },
        {
          "name": "stdout",
          "output_type": "stream",
          "text": [
            "Packed 2 trajectories into 2 sequences of length 2048\n"
          ]
        },
        {
          "data": {
            "application/vnd.jupyter.widget-view+json": {
              "model_id": "dde817ba5f9a42c2a24b278d7c37f3fb",
              "version_major": 2,
              "version_minor": 0
            },
            "text/plain": [
              "train:   0%|          | 0/2 [00:00<?, ?it/s]"
            ]
          },
          "metadata": {},
          "output_type": "display_data"
        },
        {
          "data": {
            "application/vnd.jupyter.widget-view+json": {
              "model_id": "6b9d635507464207bc19f3715d46f4f5",
              "version_major": 2,
              "version_minor": 0
            },
            "text/plain": [
              "gather:   0%|          | 0/2 [00:00<?, ?it/s]"
            ]
          },
          "metadata": {},
          "output_type": "display_data"
        },
        {
          "name": "stdout",
          "output_type": "stream",
          "text": [
            "Packed 2 trajectories into 2 sequences of length 2048\n"
          ]
        },
        {
          "data": {
            "application/vnd.jupyter.widget-view+json": {
              "model_id": "86cdda6f669c42fea715ff5c2b9b242d",
              "version_major": 2,
              "version_minor": 0
            },
            "text/plain": [
              "train:   0%|          | 0/2 [00:00<?, ?it/s]"
            ]
          },
          "metadata": {},
          "output_type": "display_data"
        },
        {
          "data": {
            "application/vnd.jupyter.widget-view+json": {
              "model_id": "3878911645ac41f0bc20123e970e0984",
              "version_major": 2,
              "version_minor": 0
            },
            "text/plain": [
              "gather:   0%|          | 0/2 [00:00<?, ?it/s]"
            ]
          },
          "metadata": {},
          "output_type": "display_data"
        },
        {
          "name": "stdout",
          "output_type": "stream",
          "text": [
            "Packed 2 trajectories into 2 sequences of length 2048\n"
          ]
        },
        {
          "data": {
            "application/vnd.jupyter.widget-view+json": {
              "model_id": "95a9b6c7968d4ee7a0b06ffc7670b659",
              "version_major": 2,
              "version_minor": 0
            },
            "text/plain": [
              "train:   0%|          | 0/2 [00:00<?, ?it/s]"
            ]
          },
          "metadata": {},
          "output_type": "display_data"
        },
        {
          "data": {
            "application/vnd.jupyter.widget-view+json": {
              "model_id": "14c13007f2184f6fb6cf032b0dc5a20b",
              "version_major": 2,
              "version_minor": 0
            },
            "text/plain": [
              "gather:   0%|          | 0/2 [00:00<?, ?it/s]"
            ]
          },
          "metadata": {},
          "output_type": "display_data"
        },
        {
          "name": "stdout",
          "output_type": "stream",
          "text": [
            "Packed 2 trajectories into 2 sequences of length 2048\n"
          ]
        },
        {
          "data": {
            "application/vnd.jupyter.widget-view+json": {
              "model_id": "23b706eb76174bd99a10168f58db5af3",
              "version_major": 2,
              "version_minor": 0
            },
            "text/plain": [
              "train:   0%|          | 0/2 [00:00<?, ?it/s]"
            ]
          },
          "metadata": {},
          "output_type": "display_data"
        },
        {
          "data": {
            "application/vnd.jupyter.widget-view+json": {
              "model_id": "7381d3209bd34f5f858e15e33cc94340",
              "version_major": 2,
              "version_minor": 0
            },
            "text/plain": [
              "gather:   0%|          | 0/2 [00:00<?, ?it/s]"
            ]
          },
          "metadata": {},
          "output_type": "display_data"
        },
        {
          "name": "stdout",
          "output_type": "stream",
          "text": [
            "Packed 2 trajectories into 2 sequences of length 2048\n"
          ]
        },
        {
          "data": {
            "application/vnd.jupyter.widget-view+json": {
              "model_id": "23b5a200f01644f4b22216391b3d1c69",
              "version_major": 2,
              "version_minor": 0
            },
            "text/plain": [
              "train:   0%|          | 0/2 [00:00<?, ?it/s]"
            ]
          },
          "metadata": {},
          "output_type": "display_data"
        },
        {
          "data": {
            "application/vnd.jupyter.widget-view+json": {
              "model_id": "ca1e2b63daae4f70b8e9500033fd6bfe",
              "version_major": 2,
              "version_minor": 0
            },
            "text/plain": [
              "gather:   0%|          | 0/2 [00:00<?, ?it/s]"
            ]
          },
          "metadata": {},
          "output_type": "display_data"
        },
        {
          "name": "stdout",
          "output_type": "stream",
          "text": [
            "Packed 2 trajectories into 2 sequences of length 2048\n"
          ]
        },
        {
          "data": {
            "application/vnd.jupyter.widget-view+json": {
              "model_id": "200fe0044f1748279646cdcf73093944",
              "version_major": 2,
              "version_minor": 0
            },
            "text/plain": [
              "train:   0%|          | 0/2 [00:00<?, ?it/s]"
            ]
          },
          "metadata": {},
          "output_type": "display_data"
        },
        {
          "data": {
            "application/vnd.jupyter.widget-view+json": {
              "model_id": "0ce4cefd35be4905b9c7f237b84ce9e7",
              "version_major": 2,
              "version_minor": 0
            },
            "text/plain": [
              "gather:   0%|          | 0/2 [00:00<?, ?it/s]"
            ]
          },
          "metadata": {},
          "output_type": "display_data"
        },
        {
          "name": "stdout",
          "output_type": "stream",
          "text": [
            "Packed 2 trajectories into 2 sequences of length 2048\n"
          ]
        },
        {
          "data": {
            "application/vnd.jupyter.widget-view+json": {
              "model_id": "e53c16e389bb455d9addfd14a4590981",
              "version_major": 2,
              "version_minor": 0
            },
            "text/plain": [
              "train:   0%|          | 0/2 [00:00<?, ?it/s]"
            ]
          },
          "metadata": {},
          "output_type": "display_data"
        },
        {
          "data": {
            "application/vnd.jupyter.widget-view+json": {
              "model_id": "199cb4649bf3430c940d7f629789c44d",
              "version_major": 2,
              "version_minor": 0
            },
            "text/plain": [
              "gather:   0%|          | 0/2 [00:00<?, ?it/s]"
            ]
          },
          "metadata": {},
          "output_type": "display_data"
        },
        {
          "name": "stdout",
          "output_type": "stream",
          "text": [
            "Packed 2 trajectories into 1 sequences of length 2048\n"
          ]
        },
        {
          "data": {
            "application/vnd.jupyter.widget-view+json": {
              "model_id": "65d91854fba349e7be6469256f8d2cec",
              "version_major": 2,
              "version_minor": 0
            },
            "text/plain": [
              "train:   0%|          | 0/1 [00:00<?, ?it/s]"
            ]
          },
          "metadata": {},
          "output_type": "display_data"
        },
        {
          "data": {
            "application/vnd.jupyter.widget-view+json": {
              "model_id": "5c5f057b274f4b7285c3d8b5784fc8bb",
              "version_major": 2,
              "version_minor": 0
            },
            "text/plain": [
              "gather:   0%|          | 0/2 [00:00<?, ?it/s]"
            ]
          },
          "metadata": {},
          "output_type": "display_data"
        },
        {
          "name": "stdout",
          "output_type": "stream",
          "text": [
            "Packed 2 trajectories into 1 sequences of length 2048\n"
          ]
        },
        {
          "data": {
            "application/vnd.jupyter.widget-view+json": {
              "model_id": "996d7cbd7e214799a2e7e73dfa7f5e65",
              "version_major": 2,
              "version_minor": 0
            },
            "text/plain": [
              "train:   0%|          | 0/1 [00:00<?, ?it/s]"
            ]
          },
          "metadata": {},
          "output_type": "display_data"
        },
        {
          "data": {
            "application/vnd.jupyter.widget-view+json": {
              "model_id": "afde618d5559499ab295ece3be3c51e9",
              "version_major": 2,
              "version_minor": 0
            },
            "text/plain": [
              "gather:   0%|          | 0/2 [00:00<?, ?it/s]"
            ]
          },
          "metadata": {},
          "output_type": "display_data"
        },
        {
          "name": "stdout",
          "output_type": "stream",
          "text": [
            "Packed 2 trajectories into 2 sequences of length 2048\n"
          ]
        },
        {
          "data": {
            "application/vnd.jupyter.widget-view+json": {
              "model_id": "bec1bafb0fb64a6f878c12a4e7620ff6",
              "version_major": 2,
              "version_minor": 0
            },
            "text/plain": [
              "train:   0%|          | 0/2 [00:00<?, ?it/s]"
            ]
          },
          "metadata": {},
          "output_type": "display_data"
        },
        {
          "data": {
            "application/vnd.jupyter.widget-view+json": {
              "model_id": "454b4e878e2e4dca8d10b2a43cc8249d",
              "version_major": 2,
              "version_minor": 0
            },
            "text/plain": [
              "gather:   0%|          | 0/2 [00:00<?, ?it/s]"
            ]
          },
          "metadata": {},
          "output_type": "display_data"
        },
        {
          "name": "stdout",
          "output_type": "stream",
          "text": [
            "Packed 2 trajectories into 1 sequences of length 2048\n"
          ]
        },
        {
          "data": {
            "application/vnd.jupyter.widget-view+json": {
              "model_id": "c1d5c44aab2149b7aa45353302983d11",
              "version_major": 2,
              "version_minor": 0
            },
            "text/plain": [
              "train:   0%|          | 0/1 [00:00<?, ?it/s]"
            ]
          },
          "metadata": {},
          "output_type": "display_data"
        },
        {
          "data": {
            "application/vnd.jupyter.widget-view+json": {
              "model_id": "8f166f840f5d49179956e66c45d366d3",
              "version_major": 2,
              "version_minor": 0
            },
            "text/plain": [
              "gather:   0%|          | 0/2 [00:00<?, ?it/s]"
            ]
          },
          "metadata": {},
          "output_type": "display_data"
        },
        {
          "name": "stdout",
          "output_type": "stream",
          "text": [
            "Packed 2 trajectories into 2 sequences of length 2048\n"
          ]
        },
        {
          "data": {
            "application/vnd.jupyter.widget-view+json": {
              "model_id": "0c0769b18c784ca79b8c234013cd49bb",
              "version_major": 2,
              "version_minor": 0
            },
            "text/plain": [
              "train:   0%|          | 0/2 [00:00<?, ?it/s]"
            ]
          },
          "metadata": {},
          "output_type": "display_data"
        },
        {
          "data": {
            "application/vnd.jupyter.widget-view+json": {
              "model_id": "f6c77cc38b4e4e7084ae245779bb12a4",
              "version_major": 2,
              "version_minor": 0
            },
            "text/plain": [
              "gather:   0%|          | 0/2 [00:00<?, ?it/s]"
            ]
          },
          "metadata": {},
          "output_type": "display_data"
        },
        {
          "name": "stdout",
          "output_type": "stream",
          "text": [
            "Packed 2 trajectories into 2 sequences of length 2048\n"
          ]
        },
        {
          "data": {
            "application/vnd.jupyter.widget-view+json": {
              "model_id": "a135a067fbb042a28f14edb41343363f",
              "version_major": 2,
              "version_minor": 0
            },
            "text/plain": [
              "train:   0%|          | 0/2 [00:00<?, ?it/s]"
            ]
          },
          "metadata": {},
          "output_type": "display_data"
        },
        {
          "data": {
            "application/vnd.jupyter.widget-view+json": {
              "model_id": "f3afc1fe5d5c4e948958d6630c596620",
              "version_major": 2,
              "version_minor": 0
            },
            "text/plain": [
              "gather:   0%|          | 0/2 [00:00<?, ?it/s]"
            ]
          },
          "metadata": {},
          "output_type": "display_data"
        },
        {
          "name": "stdout",
          "output_type": "stream",
          "text": [
            "Packed 2 trajectories into 2 sequences of length 2048\n"
          ]
        },
        {
          "data": {
            "application/vnd.jupyter.widget-view+json": {
              "model_id": "d492cbda0e17475db9d07c87187b3393",
              "version_major": 2,
              "version_minor": 0
            },
            "text/plain": [
              "train:   0%|          | 0/2 [00:00<?, ?it/s]"
            ]
          },
          "metadata": {},
          "output_type": "display_data"
        },
        {
          "data": {
            "application/vnd.jupyter.widget-view+json": {
              "model_id": "fa9c1500c38c463ebb3dca2f1008ea5e",
              "version_major": 2,
              "version_minor": 0
            },
            "text/plain": [
              "gather:   0%|          | 0/2 [00:00<?, ?it/s]"
            ]
          },
          "metadata": {},
          "output_type": "display_data"
        },
        {
          "name": "stdout",
          "output_type": "stream",
          "text": [
            "Packed 2 trajectories into 1 sequences of length 2048\n"
          ]
        },
        {
          "data": {
            "application/vnd.jupyter.widget-view+json": {
              "model_id": "10deea8961ae4e92aa31ad6a48122f8b",
              "version_major": 2,
              "version_minor": 0
            },
            "text/plain": [
              "train:   0%|          | 0/1 [00:00<?, ?it/s]"
            ]
          },
          "metadata": {},
          "output_type": "display_data"
        },
        {
          "data": {
            "application/vnd.jupyter.widget-view+json": {
              "model_id": "9f0072d49b7048c3af449ec50b121059",
              "version_major": 2,
              "version_minor": 0
            },
            "text/plain": [
              "gather:   0%|          | 0/2 [00:00<?, ?it/s]"
            ]
          },
          "metadata": {},
          "output_type": "display_data"
        },
        {
          "name": "stdout",
          "output_type": "stream",
          "text": [
            "Packed 2 trajectories into 2 sequences of length 2048\n"
          ]
        },
        {
          "data": {
            "application/vnd.jupyter.widget-view+json": {
              "model_id": "a2699a02e470420985e055b720038456",
              "version_major": 2,
              "version_minor": 0
            },
            "text/plain": [
              "train:   0%|          | 0/2 [00:00<?, ?it/s]"
            ]
          },
          "metadata": {},
          "output_type": "display_data"
        },
        {
          "data": {
            "application/vnd.jupyter.widget-view+json": {
              "model_id": "bade11d429654bfd93db85d6a088294a",
              "version_major": 2,
              "version_minor": 0
            },
            "text/plain": [
              "gather:   0%|          | 0/2 [00:00<?, ?it/s]"
            ]
          },
          "metadata": {},
          "output_type": "display_data"
        },
        {
          "name": "stdout",
          "output_type": "stream",
          "text": [
            "Packed 2 trajectories into 1 sequences of length 2048\n"
          ]
        },
        {
          "data": {
            "application/vnd.jupyter.widget-view+json": {
              "model_id": "86f91183c2d34827b9924296bc85aa41",
              "version_major": 2,
              "version_minor": 0
            },
            "text/plain": [
              "train:   0%|          | 0/1 [00:00<?, ?it/s]"
            ]
          },
          "metadata": {},
          "output_type": "display_data"
        },
        {
          "data": {
            "application/vnd.jupyter.widget-view+json": {
              "model_id": "ba0cd1305d164c32ad007a2f01f47ee2",
              "version_major": 2,
              "version_minor": 0
            },
            "text/plain": [
              "gather:   0%|          | 0/2 [00:00<?, ?it/s]"
            ]
          },
          "metadata": {},
          "output_type": "display_data"
        },
        {
          "name": "stdout",
          "output_type": "stream",
          "text": [
            "Packed 2 trajectories into 2 sequences of length 2048\n"
          ]
        },
        {
          "data": {
            "application/vnd.jupyter.widget-view+json": {
              "model_id": "88bcdd69d748452fb2dbf0ecfba21e8b",
              "version_major": 2,
              "version_minor": 0
            },
            "text/plain": [
              "train:   0%|          | 0/2 [00:00<?, ?it/s]"
            ]
          },
          "metadata": {},
          "output_type": "display_data"
        },
        {
          "data": {
            "application/vnd.jupyter.widget-view+json": {
              "model_id": "ad35db80c2e64e60be897695c09a1d53",
              "version_major": 2,
              "version_minor": 0
            },
            "text/plain": [
              "gather:   0%|          | 0/2 [00:00<?, ?it/s]"
            ]
          },
          "metadata": {},
          "output_type": "display_data"
        },
        {
          "name": "stdout",
          "output_type": "stream",
          "text": [
            "caught exception generating chat completion Connection error.\n"
          ]
        },
        {
          "ename": "CancelledError",
          "evalue": "",
          "output_type": "error",
          "traceback": [
            "\u001b[0;31m---------------------------------------------------------------------------\u001b[0m",
            "\u001b[0;31mCancelledError\u001b[0m                            Traceback (most recent call last)",
            "Cell \u001b[0;32mIn[8], line 3\u001b[0m\n\u001b[1;32m      1\u001b[0m openai_client \u001b[38;5;241m=\u001b[39m model\u001b[38;5;241m.\u001b[39mopenai_client()\n\u001b[1;32m      2\u001b[0m \u001b[38;5;28;01mfor\u001b[39;00m i \u001b[38;5;129;01min\u001b[39;00m \u001b[38;5;28mrange\u001b[39m(\u001b[38;5;28;01mawait\u001b[39;00m model\u001b[38;5;241m.\u001b[39mget_step(), \u001b[38;5;241m500\u001b[39m):\n\u001b[0;32m----> 3\u001b[0m     train_groups \u001b[38;5;241m=\u001b[39m \u001b[38;5;28;01mawait\u001b[39;00m art\u001b[38;5;241m.\u001b[39mgather_trajectory_groups(\n\u001b[1;32m      4\u001b[0m         (\n\u001b[1;32m      5\u001b[0m             art\u001b[38;5;241m.\u001b[39mTrajectoryGroup(\n\u001b[1;32m      6\u001b[0m                 rollout(openai_client, i, is_validation\u001b[38;5;241m=\u001b[39m\u001b[38;5;28;01mFalse\u001b[39;00m) \u001b[38;5;28;01mfor\u001b[39;00m _ \u001b[38;5;129;01min\u001b[39;00m \u001b[38;5;28mrange\u001b[39m(\u001b[38;5;241m2\u001b[39m)\n\u001b[1;32m      7\u001b[0m             )\n\u001b[1;32m      8\u001b[0m             \u001b[38;5;28;01mfor\u001b[39;00m _ \u001b[38;5;129;01min\u001b[39;00m \u001b[38;5;28mrange\u001b[39m(\u001b[38;5;241m1\u001b[39m)\n\u001b[1;32m      9\u001b[0m         ),\n\u001b[1;32m     10\u001b[0m         pbar_desc\u001b[38;5;241m=\u001b[39m\u001b[38;5;124m\"\u001b[39m\u001b[38;5;124mgather\u001b[39m\u001b[38;5;124m\"\u001b[39m,\n\u001b[1;32m     11\u001b[0m         max_exceptions\u001b[38;5;241m=\u001b[39m\u001b[38;5;241m18\u001b[39m,\n\u001b[1;32m     12\u001b[0m     )\n\u001b[1;32m     13\u001b[0m     \u001b[38;5;66;03m# await model.delete_checkpoints()\u001b[39;00m\n\u001b[1;32m     14\u001b[0m     \u001b[38;5;28;01mawait\u001b[39;00m model\u001b[38;5;241m.\u001b[39mtrain(\n\u001b[1;32m     15\u001b[0m         train_groups,\n\u001b[1;32m     16\u001b[0m         config\u001b[38;5;241m=\u001b[39mart\u001b[38;5;241m.\u001b[39mTrainConfig(learning_rate\u001b[38;5;241m=\u001b[39m\u001b[38;5;241m3e-5\u001b[39m),\n\u001b[0;32m   (...)\u001b[0m\n\u001b[1;32m     19\u001b[0m         _config\u001b[38;5;241m=\u001b[39m{\u001b[38;5;124m\"\u001b[39m\u001b[38;5;124mlogprob_calculation_chunk_size\u001b[39m\u001b[38;5;124m\"\u001b[39m: \u001b[38;5;241m8\u001b[39m},\n\u001b[1;32m     20\u001b[0m     )\n",
            "File \u001b[0;32m~/sky_workdir/src/art/gather.py:30\u001b[0m, in \u001b[0;36mgather_trajectory_groups\u001b[0;34m(groups, pbar_desc, pbar_total_completion_tokens, max_exceptions)\u001b[0m\n\u001b[1;32m     28\u001b[0m     total \u001b[38;5;241m=\u001b[39m \u001b[38;5;28msum\u001b[39m(\u001b[38;5;28mgetattr\u001b[39m(g, \u001b[38;5;124m\"\u001b[39m\u001b[38;5;124m_num_trajectories\u001b[39m\u001b[38;5;124m\"\u001b[39m, \u001b[38;5;241m1\u001b[39m) \u001b[38;5;28;01mfor\u001b[39;00m g \u001b[38;5;129;01min\u001b[39;00m groups)\n\u001b[1;32m     29\u001b[0m     context\u001b[38;5;241m.\u001b[39mpbar \u001b[38;5;241m=\u001b[39m tqdm\u001b[38;5;241m.\u001b[39mtqdm(desc\u001b[38;5;241m=\u001b[39mpbar_desc, total\u001b[38;5;241m=\u001b[39mtotal)\n\u001b[0;32m---> 30\u001b[0m     result_groups \u001b[38;5;241m=\u001b[39m \u001b[38;5;28;01mawait\u001b[39;00m future\n\u001b[1;32m     31\u001b[0m \u001b[38;5;28;01mif\u001b[39;00m context\u001b[38;5;241m.\u001b[39mpbar \u001b[38;5;129;01mis\u001b[39;00m \u001b[38;5;129;01mnot\u001b[39;00m \u001b[38;5;28;01mNone\u001b[39;00m:\n\u001b[1;32m     32\u001b[0m     context\u001b[38;5;241m.\u001b[39mpbar\u001b[38;5;241m.\u001b[39mclose()\n",
            "File \u001b[0;32m~/miniconda3/lib/python3.10/asyncio/tasks.py:304\u001b[0m, in \u001b[0;36mTask.__wakeup\u001b[0;34m(self, future)\u001b[0m\n\u001b[1;32m    302\u001b[0m \u001b[38;5;28;01mdef\u001b[39;00m\u001b[38;5;250m \u001b[39m\u001b[38;5;21m__wakeup\u001b[39m(\u001b[38;5;28mself\u001b[39m, future):\n\u001b[1;32m    303\u001b[0m     \u001b[38;5;28;01mtry\u001b[39;00m:\n\u001b[0;32m--> 304\u001b[0m         \u001b[43mfuture\u001b[49m\u001b[38;5;241;43m.\u001b[39;49m\u001b[43mresult\u001b[49m\u001b[43m(\u001b[49m\u001b[43m)\u001b[49m\n\u001b[1;32m    305\u001b[0m     \u001b[38;5;28;01mexcept\u001b[39;00m \u001b[38;5;167;01mBaseException\u001b[39;00m \u001b[38;5;28;01mas\u001b[39;00m exc:\n\u001b[1;32m    306\u001b[0m         \u001b[38;5;66;03m# This may also be a cancellation.\u001b[39;00m\n\u001b[1;32m    307\u001b[0m         \u001b[38;5;28mself\u001b[39m\u001b[38;5;241m.\u001b[39m__step(exc)\n",
            "\u001b[0;31mCancelledError\u001b[0m: "
          ]
        },
        {
          "name": "stdout",
          "output_type": "stream",
          "text": [
            "caught exception generating chat completion Connection error.\n"
          ]
        }
      ],
      "source": [
        "openai_client = model.openai_client()\n",
        "for i in range(await model.get_step(), 500):\n",
        "    train_groups = await art.gather_trajectory_groups(\n",
        "        (\n",
        "            art.TrajectoryGroup(\n",
        "                rollout(openai_client, i, is_validation=False) for _ in range(2)\n",
        "            )\n",
        "            for _ in range(1)\n",
        "        ),\n",
        "        pbar_desc=\"gather\",\n",
        "        max_exceptions=18,\n",
        "    )\n",
        "    # await model.delete_checkpoints()\n",
        "    await model.train(\n",
        "        train_groups,\n",
        "        config=art.TrainConfig(learning_rate=3e-5),\n",
        "        # Lowering the logprob_calculation_chunk_size is a memory saving measure\n",
        "        # to allow longer sequences (up to 4096 tokens) to be processed on a T4.\n",
        "        _config={\"logprob_calculation_chunk_size\": 8},\n",
        "    )"
      ]
    },
    {
      "cell_type": "markdown",
      "metadata": {},
      "source": [
        "### Using the Model\n",
        "\n",
        "Just like that, you've trained an agent to play 2048! Now it's time to use your model outside of ART, in the wild! The easiest way to do that is to load it from disk, where it was saved after each training iteration, and either run inference on it locally or upload it to a central hub like HuggingFace.\n",
        "\n",
        "Check out the code below for small demo of the model you just trained playing 2048!"
      ]
    },
    {
      "cell_type": "code",
      "execution_count": 20,
      "metadata": {},
      "outputs": [
        {
          "name": "stdout",
          "output_type": "stream",
          "text": [
            "loading model from .art/2048-multi-turn/models/004/0010\n",
            "\n",
            "==((====))==  Unsloth 2025.3.19: Fast Qwen2 patching. Transformers: 4.51.1. vLLM: 0.7.3.\n",
            "   \\\\   /|    NVIDIA H100 PCIe. Num GPUs = 1. Max memory: 79.097 GB. Platform: Linux.\n",
            "O^O/ \\_/ \\    Torch: 2.5.1+cu124. CUDA: 9.0. CUDA Toolkit: 12.4. Triton: 3.1.0\n",
            "\\        /    Bfloat16 = TRUE. FA [Xformers = 0.0.29.post1. FA2 = False]\n",
            " \"-____-\"     Free license: http://github.com/unslothai/unsloth\n",
            "Unsloth: Fast downloading is enabled - ignore downloading bars which are red colored!\n"
          ]
        },
        {
          "name": "stdout",
          "output_type": "stream",
          "text": [
            "\n",
            "move 10\n",
            "board:\n",
            "_|_|_|_\n",
            "2|_|_|_\n",
            "_|_|_|4\n",
            "4|4|8|4\n",
            "\n",
            "agent move: <move>left</move>\n",
            "updated board:\n",
            "_|_|2|_\n",
            "2|_|_|_\n",
            "4|_|_|_\n",
            "8|8|4|_\n",
            "\n",
            "\n",
            "move 20\n",
            "board:\n",
            " _| 2| _| _\n",
            " _| _| _| _\n",
            " 2| _| _| _\n",
            " 8|32| _| 2\n",
            "\n",
            "agent move: <move>right</move>\n",
            "updated board:\n",
            " _| 2| _| 2\n",
            " _| _| _| _\n",
            " _| _| _| 2\n",
            " _| 8|32| 2\n",
            "\n",
            "\n",
            "move 30\n",
            "board:\n",
            " _| _| _| _\n",
            " 2| _| _| 4\n",
            " _| 2| 4| 2\n",
            " 8|32| 8| 4\n",
            "\n",
            "agent move: <move>left</move>\n",
            "updated board:\n",
            " _| 2| _| _\n",
            " 2| 4| _| _\n",
            " 2| 4| 2| _\n",
            " 8|32| 8| 4\n",
            "\n",
            "\n",
            "move 40\n",
            "board:\n",
            " 2| _| _| _\n",
            " 8| _| 2| _\n",
            " 4| 8| 2| 2\n",
            " 8|32|16| 4\n",
            "\n",
            "agent move: <move>right</move>\n",
            "updated board:\n",
            " _| _| _| 2\n",
            " _| _| 8| 2\n",
            " 2| 4| 8| 4\n",
            " 8|32|16| 4\n",
            "\n",
            "\n",
            "move 50\n",
            "board:\n",
            " _| _| 2| _\n",
            " _| _| _| 2\n",
            " 2| 2| 4| 4\n",
            "16|64| 8| 4\n",
            "\n",
            "agent move: <move>left</move>\n",
            "updated board:\n",
            " 2| _| _| _\n",
            " 2| _| _| 2\n",
            " 4| 8| _| _\n",
            "16|64| 8| 4\n",
            "\n",
            "\n",
            "move 60\n",
            "board:\n",
            " _| _| _| _\n",
            " _| _| 2| 2\n",
            " 4| 4| 8| 4\n",
            "16|64|16| 8\n",
            "\n",
            "agent move: <move>right</move>\n",
            "updated board:\n",
            " _| _| _| _\n",
            " _| _| 2| 4\n",
            " _| 8| 8| 4\n",
            "16|64|16| 8\n",
            "\n",
            "\n",
            "move 70\n",
            "board:\n",
            " _| _| _| _\n",
            " _| 2| _| _\n",
            " _| 2| 8| 8\n",
            " 2|32|64|32\n",
            "\n",
            "agent move: <move>left</move>\n",
            "updated board:\n",
            " _| 2| _| _\n",
            " 2| _| _| _\n",
            " 2|16| _| _\n",
            " 2|32|64|32\n",
            "\n",
            "\n",
            "move 80\n",
            "board:\n",
            " _| 2| _| _\n",
            " 4| 2| _| _\n",
            " 8|16| 8| 2\n",
            " 4|32|64|32\n",
            "\n",
            "agent move: <move>right</move>\n",
            "updated board:\n",
            " _| 4| _| 2\n",
            " _| _| 4| 2\n",
            " 8|16| 8| 2\n",
            " 4|32|64|32\n",
            "\n",
            "game finished in 88 moves\n",
            "game won! 💪\n",
            "final board:\n",
            "\n",
            "  _|  _|  _|  2\n",
            "  2|  _|  4|  4\n",
            "  _|  8|  8|  2\n",
            "  _|  4|128| 32\n",
            "\n",
            "max value: 128\n",
            "board value: 194\n"
          ]
        }
      ],
      "source": [
        "import torch\n",
        "from unsloth import FastLanguageModel\n",
        "\n",
        "\n",
        "# example: .art/2048-multi-turn/models/001/0003\n",
        "lora_model_path = f\".art/{model.project}/models/{model.name}/{await model.get_step():04d}\"\n",
        "\n",
        "print(f\"loading model from {lora_model_path}\\n\")\n",
        "\n",
        "peft_model, tokenizer = FastLanguageModel.from_pretrained(\n",
        "    model_name = lora_model_path,\n",
        "    max_seq_length = 16384,\n",
        "    dtype = torch.bfloat16,\n",
        "    load_in_4bit = True,\n",
        ")\n",
        "FastLanguageModel.for_inference(peft_model)\n",
        "\n",
        "game = generate_game()\n",
        "move_number = 0\n",
        "\n",
        "messages = [\n",
        "    {\"role\": \"system\", \"content\": \"You are an excellent 2048 player. Always choose the move most likely to lead to combine cells to eventually reach the number 2048. Optional moves are 'left', 'right', 'up', 'down'. Return your move as an XML object with a single property 'move', like so: <move>left</move>\"},\n",
        "]\n",
        "\n",
        "while not check_game_finished(game):\n",
        "    rendered_board = render_board(game)\n",
        "    messages.append({\"role\": \"user\", \"content\": rendered_board})\n",
        "\n",
        "\n",
        "    inputs = tokenizer.apply_chat_template(messages, return_tensors=\"pt\", add_generation_prompt=True).to(\"cuda\")\n",
        "\n",
        "    content = \"\"\n",
        "\n",
        "    def get_completion() -> str:\n",
        "        with torch.no_grad():\n",
        "            outputs = peft_model.generate(\n",
        "                input_ids=inputs,\n",
        "                max_new_tokens=100,\n",
        "                do_sample=True,\n",
        "                temperature=0.7,\n",
        "                top_p=0.9\n",
        "            )\n",
        "            return tokenizer.decode(outputs[0][inputs.shape[1]:], skip_special_tokens=True)\n",
        "\n",
        "    try:\n",
        "        content = get_completion()\n",
        "    except Exception as e:\n",
        "        print(\"caught exception generating chat completion\", e)\n",
        "        raise e\n",
        "\n",
        "    messages.append({\"role\": \"assistant\", \"content\": content})\n",
        "    \n",
        "\n",
        "    try:\n",
        "        apply_agent_move(game, content)\n",
        "        move_number += 1\n",
        "    except ValueError:\n",
        "        raise ValueError(f\"Invalid move on move {move_number}: {content}\")\n",
        "\n",
        "    # print the board every 10 moves\n",
        "    if (move_number % 10 == 0):\n",
        "        print(f\"\\nmove {move_number}\")\n",
        "        print(f\"board:\\n{rendered_board}\")\n",
        "        print(f\"agent move: {content}\")\n",
        "        print(f\"updated board:\\n{render_board(game)}\")\n",
        "\n",
        "        \n",
        "\n",
        "print(f\"game finished in {move_number} moves\")\n",
        "\n",
        "max_value = max_cell_value(game)\n",
        "board_value = total_board_value(game)\n",
        "\n",
        "if max_value >= WINNING_VALUE:\n",
        "    print(f\"game won! 💪\")\n",
        "else:\n",
        "    print(f\"game lost! 😢\")\n",
        "\n",
        "\n",
        "print(f\"final board:\\n\\n{render_board(game)}\")\n",
        "print(f\"max value: {max_value}\")\n",
        "print(f\"board value: {board_value}\")"
      ]
    },
    {
      "cell_type": "markdown",
      "metadata": {},
      "source": [
        "<div class=\"align-center\">\n",
        "<a href=\"https://github.com/openpipe/art\"><img src=\"https://github.com/openpipe/art/raw/notebooks/assets/ART_pill.png\" height=\"50\"></a>\n",
        "<a href=\"https://discord.com/invite/dnseNZuQ\"><img src=\"https://github.com/openpipe/art/raw/notebooks/assets/Discord_pill.png\" height=\"50\"></a>\n",
        "<a href=\"https://openpipe.ai/blog/art-trainer-a-new-rl-trainer-for-agents\"><img src=\"https://github.com/openpipe/art/raw/main/assets/Launch_pill.png\" height=\"50\"></a>\n",
        "\n",
        "\n",
        "Questions? Join the Discord and ask away! For feature requests or to leave a star, visit our [Github](https://github.com/openpipe/art).\n",
        "</div>\n"
      ]
    }
  ],
  "metadata": {
    "kernelspec": {
      "display_name": ".venv",
      "language": "python",
      "name": "python3"
    },
    "language_info": {
      "codemirror_mode": {
        "name": "ipython",
        "version": 3
      },
      "file_extension": ".py",
      "mimetype": "text/x-python",
      "name": "python",
      "nbconvert_exporter": "python",
      "pygments_lexer": "ipython3",
      "version": "3.10.13"
    }
  },
  "nbformat": 4,
  "nbformat_minor": 2
}
