{
 "cells": [
  {
   "cell_type": "code",
   "execution_count": 1,
   "metadata": {},
   "outputs": [],
   "source": [
    "import art\n",
    "from art.local import LocalAPI\n",
    "from dotenv import load_dotenv\n",
    "from openpipe.client import AsyncOpenPipe\n",
    "import random\n",
    "\n",
    "from rollout import rollout\n",
    "\n",
    "load_dotenv()\n",
    "\n",
    "random.seed(42)\n",
    "\n",
    "# Initialize the server\n",
    "api = LocalAPI()"
   ]
  },
  {
   "cell_type": "code",
   "execution_count": null,
   "metadata": {},
   "outputs": [
    {
     "name": "stderr",
     "output_type": "stream",
     "text": [
      "/root/sky_workdir/src/art/__init__.py:11: UserWarning: WARNING: Unsloth should be imported before transformers, peft to ensure all optimizations are applied. Your code may run slower or encounter memory issues without these optimizations.\n",
      "\n",
      "Please restructure your imports with 'import unsloth' at the top of your file.\n",
      "  import unsloth  # type: ignore\n"
     ]
    },
    {
     "name": "stdout",
     "output_type": "stream",
     "text": [
      "🦥 Unsloth: Will patch your computer to enable 2x faster free finetuning.\n",
      "Unsloth: Failed to patch Gemma3ForConditionalGeneration.\n",
      "🦥 Unsloth Zoo will now patch everything to make training faster!\n",
      "INFO 04-30 01:31:12 __init__.py:207] Automatically detected platform cuda.\n",
      "==((====))==  Unsloth 2025.3.19: Fast Qwen2 patching. Transformers: 4.51.1. vLLM: 0.7.3.\n",
      "   \\\\   /|    NVIDIA H100 PCIe. Num GPUs = 1. Max memory: 79.097 GB. Platform: Linux.\n",
      "O^O/ \\_/ \\    Torch: 2.5.1+cu124. CUDA: 9.0. CUDA Toolkit: 12.4. Triton: 3.1.0\n",
      "\\        /    Bfloat16 = TRUE. FA [Xformers = 0.0.29.post1. FA2 = False]\n",
      " \"-____-\"     Free license: http://github.com/unslothai/unsloth\n",
      "Unsloth: Fast downloading is enabled - ignore downloading bars which are red colored!\n",
      "Unsloth: vLLM loading unsloth/qwen2.5-3b-instruct-unsloth-bnb-4bit with actual GPU utilization = 78.34%\n",
      "Unsloth: Your GPU has CUDA compute capability 9.0 with VRAM = 79.1 GB.\n",
      "Unsloth: Using conservativeness = 1.0. Chunked prefill tokens = 32768. Num Sequences = 368.\n",
      "Unsloth: vLLM's KV Cache can use up to 59.74 GB. Also swap space = 6 GB.\n",
      "INFO 04-30 01:31:25 config.py:549] This model supports multiple tasks: {'generate', 'score', 'reward', 'embed', 'classify'}. Defaulting to 'generate'.\n",
      "Unsloth: vLLM Bitsandbytes config using kwargs = {'load_in_8bit': False, 'load_in_4bit': True, 'bnb_4bit_compute_dtype': 'bfloat16', 'bnb_4bit_quant_storage': 'uint8', 'bnb_4bit_quant_type': 'nf4', 'bnb_4bit_use_double_quant': True, 'llm_int8_enable_fp32_cpu_offload': False, 'llm_int8_has_fp16_weight': False, 'llm_int8_skip_modules': ['lm_head', 'multi_modal_projector', 'merger', 'modality_projection', 'model.layers.2.mlp', 'model.layers.3.mlp', 'model.layers.30.mlp'], 'llm_int8_threshold': 6.0}\n",
      "INFO 04-30 01:31:25 llm_engine.py:234] Initializing a V0 LLM engine (v0.7.3) with config: model='unsloth/qwen2.5-3b-instruct-unsloth-bnb-4bit', speculative_config=None, tokenizer='unsloth/qwen2.5-3b-instruct-unsloth-bnb-4bit', skip_tokenizer_init=False, tokenizer_mode=auto, revision=None, override_neuron_config=None, tokenizer_revision=None, trust_remote_code=False, dtype=torch.bfloat16, max_seq_len=32768, download_dir=None, load_format=bitsandbytes, tensor_parallel_size=1, pipeline_parallel_size=1, disable_custom_all_reduce=False, quantization=bitsandbytes, enforce_eager=False, kv_cache_dtype=auto,  device_config=cuda:0, decoding_config=DecodingConfig(guided_decoding_backend='xgrammar'), observability_config=ObservabilityConfig(otlp_traces_endpoint=None, collect_model_forward_time=False, collect_model_execute_time=False), seed=0, served_model_name=unsloth/qwen2.5-3b-instruct-unsloth-bnb-4bit, num_scheduler_steps=16, multi_step_stream_outputs=True, enable_prefix_caching=True, chunked_prefill_enabled=False, use_async_output_proc=True, disable_mm_preprocessor_cache=False, mm_processor_kwargs=None, pooler_config=None, compilation_config={\"level\":0,\"splitting_ops\":[],\"compile_sizes\":[],\"cudagraph_capture_sizes\":[368,360,352,344,336,328,320,312,304,296,288,280,272,264,256,248,240,232,224,216,208,200,192,184,176,168,160,152,144,136,128,120,112,104,96,88,80,72,64,56,48,40,32,24,16,8,4,2,1],\"max_capture_size\":368}, use_cached_outputs=False, \n",
      "INFO 04-30 01:31:26 cuda.py:229] Using Flash Attention backend.\n",
      "WARNING 04-30 01:31:26 registry.py:335] `mm_limits` has already been set for model=unsloth/qwen2.5-3b-instruct-unsloth-bnb-4bit, and will be overwritten by the new values.\n",
      "INFO 04-30 01:31:26 model_runner.py:1110] Starting to load model unsloth/qwen2.5-3b-instruct-unsloth-bnb-4bit...\n",
      "INFO 04-30 01:31:26 loader.py:1089] Loading weights with BitsAndBytes quantization.  May take a while ...\n",
      "INFO 04-30 01:31:27 weight_utils.py:254] Using model weights format ['*.safetensors']\n"
     ]
    },
    {
     "name": "stderr",
     "output_type": "stream",
     "text": [
      "Loading safetensors checkpoint shards:   0% Completed | 0/1 [00:00<?, ?it/s]\n",
      "Loading safetensors checkpoint shards: 100% Completed | 1/1 [00:00<00:00,  1.38it/s]\n",
      "Loading safetensors checkpoint shards: 100% Completed | 1/1 [00:00<00:00,  1.38it/s]\n",
      "\n",
      "Loading safetensors checkpoint shards:   0% Completed | 0/1 [00:00<?, ?it/s]\n",
      "Loading safetensors checkpoint shards: 100% Completed | 1/1 [00:00<00:00,  1.28it/s]\n",
      "Loading safetensors checkpoint shards: 100% Completed | 1/1 [00:00<00:00,  1.28it/s]\n",
      "\n"
     ]
    },
    {
     "name": "stdout",
     "output_type": "stream",
     "text": [
      "INFO 04-30 01:31:29 model_runner.py:1115] Loading model weights took 2.2265 GB\n",
      "INFO 04-30 01:31:29 punica_selector.py:18] Using PunicaWrapperGPU.\n",
      "INFO 04-30 01:31:31 worker.py:267] Memory profiling takes 2.53 seconds\n",
      "INFO 04-30 01:31:31 worker.py:267] the current vLLM instance can use total_gpu_memory (79.10GiB) x gpu_memory_utilization (0.78) = 61.97GiB\n",
      "INFO 04-30 01:31:31 worker.py:267] model weights take 2.23GiB; non_torch_memory takes 0.14GiB; PyTorch activation peak memory takes 2.71GiB; the rest of the memory reserved for KV Cache is 56.89GiB.\n",
      "INFO 04-30 01:31:32 executor_base.py:111] # cuda blocks: 103556, # CPU blocks: 10922\n",
      "INFO 04-30 01:31:32 executor_base.py:116] Maximum concurrency for 32768 tokens per request: 50.56x\n",
      "INFO 04-30 01:31:39 model_runner.py:1434] Capturing cudagraphs for decoding. This may lead to unexpected consequences if the model is not static. To run the model in eager mode, set 'enforce_eager=True' or use '--enforce-eager' in the CLI. If out-of-memory error occurs during cudagraph capture, consider decreasing `gpu_memory_utilization` or switching to eager mode. You can also reduce the `max_num_seqs` as needed to decrease memory usage.\n"
     ]
    },
    {
     "name": "stderr",
     "output_type": "stream",
     "text": [
      "Capturing CUDA graph shapes: 100%|██████████| 49/49 [00:42<00:00,  1.15it/s]\n"
     ]
    },
    {
     "name": "stdout",
     "output_type": "stream",
     "text": [
      "INFO 04-30 01:32:22 model_runner.py:1562] Graph capturing finished in 43 secs, took 1.30 GiB\n",
      "INFO 04-30 01:32:22 llm_engine.py:436] init engine (profile, create kv cache, warmup model) took 53.16 seconds\n"
     ]
    },
    {
     "name": "stderr",
     "output_type": "stream",
     "text": [
      "Unsloth 2025.3.19 patched 36 layers with 36 QKV layers, 36 O layers and 36 MLP layers.\n"
     ]
    },
    {
     "data": {
      "application/vnd.jupyter.widget-view+json": {
       "model_id": "a48697743d6d44d2b574f9e4df6e1da8",
       "version_major": 2,
       "version_minor": 0
      },
      "text/plain": [
       "gather:   0%|          | 0/4 [00:00<?, ?it/s]"
      ]
     },
     "metadata": {},
     "output_type": "display_data"
    },
    {
     "name": "stderr",
     "output_type": "stream",
     "text": [
      "\u001b[34m\u001b[1mwandb\u001b[0m: Using wandb-core as the SDK backend.  Please refer to https://wandb.me/wandb-core for more information.\n",
      "\u001b[34m\u001b[1mwandb\u001b[0m: Currently logged in as: \u001b[33mopenpipe\u001b[0m (\u001b[33mopenpipe-team\u001b[0m) to \u001b[32mhttps://api.wandb.ai\u001b[0m. Use \u001b[1m`wandb login --relogin`\u001b[0m to force relogin\n"
     ]
    },
    {
     "data": {
      "text/html": [
       "Tracking run with wandb version 0.19.9"
      ],
      "text/plain": [
       "<IPython.core.display.HTML object>"
      ]
     },
     "metadata": {},
     "output_type": "display_data"
    },
    {
     "data": {
      "text/html": [
       "Run data is saved locally in <code>/root/sky_workdir/examples/2048/wandb/run-20250430_013400-013</code>"
      ],
      "text/plain": [
       "<IPython.core.display.HTML object>"
      ]
     },
     "metadata": {},
     "output_type": "display_data"
    },
    {
     "data": {
      "text/html": [
       "Syncing run <strong><a href='https://wandb.ai/openpipe-team/2048/runs/013' target=\"_blank\">013</a></strong> to <a href='https://wandb.ai/openpipe-team/2048' target=\"_blank\">Weights & Biases</a> (<a href='https://wandb.me/developer-guide' target=\"_blank\">docs</a>)<br>"
      ],
      "text/plain": [
       "<IPython.core.display.HTML object>"
      ]
     },
     "metadata": {},
     "output_type": "display_data"
    },
    {
     "data": {
      "text/html": [
       " View project at <a href='https://wandb.ai/openpipe-team/2048' target=\"_blank\">https://wandb.ai/openpipe-team/2048</a>"
      ],
      "text/plain": [
       "<IPython.core.display.HTML object>"
      ]
     },
     "metadata": {},
     "output_type": "display_data"
    },
    {
     "data": {
      "text/html": [
       " View run at <a href='https://wandb.ai/openpipe-team/2048/runs/013' target=\"_blank\">https://wandb.ai/openpipe-team/2048/runs/013</a>"
      ],
      "text/plain": [
       "<IPython.core.display.HTML object>"
      ]
     },
     "metadata": {},
     "output_type": "display_data"
    },
    {
     "name": "stdout",
     "output_type": "stream",
     "text": [
      "Packed 4 trajectories into 2 sequences of length 6144\n"
     ]
    },
    {
     "data": {
      "application/vnd.jupyter.widget-view+json": {
       "model_id": "0b9cbc43bf4849d8b6e71bc37423f54c",
       "version_major": 2,
       "version_minor": 0
      },
      "text/plain": [
       "train:   0%|          | 0/2 [00:00<?, ?it/s]"
      ]
     },
     "metadata": {},
     "output_type": "display_data"
    },
    {
     "name": "stderr",
     "output_type": "stream",
     "text": [
      "==((====))==  Unsloth - 2x faster free finetuning | Num GPUs used = 1\n",
      "   \\\\   /|    Num examples = 10,000,000 | Num Epochs = 3 | Total steps = 30,000,000\n",
      "O^O/ \\_/ \\    Batch size per device = 2 | Gradient accumulation steps = 1\n",
      "\\        /    Data Parallel GPUs = 1 | Total batch size (2 x 1 x 1) = 2\n",
      " \"-____-\"     Trainable parameters = 14,966,784/3,000,000,000 (0.50% trained)\n"
     ]
    },
    {
     "name": "stdout",
     "output_type": "stream",
     "text": [
      "Unsloth: Will smartly offload gradients to save VRAM!\n"
     ]
    },
    {
     "data": {
      "application/vnd.jupyter.widget-view+json": {
       "model_id": "5383f7cbbaef459697c4e4e834d19c09",
       "version_major": 2,
       "version_minor": 0
      },
      "text/plain": [
       "gather:   0%|          | 0/4 [00:00<?, ?it/s]"
      ]
     },
     "metadata": {},
     "output_type": "display_data"
    }
   ],
   "source": [
    "# Declare the model\n",
    "model = art.TrainableModel(\n",
    "    name=\"013\",\n",
    "    project=\"2048\",\n",
    "    base_model=\"Qwen/Qwen2.5-3B-Instruct\",\n",
    "    # To run on a T4, we need to override some config defaults.\n",
    "    _internal_config=art.dev.InternalModelConfig(\n",
    "        init_args=art.dev.InitArgs(\n",
    "            max_seq_length=8192,\n",
    "        ),\n",
    "        engine_args=art.dev.EngineArgs(\n",
    "            enforce_eager=True,\n",
    "            gpu_memory_utilization=0.8,\n",
    "            num_scheduler_steps=1,\n",
    "        ),\n",
    "    ),\n",
    ")\n",
    "await api._experimental_pull_from_s3(\n",
    "    model,\n",
    "    verbose=True,\n",
    ")\n",
    "await model.register(api)\n",
    "\n",
    "for i in range(await model.get_step(), 50):\n",
    "    train_groups = await art.gather_trajectory_groups(\n",
    "        (\n",
    "            art.TrajectoryGroup(\n",
    "                rollout(model, i, is_validation=False) for _ in range(4)\n",
    "            )\n",
    "            for _ in range(1)\n",
    "        ),\n",
    "        pbar_desc=\"gather\",\n",
    "        max_exceptions=1,\n",
    "    )\n",
    "    await model.delete_checkpoints()\n",
    "    await api._experimental_push_to_s3(\n",
    "        model,\n",
    "    )\n",
    "    await model.train(\n",
    "        train_groups,\n",
    "        config=art.TrainConfig(learning_rate=3e-5),\n",
    "        # Lowering the logprob_calculation_chunk_size is a memory saving measure\n",
    "        # to allow longer sequences (up to 4096 tokens) to be processed on a T4.\n",
    "        _config={\"logprob_calculation_chunk_size\": 8},\n",
    "    )"
   ]
  },
  {
   "cell_type": "code",
   "execution_count": 2,
   "metadata": {},
   "outputs": [
    {
     "data": {
      "application/vnd.jupyter.widget-view+json": {
       "model_id": "9a0c35a7376640638b06a6048a42a7fc",
       "version_major": 2,
       "version_minor": 0
      },
      "text/plain": [
       "gather gpt-4o-mini:   0%|          | 0/12 [00:00<?, ?it/s]"
      ]
     },
     "metadata": {},
     "output_type": "display_data"
    },
    {
     "data": {
      "application/vnd.jupyter.widget-view+json": {
       "model_id": "e23aec872d7f419daacfdb285ae6ee77",
       "version_major": 2,
       "version_minor": 0
      },
      "text/plain": [
       "gather gpt-4o:   0%|          | 0/12 [00:00<?, ?it/s]"
      ]
     },
     "metadata": {},
     "output_type": "display_data"
    },
    {
     "data": {
      "application/vnd.jupyter.widget-view+json": {
       "model_id": "ff126a13b807438e991bd3054e7e77fa",
       "version_major": 2,
       "version_minor": 0
      },
      "text/plain": [
       "gather gpt-4.1:   0%|          | 0/12 [00:00<?, ?it/s]"
      ]
     },
     "metadata": {},
     "output_type": "display_data"
    },
    {
     "data": {
      "text/plain": [
       "[None, None, None]"
      ]
     },
     "execution_count": 2,
     "metadata": {},
     "output_type": "execute_result"
    }
   ],
   "source": [
    "import asyncio\n",
    "import os\n",
    "\n",
    "\n",
    "async def log_comparison_model(comparison_model: art.Model):\n",
    "    trajectories = await art.gather_trajectory_groups(\n",
    "        (\n",
    "            art.TrajectoryGroup(\n",
    "                rollout(comparison_model, 0, is_validation=True) for _ in range(12)\n",
    "            )\n",
    "            for _ in range(1)\n",
    "        ),\n",
    "        pbar_desc=f\"gather {comparison_model.name}\",\n",
    "        max_exceptions=1,\n",
    "    )\n",
    "\n",
    "    await comparison_model.log(\n",
    "        trajectories,\n",
    "        split=\"val\",\n",
    "    )\n",
    "\n",
    "gpt_4o_mini = art.Model(\n",
    "    name=\"gpt-4o-mini\",\n",
    "    project=\"2048\",\n",
    "    inference_model_name=\"gpt-4o-mini\",\n",
    "    inference_base_url=\"https://api.openai.com/v1\",\n",
    "    inference_api_key=os.getenv(\"OPENAI_API_KEY\"),\n",
    ")\n",
    "await gpt_4o_mini.register(api)\n",
    "\n",
    "gpt_4o = art.Model(\n",
    "    name=\"gpt-4o\",\n",
    "    project=\"2048\",\n",
    "    inference_model_name=\"gpt-4o\",\n",
    "    inference_base_url=\"https://api.openai.com/v1\",\n",
    "    inference_api_key=os.getenv(\"OPENAI_API_KEY\"),\n",
    ")\n",
    "await gpt_4o.register(api)\n",
    "\n",
    "gpt_4_1 = art.Model(\n",
    "    name=\"gpt-4.1\",\n",
    "    project=\"2048\",\n",
    "    inference_model_name=\"gpt-4.1\",\n",
    "    inference_base_url=\"https://api.openai.com/v1\",\n",
    "    inference_api_key=os.getenv(\"OPENAI_API_KEY\"),\n",
    ")\n",
    "await gpt_4_1.register(api)\n",
    "\n",
    "await api._experimental_push_to_s3(\n",
    "    gpt_4o_mini,\n",
    ")\n",
    "await api._experimental_push_to_s3(\n",
    "    gpt_4o,\n",
    ")\n",
    "await api._experimental_push_to_s3(\n",
    "    gpt_4_1,\n",
    ")\n",
    "\n",
    "\n",
    "# Optional logging client\n",
    "op_client = AsyncOpenPipe()\n",
    "\n",
    "promises = []\n",
    "\n",
    "for comparison_model in [gpt_4o_mini, gpt_4o, gpt_4_1]:\n",
    "    promises.append(log_comparison_model(comparison_model))\n",
    "\n",
    "await asyncio.gather(*promises)\n"
   ]
  }
 ],
 "metadata": {
  "kernelspec": {
   "display_name": ".venv",
   "language": "python",
   "name": "python3"
  },
  "language_info": {
   "codemirror_mode": {
    "name": "ipython",
    "version": 3
   },
   "file_extension": ".py",
   "mimetype": "text/x-python",
   "name": "python",
   "nbconvert_exporter": "python",
   "pygments_lexer": "ipython3",
   "version": "3.10.13"
  }
 },
 "nbformat": 4,
 "nbformat_minor": 2
}
