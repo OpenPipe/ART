{
 "cells": [
  {
   "cell_type": "code",
   "execution_count": 3,
   "metadata": {},
   "outputs": [
    {
     "name": "stdout",
     "output_type": "stream",
     "text": [
      "|    |   Model | Split   |   Iteration |   reward |   max_value |   board_value |\n",
      "|---:|--------:|:--------|------------:|---------:|------------:|--------------:|\n",
      "|  0 |     007 | train   |        0001 |  2.00032 |          32 |            54 |\n",
      "|  1 |     007 | train   |        0002 |  2.00038 |          32 |            64 |\n",
      "|  2 |     007 | train   |        0006 |  2.00028 |          32 |            58 |\n",
      "|  3 |     008 | train   |        0053 |  2.0007  |          32 |            53 |\n",
      "|  4 |     009 | train   |        0379 |  1.48319 |          96 |           214 |\n"
     ]
    }
   ],
   "source": [
    "from art.utils.benchmarking.generate_comparison_table import generate_comparison_table\n",
    "from art.utils.benchmarking.types import BenchmarkedModelKey\n",
    "\n",
    "table_str = generate_comparison_table(\n",
    "    project=\"2048-multi-turn\",\n",
    "    benchmark_keys=[\n",
    "        BenchmarkedModelKey(\"007\", \"train\", 1),\n",
    "        BenchmarkedModelKey(\"007\", \"train\", 2),\n",
    "        BenchmarkedModelKey(\"007\", \"train\"),\n",
    "        BenchmarkedModelKey(\"008\", \"train\", 53),\n",
    "        BenchmarkedModelKey(\"009\", \"train\")\n",
    "    ],\n",
    "    metrics=[\"reward\", \"max_value\", \"board_value\"]\n",
    ")\n",
    "\n",
    "print(table_str.to_markdown())"
   ]
  }
 ],
 "metadata": {
  "kernelspec": {
   "display_name": ".venv",
   "language": "python",
   "name": "python3"
  },
  "language_info": {
   "codemirror_mode": {
    "name": "ipython",
    "version": 3
   },
   "file_extension": ".py",
   "mimetype": "text/x-python",
   "name": "python",
   "nbconvert_exporter": "python",
   "pygments_lexer": "ipython3",
   "version": "3.10.13"
  }
 },
 "nbformat": 4,
 "nbformat_minor": 2
}
