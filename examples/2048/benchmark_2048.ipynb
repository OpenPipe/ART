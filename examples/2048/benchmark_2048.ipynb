{
 "cells": [
  {
   "cell_type": "code",
   "execution_count": 2,
   "metadata": {},
   "outputs": [
    {
     "name": "stdout",
     "output_type": "stream",
     "text": [
      "|    |   Model | Split   |   Iteration |   reward |\n",
      "|---:|--------:|:--------|------------:|---------:|\n",
      "|  0 |     007 | train   |        0001 |  2.00028 |\n",
      "|  1 |     007 | train   |        0002 |  2.00028 |\n",
      "|  2 |     007 | train   |        0006 |  2.00028 |\n"
     ]
    }
   ],
   "source": [
    "from art.utils.benchmarking.generate_comparison_table import generate_comparison_table\n",
    "from art.utils.benchmarking.types import BenchmarkedModelKey\n",
    "\n",
    "table_str = generate_comparison_table(\n",
    "    project=\"2048-multi-turn\",\n",
    "    benchmark_keys=[\n",
    "        BenchmarkedModelKey(\"007\", \"train\", 1),\n",
    "        BenchmarkedModelKey(\"007\", \"train\", 2),\n",
    "        BenchmarkedModelKey(\"007\", \"train\"),\n",
    "    ],\n",
    "    metrics=[\"reward\"]\n",
    ")\n",
    "\n",
    "print(table_str.to_markdown())"
   ]
  },
  {
   "cell_type": "code",
   "execution_count": 2,
   "metadata": {},
   "outputs": [
    {
     "ename": "NameError",
     "evalue": "name 'rollout' is not defined",
     "output_type": "error",
     "traceback": [
      "\u001b[0;31m---------------------------------------------------------------------------\u001b[0m",
      "\u001b[0;31mNameError\u001b[0m                                 Traceback (most recent call last)",
      "Cell \u001b[0;32mIn[2], line 6\u001b[0m\n\u001b[1;32m      1\u001b[0m \u001b[38;5;28;01mfrom\u001b[39;00m\u001b[38;5;250m \u001b[39m\u001b[38;5;21;01mart\u001b[39;00m\u001b[38;5;21;01m.\u001b[39;00m\u001b[38;5;21;01mutils\u001b[39;00m\u001b[38;5;21;01m.\u001b[39;00m\u001b[38;5;21;01mbenchmark_rollout\u001b[39;00m\u001b[38;5;250m \u001b[39m\u001b[38;5;28;01mimport\u001b[39;00m benchmark_rollout\n\u001b[1;32m      3\u001b[0m \u001b[38;5;28;01mawait\u001b[39;00m benchmark_rollout(\n\u001b[1;32m      4\u001b[0m     \u001b[38;5;124m\"\u001b[39m\u001b[38;5;124mgpt-4o-mini\u001b[39m\u001b[38;5;124m\"\u001b[39m,\n\u001b[1;32m      5\u001b[0m     \u001b[38;5;241m100\u001b[39m,\n\u001b[0;32m----> 6\u001b[0m     rollout,\n\u001b[1;32m      7\u001b[0m )\n",
      "\u001b[0;31mNameError\u001b[0m: name 'rollout' is not defined"
     ]
    }
   ],
   "source": [
    "from art.utils.benchmark_rollout import benchmark_rollout\n",
    "\n",
    "await benchmark_rollout(\n",
    "    \"gpt-4o-mini\",\n",
    "    100,\n",
    "    rollout,\n",
    ")\n"
   ]
  },
  {
   "cell_type": "code",
   "execution_count": null,
   "metadata": {},
   "outputs": [],
   "source": [
    "await benchmark_rollout(\n",
    "    \"gpt-4o-2024-11-20\",\n",
    "    100,\n",
    "    rollout,\n",
    ")"
   ]
  },
  {
   "cell_type": "code",
   "execution_count": null,
   "metadata": {},
   "outputs": [],
   "source": [
    "await benchmark_rollout(\n",
    "    \"o3-mini-2025-01-31\",\n",
    "    100,\n",
    "    rollout,\n",
    ")"
   ]
  },
  {
   "cell_type": "code",
   "execution_count": null,
   "metadata": {},
   "outputs": [],
   "source": [
    "await benchmark_rollout(\n",
    "    \"gpt-4.5-preview-2025-02-27\",\n",
    "    10,\n",
    "    rollout,\n",
    ")"
   ]
  }
 ],
 "metadata": {
  "kernelspec": {
   "display_name": ".venv",
   "language": "python",
   "name": "python3"
  },
  "language_info": {
   "codemirror_mode": {
    "name": "ipython",
    "version": 3
   },
   "file_extension": ".py",
   "mimetype": "text/x-python",
   "name": "python",
   "nbconvert_exporter": "python",
   "pygments_lexer": "ipython3",
   "version": "3.10.13"
  }
 },
 "nbformat": 4,
 "nbformat_minor": 2
}
