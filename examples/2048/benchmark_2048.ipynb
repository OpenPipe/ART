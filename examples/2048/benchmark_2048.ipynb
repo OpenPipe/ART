{
 "cells": [
  {
   "cell_type": "code",
   "execution_count": 6,
   "metadata": {},
   "outputs": [
    {
     "name": "stdout",
     "output_type": "stream",
     "text": [
      "OpenPipe client initialized\n"
     ]
    }
   ],
   "source": [
    "from dotenv import load_dotenv\n",
    "import random\n",
    "from openpipe.client import OpenPipe\n",
    "\n",
    "load_dotenv()\n",
    "\n",
    "op_client = OpenPipe()\n",
    "print(\"OpenPipe client initialized\")\n",
    "\n",
    "random.seed(42)"
   ]
  },
  {
   "cell_type": "code",
   "execution_count": 9,
   "metadata": {},
   "outputs": [],
   "source": [
    "import art\n",
    "import asyncio\n",
    "from dotenv import load_dotenv\n",
    "from art.utils.get_trajectory_messages import get_trajectory_messages\n",
    "import json\n",
    "import openai\n",
    "import random\n",
    "from typing import TypedDict\n",
    "import time\n",
    "from typing import Literal\n",
    "from pydantic import BaseModel\n",
    "import math\n",
    "import string\n",
    "import xml.etree.ElementTree as ET\n",
    "import requests\n",
    "from litellm import acompletion \n",
    "\n",
    "load_dotenv()\n",
    "\n",
    "WINNING_VALUE = 512\n",
    "\n",
    "\n",
    "class TwentyFortyEightGame(TypedDict):\n",
    "    id: str\n",
    "    board: list[list[int | None]]\n",
    "\n",
    "def populate_random_cell(game: TwentyFortyEightGame) -> None:\n",
    "    all_clear_coordinates = [(i, j) for i in range(len(game[\"board\"])) for j in range(len(game[\"board\"][i])) if game[\"board\"][i][j] is None]\n",
    "    random_clear_coordinates = random.choice(all_clear_coordinates)\n",
    "    # 90% chance to populate a 2, 10% chance to populate a 4\n",
    "    game[\"board\"][random_clear_coordinates[0]][random_clear_coordinates[1]] = 2 if random.random() < 0.9 else 4\n",
    "\n",
    "\n",
    "def generate_game(board_length: int = 4) -> TwentyFortyEightGame:\n",
    "    # random 6 character string\n",
    "    id = ''.join(random.choices(string.ascii_letters + string.digits, k=6))\n",
    "    game = {\n",
    "        \"id\": id,\n",
    "        \"board\": [[None for _ in range(board_length)] for _ in range(board_length)]\n",
    "    }\n",
    "\n",
    "    # populate two random cells\n",
    "    populate_random_cell(game)\n",
    "    populate_random_cell(game)\n",
    "    \n",
    "    return game\n",
    "\n",
    "\n",
    "def render_board(game: TwentyFortyEightGame) -> str:\n",
    "    board = game[\"board\"]\n",
    "    # print something like this:\n",
    "    # _    | 2    | _    | 4\n",
    "    # 4    | 8    | 2    | 16\n",
    "    # 16   | 32   | 64   | 128\n",
    "    # _    | 2    | 2    | 4\n",
    "    # where _ is an empty cell\n",
    "\n",
    "    max_cell_width = max([len(str(cell)) for row in board for cell in row if cell is not None])\n",
    "\n",
    "    board_str = \"\"\n",
    "    for row in board:\n",
    "        # pad the cells with spaces to make them the same width\n",
    "        board_str += \"|\".join([str(cell).rjust(max_cell_width) if cell is not None else \"_\".rjust(max_cell_width) for cell in row])\n",
    "        board_str += \"\\n\"\n",
    "    return board_str\n",
    "\n",
    "# condense, privileging matches at the start of the sequence\n",
    "# sequences should be passed starting with cells that are the furthest in the direction in which the board is being condensed\n",
    "def condense_sequence(sequence: list[int | None]) -> list[int | None]:\n",
    "    condensed_sequence = []\n",
    "    \n",
    "    gapless_sequence = [cell for cell in sequence if cell is not None]\n",
    "\n",
    "    i = 0\n",
    "    while i < len(gapless_sequence):\n",
    "        if i + 1 < len(gapless_sequence) and gapless_sequence[i] == gapless_sequence[i + 1]:\n",
    "            condensed_sequence.append(gapless_sequence[i] * 2)\n",
    "            i += 2\n",
    "        else:\n",
    "            condensed_sequence.append(gapless_sequence[i])\n",
    "            i += 1\n",
    "\n",
    "    # pad the sequence with None at the end\n",
    "    return condensed_sequence + [None] * (4 - len(condensed_sequence))\n",
    "\n",
    "def condense_board(game: TwentyFortyEightGame, direction: Literal[\"left\", \"right\", \"up\", \"down\"]) -> None:\n",
    "\n",
    "    if direction == \"left\":\n",
    "        for row in game[\"board\"]:\n",
    "            condensed_row = condense_sequence(row)\n",
    "            for i in range(len(row)):\n",
    "                row[i] = condensed_row[i]\n",
    "    \n",
    "    if direction == \"right\":\n",
    "        for row in game[\"board\"]:\n",
    "            reversed_row = row[::-1]\n",
    "            # reverse the row before and after condensing\n",
    "            condensed_row = condense_sequence(reversed_row)[::-1]\n",
    "            for i in range(len(row)):\n",
    "                row[i] = condensed_row[i]\n",
    "\n",
    "    if direction == \"up\":\n",
    "        for col_index in range(len(game[\"board\"][0])):\n",
    "            column = [row[col_index] for row in game[\"board\"]]\n",
    "\n",
    "            condensed_column = condense_sequence(column)\n",
    "            for row_index in range(len(column)):\n",
    "                game[\"board\"][row_index][col_index] = condensed_column[row_index]\n",
    "    \n",
    "    if direction == \"down\":\n",
    "        for col_index in range(len(game[\"board\"][0])):\n",
    "            column = [row[col_index] for row in game[\"board\"]]\n",
    "            reversed_column = column[::-1]\n",
    "            condensed_column = condense_sequence(reversed_column)[::-1]\n",
    "            for row_index in range(len(column)):\n",
    "                game[\"board\"][row_index][col_index] = condensed_column[row_index]\n",
    "        \n",
    "        \n",
    "\n",
    "class AgentMove(BaseModel):\n",
    "    direction: Literal[\"left\", \"right\", \"up\", \"down\"]\n",
    "\n",
    "\n",
    "def apply_agent_move(game: TwentyFortyEightGame, move_xml: str) -> None:\n",
    "\n",
    "    direction = None\n",
    "    # parse the move\n",
    "    try:\n",
    "        root = ET.fromstring(move_xml)\n",
    "        direction = root.text\n",
    "    except Exception as e:\n",
    "        raise ValueError(\"Invalid xml\")\n",
    "    \n",
    "    if direction not in [\"left\", \"right\", \"up\", \"down\"]:\n",
    "        raise ValueError(\"Invalid direction\")\n",
    "\n",
    "    condense_board(game, direction)\n",
    "\n",
    "    populate_random_cell(game)\n",
    "\n",
    "def max_cell_value(game: TwentyFortyEightGame) -> int:\n",
    "    return max([cell for row in game[\"board\"] for cell in row if cell is not None])\n",
    "\n",
    "\n",
    "def check_game_finished(game: TwentyFortyEightGame) -> bool:\n",
    "\n",
    "    if max_cell_value(game) >= WINNING_VALUE:\n",
    "        return True\n",
    "\n",
    "    # check if any cell is empty\n",
    "    if any(cell is None for row in game[\"board\"] for cell in row):\n",
    "        return False\n",
    "\n",
    "    return True\n",
    "\n",
    "\n",
    "\n",
    "failing_trajectory = None\n",
    "\n",
    "\n",
    "@art.retry(exceptions=(openai.LengthFinishReasonError, requests.ReadTimeout))\n",
    "async def rollout(\n",
    "    client: openai.AsyncOpenAI, model: str, iteration: int, is_validation: bool\n",
    ") -> art.Trajectory:\n",
    "\n",
    "    game = generate_game()\n",
    "\n",
    "    move_number = 0\n",
    "\n",
    "    trajectory = art.Trajectory(\n",
    "        messages_and_choices=[\n",
    "            {\n",
    "                \"role\": \"system\",\n",
    "                \"content\": \"You are an excellent 2048 player. Always choose the move most likely to lead to combine cells to eventually reach the number 2048. Optional moves are 'left', 'right', 'up', 'down'. Return your move as an XML object with a single property 'move', like so: <move>left</move>\",\n",
    "            }\n",
    "        ],\n",
    "        reward=0,\n",
    "        metrics={\"test\": 5},\n",
    "    )\n",
    "\n",
    "    while True:\n",
    "                    \n",
    "        trajectory.messages_and_choices.append(\n",
    "            {\"role\": \"user\", \"content\": render_board(game)}\n",
    "        )\n",
    "\n",
    "        requested_at = int(time.time() * 1000)\n",
    "        messages = get_trajectory_messages(trajectory)\n",
    "\n",
    "        async def get_completion():\n",
    "            return await acompletion(\n",
    "                model=model,\n",
    "                messages=messages,\n",
    "            )\n",
    "\n",
    "        try:\n",
    "            chat_completion = await get_completion()\n",
    "            last_completion = chat_completion\n",
    "        except openai.LengthFinishReasonError as e:\n",
    "            raise e\n",
    "        except Exception as e:\n",
    "            print(\"caught exception generating chat completion\")\n",
    "            print(e)\n",
    "            global failing_trajectory\n",
    "            failing_trajectory = trajectory\n",
    "            raise e\n",
    "        \n",
    "        try:\n",
    "            op_client.report(\n",
    "                requested_at=requested_at,\n",
    "                received_at=int(time.time() * 1000),\n",
    "                req_payload={\n",
    "                    \"model\": model,\n",
    "                    \"messages\": messages,\n",
    "                    \"metadata\": {\n",
    "                        \"game_id\": game[\"id\"],\n",
    "                        \"notebook-id\": \"2048\",\n",
    "                        \"iteration\": str(iteration),\n",
    "                        \"validation\": str(is_validation),\n",
    "                        \"move_number\": str(move_number),\n",
    "                    },\n",
    "                },\n",
    "                resp_payload=chat_completion,\n",
    "                status_code=200,\n",
    "            )\n",
    "        except Exception as e:\n",
    "            print(f\"Error reporting to OpenPipe: {e}\")\n",
    "\n",
    "        choice = chat_completion.choices[0]\n",
    "        content = choice.message.content\n",
    "        assert isinstance(content, str)\n",
    "        trajectory.messages_and_choices.append(choice)\n",
    "\n",
    "        try:\n",
    "            apply_agent_move(game, content)\n",
    "            move_number += 1\n",
    "        except ValueError:\n",
    "            trajectory.reward = -1\n",
    "            break\n",
    "\n",
    "        if check_game_finished(game):\n",
    "            max_value = max_cell_value(game)\n",
    "\n",
    "            if max_value < WINNING_VALUE:\n",
    "                # scale reward logarithmically between 0 for 2 and 1 for 2048\n",
    "                trajectory.reward = (math.log(max_value, 2) - 1) / (math.log(WINNING_VALUE, 2) - 1)\n",
    "            else:\n",
    "                # double reward if it wins\n",
    "                trajectory.reward = 2\n",
    "            break\n",
    "\n",
    "    try:\n",
    "        op_client.update_log_metadata(\n",
    "            filters=[\n",
    "                {\n",
    "                    \"field\": \"completionId\",\n",
    "                    \"equals\": last_completion.id,\n",
    "                }\n",
    "            ],\n",
    "            metadata={\n",
    "                \"reward\": str(trajectory.reward),\n",
    "                \"reward_assigned\": \"true\",\n",
    "            }\n",
    "        )\n",
    "    except Exception as e:\n",
    "        print(f\"Error updating log metadata: {e}\")\n",
    "\n",
    "    return trajectory"
   ]
  },
  {
   "cell_type": "code",
   "execution_count": 10,
   "metadata": {},
   "outputs": [
    {
     "data": {
      "application/vnd.jupyter.widget-view+json": {
       "model_id": "fb36e80e7e88497ba53130635b97e6c4",
       "version_major": 2,
       "version_minor": 0
      },
      "text/plain": [
       "Benchmarking rollout:   0%|          | 0/100 [00:00<?, ?it/s]"
      ]
     },
     "metadata": {},
     "output_type": "display_data"
    },
    {
     "name": "stdout",
     "output_type": "stream",
     "text": [
      "Average reward for gpt-4o-mini: 0.5\n"
     ]
    },
    {
     "data": {
      "text/plain": [
       "0.5"
      ]
     },
     "execution_count": 10,
     "metadata": {},
     "output_type": "execute_result"
    }
   ],
   "source": [
    "from art.utils.benchmark_rollout import benchmark_rollout\n",
    "\n",
    "client = openai.AsyncOpenAI()\n",
    "\n",
    "await benchmark_rollout(\n",
    "    client,\n",
    "    \"gpt-4o-mini\",\n",
    "    100,\n",
    "    rollout,\n",
    ")\n"
   ]
  },
  {
   "cell_type": "code",
   "execution_count": 11,
   "metadata": {},
   "outputs": [
    {
     "data": {
      "application/vnd.jupyter.widget-view+json": {
       "model_id": "32132b9dee7942d395b3a28aafc64ca3",
       "version_major": 2,
       "version_minor": 0
      },
      "text/plain": [
       "Benchmarking rollout:   0%|          | 0/100 [00:00<?, ?it/s]"
      ]
     },
     "metadata": {},
     "output_type": "display_data"
    },
    {
     "name": "stdout",
     "output_type": "stream",
     "text": [
      "Error reporting to OpenPipe: Server disconnected without sending a response.\n",
      "Average reward for gpt-4o-2024-11-20: 0.70625\n"
     ]
    },
    {
     "data": {
      "text/plain": [
       "0.70625"
      ]
     },
     "execution_count": 11,
     "metadata": {},
     "output_type": "execute_result"
    }
   ],
   "source": [
    "await benchmark_rollout(\n",
    "    client,\n",
    "    \"gpt-4o-2024-11-20\",\n",
    "    100,\n",
    "    rollout,\n",
    ")"
   ]
  },
  {
   "cell_type": "code",
   "execution_count": 12,
   "metadata": {},
   "outputs": [
    {
     "data": {
      "application/vnd.jupyter.widget-view+json": {
       "model_id": "a00518e37c624e489f2069da0e47dbed",
       "version_major": 2,
       "version_minor": 0
      },
      "text/plain": [
       "Benchmarking rollout:   0%|          | 0/100 [00:00<?, ?it/s]"
      ]
     },
     "metadata": {},
     "output_type": "display_data"
    },
    {
     "name": "stdout",
     "output_type": "stream",
     "text": [
      "Average reward for o3-mini-2025-01-31: 0.7575\n"
     ]
    },
    {
     "data": {
      "text/plain": [
       "0.7575"
      ]
     },
     "execution_count": 12,
     "metadata": {},
     "output_type": "execute_result"
    }
   ],
   "source": [
    "await benchmark_rollout(\n",
    "    client,\n",
    "    \"o3-mini-2025-01-31\",\n",
    "    100,\n",
    "    rollout,\n",
    ")"
   ]
  },
  {
   "cell_type": "code",
   "execution_count": 13,
   "metadata": {},
   "outputs": [
    {
     "data": {
      "application/vnd.jupyter.widget-view+json": {
       "model_id": "208be1f32a1949eaac3d13d9953cc8a8",
       "version_major": 2,
       "version_minor": 0
      },
      "text/plain": [
       "Benchmarking rollout:   0%|          | 0/10 [00:00<?, ?it/s]"
      ]
     },
     "metadata": {},
     "output_type": "display_data"
    },
    {
     "name": "stdout",
     "output_type": "stream",
     "text": [
      "Average reward for gpt-4.5-preview-2025-02-27: 0.5375\n"
     ]
    },
    {
     "data": {
      "text/plain": [
       "0.5375"
      ]
     },
     "execution_count": 13,
     "metadata": {},
     "output_type": "execute_result"
    }
   ],
   "source": [
    "await benchmark_rollout(\n",
    "    client,\n",
    "    \"gpt-4.5-preview-2025-02-27\",\n",
    "    10,\n",
    "    rollout,\n",
    ")"
   ]
  }
 ],
 "metadata": {
  "kernelspec": {
   "display_name": ".venv",
   "language": "python",
   "name": "python3"
  },
  "language_info": {
   "codemirror_mode": {
    "name": "ipython",
    "version": 3
   },
   "file_extension": ".py",
   "mimetype": "text/x-python",
   "name": "python",
   "nbconvert_exporter": "python",
   "pygments_lexer": "ipython3",
   "version": "3.12.10"
  }
 },
 "nbformat": 4,
 "nbformat_minor": 2
}
