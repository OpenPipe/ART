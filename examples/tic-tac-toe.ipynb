{
 "cells": [
  {
   "cell_type": "code",
   "execution_count": 4,
   "metadata": {},
   "outputs": [
    {
     "name": "stdout",
     "output_type": "stream",
     "text": [
      "The autoreload extension is already loaded. To reload it, use:\n",
      "  %reload_ext autoreload\n"
     ]
    }
   ],
   "source": [
    "%load_ext autoreload\n",
    "%autoreload 2"
   ]
  },
  {
   "cell_type": "code",
   "execution_count": 5,
   "metadata": {},
   "outputs": [
    {
     "data": {
      "text/html": [
       "<style>\n",
       ".cell-output-ipywidget-background {\n",
       "    background-color: transparent !important;\n",
       "}\n",
       ":root {\n",
       "    --jp-widgets-color: var(--vscode-editor-foreground);\n",
       "    --jp-widgets-font-size: var(--vscode-editor-font-size);\n",
       "}  \n",
       "</style>\n"
      ],
      "text/plain": [
       "<IPython.core.display.HTML object>"
      ]
     },
     "metadata": {},
     "output_type": "display_data"
    }
   ],
   "source": [
    "%%html\n",
    "<style>\n",
    ".cell-output-ipywidget-background {\n",
    "    background-color: transparent !important;\n",
    "}\n",
    ":root {\n",
    "    --jp-widgets-color: var(--vscode-editor-foreground);\n",
    "    --jp-widgets-font-size: var(--vscode-editor-font-size);\n",
    "}  \n",
    "</style>"
   ]
  },
  {
   "cell_type": "code",
   "execution_count": 6,
   "metadata": {},
   "outputs": [
    {
     "name": "stdout",
     "output_type": "stream",
     "text": [
      "OpenPipe client initialized\n"
     ]
    }
   ],
   "source": [
    "import art\n",
    "from dotenv import load_dotenv\n",
    "import random\n",
    "from openpipe.client import OpenPipe\n",
    "\n",
    "load_dotenv()\n",
    "\n",
    "op_client = OpenPipe()\n",
    "print(\"OpenPipe client initialized\")\n",
    "\n",
    "random.seed(42)\n",
    "\n",
    "\n",
    "api = art.UnslothAPI(wandb_project=\"agent-reinforcement-training\")\n",
    "model = await api._get_or_create_model(\n",
    "    name=\"tic-tac-toe-002\",\n",
    "    base_model=\"NousResearch/Hermes-2-Theta-Llama-3-8B\",\n",
    "    _config={\"init_args\": {\"max_seq_length\": 8192, \"num_scheduler_steps\": 1}},\n",
    ")"
   ]
  },
  {
   "cell_type": "code",
   "execution_count": null,
   "metadata": {},
   "outputs": [
    {
     "name": "stdout",
     "output_type": "stream",
     "text": [
      "$ vllm serve NousResearch/Hermes-2-Theta-Llama-3-8B --block-size=32 --disable-log-requests --enable-chunked-prefill --enable-prefix-caching --enforce-eager --gpu-memory-utilization=0.95 --max-num-seqs=2048 --max-num-batched-tokens=16384 --num-scheduler-steps=1 --preemption-mode=swap --return-tokens-as-token-ids --swap-space=80 --tensor-parallel-size=1 --tool-call-parser=hermes --served-model-name=tic-tac-toe-006 --port=8001 --api-key=default\n"
     ]
    },
    {
     "name": "stderr",
     "output_type": "stream",
     "text": [
      "Loading safetensors checkpoint shards:   0% Completed | 0/4 [00:00<?, ?it/s]\n",
      "Loading safetensors checkpoint shards:  25% Completed | 1/4 [00:01<00:03,  1.01s/it]\n",
      "Loading safetensors checkpoint shards:  50% Completed | 2/4 [00:02<00:02,  1.19s/it]\n",
      "Loading safetensors checkpoint shards:  75% Completed | 3/4 [00:03<00:01,  1.20s/it]\n",
      "Loading safetensors checkpoint shards: 100% Completed | 4/4 [00:03<00:00,  1.11it/s]\n",
      "Loading safetensors checkpoint shards: 100% Completed | 4/4 [00:03<00:00,  1.01it/s]\n",
      "\n",
      "INFO:     Started server process [106467]\n",
      "INFO:     Waiting for application startup.\n",
      "INFO:     Application startup complete.\n"
     ]
    },
    {
     "name": "stdout",
     "output_type": "stream",
     "text": [
      "INFO:     127.0.0.1:54830 - \"POST /v1/chat/completions HTTP/1.1\" 200 OK\n"
     ]
    },
    {
     "name": "stderr",
     "output_type": "stream",
     "text": [
      "\u001b[34m\u001b[1mwandb\u001b[0m: Using wandb-core as the SDK backend.  Please refer to https://wandb.me/wandb-core for more information.\n"
     ]
    },
    {
     "name": "stdout",
     "output_type": "stream",
     "text": [
      "vLLM server started succesfully. Logs can be found at ./logs/vllm.log\n"
     ]
    },
    {
     "name": "stderr",
     "output_type": "stream",
     "text": [
      "\u001b[34m\u001b[1mwandb\u001b[0m: Currently logged in as: \u001b[33marctic_fly\u001b[0m (\u001b[33mbased-op\u001b[0m) to \u001b[32mhttps://api.wandb.ai\u001b[0m. Use \u001b[1m`wandb login --relogin`\u001b[0m to force relogin\n"
     ]
    },
    {
     "data": {
      "text/html": [
       "Tracking run with wandb version 0.19.8"
      ],
      "text/plain": [
       "<IPython.core.display.HTML object>"
      ]
     },
     "metadata": {},
     "output_type": "display_data"
    },
    {
     "data": {
      "text/html": [
       "Run data is saved locally in <code>/root/sky_workdir/examples/wandb/run-20250401_024928-tic-tac-toe-006</code>"
      ],
      "text/plain": [
       "<IPython.core.display.HTML object>"
      ]
     },
     "metadata": {},
     "output_type": "display_data"
    },
    {
     "data": {
      "text/html": [
       "Syncing run <strong><a href='https://wandb.ai/based-op/agent-reinforcement-training/runs/tic-tac-toe-006' target=\"_blank\">tic-tac-toe-006</a></strong> to <a href='https://wandb.ai/based-op/agent-reinforcement-training' target=\"_blank\">Weights & Biases</a> (<a href='https://wandb.me/developer-guide' target=\"_blank\">docs</a>)<br>"
      ],
      "text/plain": [
       "<IPython.core.display.HTML object>"
      ]
     },
     "metadata": {},
     "output_type": "display_data"
    },
    {
     "data": {
      "text/html": [
       " View project at <a href='https://wandb.ai/based-op/agent-reinforcement-training' target=\"_blank\">https://wandb.ai/based-op/agent-reinforcement-training</a>"
      ],
      "text/plain": [
       "<IPython.core.display.HTML object>"
      ]
     },
     "metadata": {},
     "output_type": "display_data"
    },
    {
     "data": {
      "text/html": [
       " View run at <a href='https://wandb.ai/based-op/agent-reinforcement-training/runs/tic-tac-toe-006' target=\"_blank\">https://wandb.ai/based-op/agent-reinforcement-training/runs/tic-tac-toe-006</a>"
      ],
      "text/plain": [
       "<IPython.core.display.HTML object>"
      ]
     },
     "metadata": {},
     "output_type": "display_data"
    },
    {
     "name": "stdout",
     "output_type": "stream",
     "text": [
      "\"train/completion_tokens\" not found in run history\n"
     ]
    },
    {
     "data": {
      "application/vnd.jupyter.widget-view+json": {
       "model_id": "9a916f3e328a4bf5b97c2a79a19b15fd",
       "version_major": 2,
       "version_minor": 0
      },
      "text/plain": [
       "val:   0%|          | 0/64 [00:00<?, ?it/s]"
      ]
     },
     "metadata": {},
     "output_type": "display_data"
    },
    {
     "data": {
      "application/vnd.jupyter.widget-view+json": {
       "model_id": "ced0610b123b4d0f9b2d6d37f4b0bb27",
       "version_major": 2,
       "version_minor": 0
      },
      "text/plain": [
       "train:   0%|          | 0/512 [00:00<?, ?it/s]"
      ]
     },
     "metadata": {},
     "output_type": "display_data"
    },
    {
     "name": "stdout",
     "output_type": "stream",
     "text": [
      "string index out of range\n",
      "Error updating log metadata: status_code: 400, body: {'message': 'Input validation failed', 'code': 'BAD_REQUEST', 'issues': [{'code': 'invalid_union', 'unionErrors': [{'issues': [{'code': 'invalid_type', 'expected': 'string', 'received': 'boolean', 'path': ['metadata', 'reward_assigned'], 'message': 'Expected string, received boolean'}], 'name': 'ZodError'}, {'issues': [{'code': 'invalid_type', 'expected': 'null', 'received': 'boolean', 'path': ['metadata', 'reward_assigned'], 'message': 'Expected null, received boolean'}], 'name': 'ZodError'}], 'path': ['metadata', 'reward_assigned'], 'message': 'Invalid input'}]}\n",
      "Error updating log metadata: status_code: 400, body: {'message': 'Input validation failed', 'code': 'BAD_REQUEST', 'issues': [{'code': 'invalid_union', 'unionErrors': [{'issues': [{'code': 'invalid_type', 'expected': 'string', 'received': 'boolean', 'path': ['metadata', 'reward_assigned'], 'message': 'Expected string, received boolean'}], 'name': 'ZodError'}, {'issues': [{'code': 'invalid_type', 'expected': 'null', 'received': 'boolean', 'path': ['metadata', 'reward_assigned'], 'message': 'Expected null, received boolean'}], 'name': 'ZodError'}], 'path': ['metadata', 'reward_assigned'], 'message': 'Invalid input'}]}\n",
      "Error updating log metadata: status_code: 400, body: {'message': 'Input validation failed', 'code': 'BAD_REQUEST', 'issues': [{'code': 'invalid_union', 'unionErrors': [{'issues': [{'code': 'invalid_type', 'expected': 'string', 'received': 'boolean', 'path': ['metadata', 'reward_assigned'], 'message': 'Expected string, received boolean'}], 'name': 'ZodError'}, {'issues': [{'code': 'invalid_type', 'expected': 'null', 'received': 'boolean', 'path': ['metadata', 'reward_assigned'], 'message': 'Expected null, received boolean'}], 'name': 'ZodError'}], 'path': ['metadata', 'reward_assigned'], 'message': 'Invalid input'}]}\n",
      "string index out of range\n",
      "Error updating log metadata: status_code: 400, body: {'message': 'Input validation failed', 'code': 'BAD_REQUEST', 'issues': [{'code': 'invalid_union', 'unionErrors': [{'issues': [{'code': 'invalid_type', 'expected': 'string', 'received': 'boolean', 'path': ['metadata', 'reward_assigned'], 'message': 'Expected string, received boolean'}], 'name': 'ZodError'}, {'issues': [{'code': 'invalid_type', 'expected': 'null', 'received': 'boolean', 'path': ['metadata', 'reward_assigned'], 'message': 'Expected null, received boolean'}], 'name': 'ZodError'}], 'path': ['metadata', 'reward_assigned'], 'message': 'Invalid input'}]}\n",
      "Error updating log metadata: status_code: 400, body: {'message': 'Input validation failed', 'code': 'BAD_REQUEST', 'issues': [{'code': 'invalid_union', 'unionErrors': [{'issues': [{'code': 'invalid_type', 'expected': 'string', 'received': 'boolean', 'path': ['metadata', 'reward_assigned'], 'message': 'Expected string, received boolean'}], 'name': 'ZodError'}, {'issues': [{'code': 'invalid_type', 'expected': 'null', 'received': 'boolean', 'path': ['metadata', 'reward_assigned'], 'message': 'Expected null, received boolean'}], 'name': 'ZodError'}], 'path': ['metadata', 'reward_assigned'], 'message': 'Invalid input'}]}\n",
      "Error updating log metadata: status_code: 400, body: {'message': 'Input validation failed', 'code': 'BAD_REQUEST', 'issues': [{'code': 'invalid_union', 'unionErrors': [{'issues': [{'code': 'invalid_type', 'expected': 'string', 'received': 'boolean', 'path': ['metadata', 'reward_assigned'], 'message': 'Expected string, received boolean'}], 'name': 'ZodError'}, {'issues': [{'code': 'invalid_type', 'expected': 'null', 'received': 'boolean', 'path': ['metadata', 'reward_assigned'], 'message': 'Expected null, received boolean'}], 'name': 'ZodError'}], 'path': ['metadata', 'reward_assigned'], 'message': 'Invalid input'}]}\n",
      "Error updating log metadata: status_code: 400, body: {'message': 'Input validation failed', 'code': 'BAD_REQUEST', 'issues': [{'code': 'invalid_union', 'unionErrors': [{'issues': [{'code': 'invalid_type', 'expected': 'string', 'received': 'boolean', 'path': ['metadata', 'reward_assigned'], 'message': 'Expected string, received boolean'}], 'name': 'ZodError'}, {'issues': [{'code': 'invalid_type', 'expected': 'null', 'received': 'boolean', 'path': ['metadata', 'reward_assigned'], 'message': 'Expected null, received boolean'}], 'name': 'ZodError'}], 'path': ['metadata', 'reward_assigned'], 'message': 'Invalid input'}]}\n",
      "Error updating log metadata: status_code: 400, body: {'message': 'Input validation failed', 'code': 'BAD_REQUEST', 'issues': [{'code': 'invalid_union', 'unionErrors': [{'issues': [{'code': 'invalid_type', 'expected': 'string', 'received': 'boolean', 'path': ['metadata', 'reward_assigned'], 'message': 'Expected string, received boolean'}], 'name': 'ZodError'}, {'issues': [{'code': 'invalid_type', 'expected': 'null', 'received': 'boolean', 'path': ['metadata', 'reward_assigned'], 'message': 'Expected null, received boolean'}], 'name': 'ZodError'}], 'path': ['metadata', 'reward_assigned'], 'message': 'Invalid input'}]}\n",
      "Error updating log metadata: status_code: 400, body: {'message': 'Input validation failed', 'code': 'BAD_REQUEST', 'issues': [{'code': 'invalid_union', 'unionErrors': [{'issues': [{'code': 'invalid_type', 'expected': 'string', 'received': 'boolean', 'path': ['metadata', 'reward_assigned'], 'message': 'Expected string, received boolean'}], 'name': 'ZodError'}, {'issues': [{'code': 'invalid_type', 'expected': 'null', 'received': 'boolean', 'path': ['metadata', 'reward_assigned'], 'message': 'Expected null, received boolean'}], 'name': 'ZodError'}], 'path': ['metadata', 'reward_assigned'], 'message': 'Invalid input'}]}\n",
      "Error updating log metadata: status_code: 400, body: {'message': 'Input validation failed', 'code': 'BAD_REQUEST', 'issues': [{'code': 'invalid_union', 'unionErrors': [{'issues': [{'code': 'invalid_type', 'expected': 'string', 'received': 'boolean', 'path': ['metadata', 'reward_assigned'], 'message': 'Expected string, received boolean'}], 'name': 'ZodError'}, {'issues': [{'code': 'invalid_type', 'expected': 'null', 'received': 'boolean', 'path': ['metadata', 'reward_assigned'], 'message': 'Expected null, received boolean'}], 'name': 'ZodError'}], 'path': ['metadata', 'reward_assigned'], 'message': 'Invalid input'}]}\n"
     ]
    }
   ],
   "source": [
    "import art\n",
    "import asyncio\n",
    "from dotenv import load_dotenv\n",
    "import json\n",
    "import openai\n",
    "import random\n",
    "from typing import TypedDict\n",
    "from openpipe.client import OpenPipe\n",
    "import time\n",
    "from typing import Literal\n",
    "from pydantic import BaseModel\n",
    "\n",
    "load_dotenv()\n",
    "\n",
    "\n",
    "class TicTacToeGame(TypedDict):\n",
    "    board: list[list[str]]\n",
    "    agent_symbol: Literal[\"x\", \"o\"]\n",
    "    opponent_symbol: Literal[\"x\", \"o\"]\n",
    "\n",
    "\n",
    "def generate_game(board_length: int = 3) -> TicTacToeGame:\n",
    "    board = [[\"_\" for _ in range(board_length)] for _ in range(board_length)]\n",
    "    agent_symbol = random.choice([\"x\", \"o\"])\n",
    "    opponent_symbol = \"x\" if agent_symbol == \"o\" else \"o\"\n",
    "    return {\n",
    "        \"board\": board,\n",
    "        \"agent_symbol\": agent_symbol,\n",
    "        \"opponent_symbol\": opponent_symbol,\n",
    "    }\n",
    "\n",
    "\n",
    "def render_board(game: TicTacToeGame) -> str:\n",
    "    board = game[\"board\"]\n",
    "    board_length = len(board)\n",
    "    # print something like this:\n",
    "    #    1   2   3\n",
    "    # A  _ | x | x\n",
    "    # B  o | _ | _\n",
    "    # C  _ | o | _\n",
    "    # where _ is an empty cell\n",
    "\n",
    "    board_str = \"   \" + \"   \".join([str(i + 1) for i in range(board_length)]) + \"\\n\"\n",
    "    for i in range(board_length):\n",
    "        board_str += f\"{chr(65 + i)}  {board[i][0]} | {board[i][1]} | {board[i][2]}\\n\"\n",
    "    return board_str\n",
    "\n",
    "\n",
    "def get_opponent_move(game: TicTacToeGame) -> tuple[int, int]:\n",
    "    # get a random empty cell\n",
    "    empty_cells = [\n",
    "        (i, j) for i in range(3) for j in range(3) if game[\"board\"][i][j] == \"_\"\n",
    "    ]\n",
    "    return random.choice(empty_cells)\n",
    "\n",
    "\n",
    "class AgentMove(BaseModel):\n",
    "    reason: str\n",
    "    square: str\n",
    "\n",
    "\n",
    "def apply_agent_move(game: TicTacToeGame, move: str) -> None:\n",
    "    board_length = len(game[\"board\"])\n",
    "    json_move = json.loads(move)\n",
    "    square = json_move[\"square\"]\n",
    "\n",
    "    try:\n",
    "        row_index = ord(square[0]) - 65\n",
    "        col_index = int(square[1]) - 1\n",
    "    except Exception as e:\n",
    "        print(e)\n",
    "        raise ValueError(\"Unable to parse square\")\n",
    "\n",
    "    if (\n",
    "        row_index < 0\n",
    "        or row_index >= board_length\n",
    "        or col_index < 0\n",
    "        or col_index >= board_length\n",
    "    ):\n",
    "        raise ValueError(\n",
    "            f\"Invalid move, row or column out of bounds: {row_index}, {col_index}\"\n",
    "        )\n",
    "\n",
    "    # check if the move is valid\n",
    "    if game[\"board\"][row_index][col_index] != \"_\":\n",
    "        raise ValueError(\"Square already occupied\")\n",
    "\n",
    "    game[\"board\"][row_index][col_index] = game[\"agent_symbol\"]\n",
    "\n",
    "\n",
    "def check_winner(board: list[list[str]]) -> Literal[\"x\", \"o\", \"draw\", None]:\n",
    "    board_length = len(board)\n",
    "    # check rows\n",
    "    for row in board:\n",
    "        if row.count(row[0]) == board_length and row[0] != \"_\":\n",
    "            return row[0]\n",
    "    # check columns\n",
    "    for col in range(board_length):\n",
    "        if [board[row][col] for row in range(board_length)].count(\n",
    "            board[0][col]\n",
    "        ) == board_length and board[0][col] != \"_\":\n",
    "            return board[0][col]\n",
    "\n",
    "    # top right to bottom left\n",
    "    upward_diagonal = [board[i][board_length - i - 1] for i in range(board_length)]\n",
    "    if (\n",
    "        upward_diagonal.count(upward_diagonal[0]) == board_length\n",
    "        and upward_diagonal[0] != \"_\"\n",
    "    ):\n",
    "        return upward_diagonal[0]\n",
    "\n",
    "    # top left to bottom right\n",
    "    downward_diagonal = [board[i][i] for i in range(board_length)]\n",
    "    if (\n",
    "        downward_diagonal.count(downward_diagonal[0]) == board_length\n",
    "        and downward_diagonal[0] != \"_\"\n",
    "    ):\n",
    "        return downward_diagonal[0]\n",
    "\n",
    "    # check for draw\n",
    "    if all(cell != \"_\" for row in board for cell in row):\n",
    "        return \"draw\"\n",
    "    return None\n",
    "\n",
    "\n",
    "def get_trajectory_messages(trajectory: art.Trajectory) -> art.Messages:\n",
    "    messages: art.Messages = []\n",
    "    for item in trajectory.messages_and_choices:\n",
    "\n",
    "        # if item is not a dict, convert it to a dict\n",
    "        if not isinstance(item, dict):\n",
    "            item = item.to_dict()\n",
    "\n",
    "        # check if item is a choice\n",
    "        if \"message\" in item:\n",
    "            messages.append(\n",
    "                {\"role\": \"assistant\", \"content\": item[\"message\"][\"content\"]}\n",
    "            )\n",
    "        else:\n",
    "            # otherwise it's a message\n",
    "            messages.append(item)\n",
    "    return messages\n",
    "\n",
    "\n",
    "failing_trajectory = None\n",
    "\n",
    "\n",
    "@art.retry(exceptions=(openai.LengthFinishReasonError,))\n",
    "async def rollout(\n",
    "    client: openai.AsyncOpenAI, iteration: int, is_validation: bool\n",
    ") -> art.Trajectory:\n",
    "\n",
    "    game = generate_game()\n",
    "\n",
    "    trajectory = art.Trajectory(\n",
    "        messages_and_choices=[\n",
    "            {\n",
    "                \"role\": \"system\",\n",
    "                \"content\": f\"You are a tic-tac-toe player. You are playing against an opponent. Always choose the move most likely to lead to an eventual win. Return the move in the format 'A1', 'B2', 'C3', etc. You are the {game['agent_symbol']} symbol.\",\n",
    "            }\n",
    "        ],\n",
    "        reward=0,\n",
    "        metrics={\"test\": 5},\n",
    "    )\n",
    "\n",
    "    if game[\"agent_symbol\"] == \"o\":\n",
    "        starting_opponent_move = get_opponent_move(game)\n",
    "        game[\"board\"][starting_opponent_move[0]][starting_opponent_move[1]] = game[\n",
    "            \"opponent_symbol\"\n",
    "        ]\n",
    "\n",
    "\n",
    "    while check_winner(game[\"board\"]) is None:\n",
    "\n",
    "        trajectory.messages_and_choices.append(\n",
    "            {\"role\": \"user\", \"content\": render_board(game)}\n",
    "        )\n",
    "\n",
    "        requested_at = int(time.time() * 1000)\n",
    "        messages = get_trajectory_messages(trajectory)\n",
    "\n",
    "        async def get_completion():\n",
    "            return await client.chat.completions.create(\n",
    "                max_completion_tokens=2048,\n",
    "                messages=messages,\n",
    "                model=model.name,\n",
    "                extra_body={\"guided_json\": AgentMove.model_json_schema()},\n",
    "            )\n",
    "\n",
    "        try:\n",
    "            chat_completion = await get_completion()\n",
    "            last_completion = chat_completion\n",
    "        except openai.LengthFinishReasonError as e:\n",
    "            raise e\n",
    "        except Exception as e:\n",
    "            print(\"caught exception generating chat completion\")\n",
    "            print(e)\n",
    "            global failing_trajectory\n",
    "            failing_trajectory = trajectory\n",
    "            raise e\n",
    "\n",
    "        try:\n",
    "            op_client.report(\n",
    "                requested_at=requested_at,\n",
    "                received_at=int(time.time() * 1000),\n",
    "                req_payload={\n",
    "                    \"model\": model.name,\n",
    "                    \"messages\": messages,\n",
    "                    \"metadata\": {\n",
    "                        \"notebook-id\": \"tic-tac-toe\",\n",
    "                        \"iteration\": str(iteration),\n",
    "                        \"validation\": str(is_validation),\n",
    "                        \"move_number\": str(len(trajectory.messages_and_choices) - 1),\n",
    "                    },\n",
    "                },\n",
    "                resp_payload=chat_completion,\n",
    "                status_code=200,\n",
    "            )\n",
    "        except Exception as e:\n",
    "            print(f\"Error reporting to OpenPipe: {e}\")\n",
    "\n",
    "        choice = chat_completion.choices[0]\n",
    "        content = choice.message.content\n",
    "        assert isinstance(content, str)\n",
    "        trajectory.messages_and_choices.append(choice)\n",
    "\n",
    "        try:\n",
    "            apply_agent_move(game, content)\n",
    "        except ValueError as e:\n",
    "            trajectory.reward = -1\n",
    "            break\n",
    "\n",
    "        if check_winner(game[\"board\"]) is not None:\n",
    "            break\n",
    "\n",
    "        opponent_move = get_opponent_move(game)\n",
    "        game[\"board\"][opponent_move[0]][opponent_move[1]] = game[\"opponent_symbol\"]\n",
    "\n",
    "    winner = check_winner(game[\"board\"])\n",
    "\n",
    "    if winner == game[\"agent_symbol\"]:\n",
    "        trajectory.reward = 1\n",
    "    elif winner == game[\"opponent_symbol\"]:\n",
    "        trajectory.reward = 0\n",
    "    elif winner == \"draw\":\n",
    "        trajectory.reward = 0.5\n",
    "\n",
    "    try:\n",
    "        op_client.update_log_metadata(\n",
    "            filters=[\n",
    "                {\n",
    "                    \"field\": \"completionId\",\n",
    "                    \"equals\": last_completion.id,\n",
    "                }\n",
    "            ],\n",
    "            metadata={\n",
    "                \"reward\": str(trajectory.reward),\n",
    "                \"reward_assigned\": \"true\",\n",
    "            }\n",
    "        )\n",
    "    except Exception as e:\n",
    "        print(f\"Error updating log metadata: {e}\")\n",
    "\n",
    "    return trajectory\n",
    "\n",
    "\n",
    "for i in range(await model.get_iteration(), 50):\n",
    "    async with model.openai_client(\n",
    "        estimated_completion_tokens=100, verbosity=2\n",
    "    ) as openai_client:\n",
    "        val_groups, train_groups = await asyncio.gather(\n",
    "            art.gather_trajectories(\n",
    "                (\n",
    "                    (rollout(openai_client, i, is_validation=True) for _ in range(64))\n",
    "                    for _ in range(1)\n",
    "                ),\n",
    "                pbar_desc=\"val\",\n",
    "                stream_chat_completions=8,\n",
    "                return_exceptions=False,\n",
    "            ),\n",
    "            art.gather_trajectories(\n",
    "                (\n",
    "                    (rollout(openai_client, i, is_validation=False) for _ in range(512))\n",
    "                    for _ in range(1)\n",
    "                ),\n",
    "                pbar_desc=\"train\",\n",
    "                return_exceptions=False,\n",
    "            ),\n",
    "        )\n",
    "    await model.log(val_groups)\n",
    "    await model.clear_iterations()\n",
    "    await model.tune(\n",
    "        train_groups, config=art.TuneConfig(plot_tensors=True, verbosity=2)\n",
    "    )"
   ]
  }
 ],
 "metadata": {
  "kernelspec": {
   "display_name": ".venv",
   "language": "python",
   "name": "python3"
  },
  "language_info": {
   "codemirror_mode": {
    "name": "ipython",
    "version": 3
   },
   "file_extension": ".py",
   "mimetype": "text/x-python",
   "name": "python",
   "nbconvert_exporter": "python",
   "pygments_lexer": "ipython3",
   "version": "3.12.9"
  }
 },
 "nbformat": 4,
 "nbformat_minor": 2
}
